{
 "cells": [
  {
   "cell_type": "markdown",
   "id": "6a89130e",
   "metadata": {},
   "source": [
    "# Homework 2 MLE and Naive Bayes"
   ]
  },
  {
   "cell_type": "markdown",
   "id": "ebc7ab9b",
   "metadata": {},
   "source": [
    "## Instructions\n",
    "Answer the questions and upload your answers to courseville. Answers can be\n",
    "in Thai or English. Answers can be either typed or handwritten and scanned.\n",
    "the assignment is divided into several small tasks. Each task is weighted equally\n",
    "(marked with **T**). For this assignment, each task is awarded 1 points. There are\n",
    "also optional tasks (marked with **OT**) counts for 0.5 points each."
   ]
  },
  {
   "cell_type": "markdown",
   "id": "1b9d0dae",
   "metadata": {},
   "source": [
    "## MLE\n",
    "Consider the following very simple model for stock pricing. The price at the end\n",
    "of each day is the price of the previous day multiplied by a fixed, but unknown,\n",
    "rate of return, α, with some noise, w. For a two-day period, we can observe the\n",
    "following sequence <br>\n",
    "&emsp; $y_2 = \\alpha y_1 + w_1$ <br>\n",
    "&emsp; $y_1 = \\alpha y_0 + w_0$ <br>\n",
    "where the noises $w_0, w_1$ are iid with the distribution $N(0, \\sigma^2), y_0 ∼ N(0, \\lambda)$\n",
    "is independent of the noise sequence. $\\sigma^2$ and $\\lambda$ are known, while $\\alpha$ is unknown."
   ]
  },
  {
   "cell_type": "markdown",
   "id": "5200fe40",
   "metadata": {},
   "source": [
    "&emsp; **T1.** Find the MLE of the rate of return, α, given the observed price at\n",
    "the end of each day $y_2, y_1, y_0$. In other words, compute for the value of α that\n",
    "maximizes $p(y_2, y_1, y_0|\\alpha)$ <br>\n",
    "&emsp; **Hint:** This is a Markov process, e.g. $y_2$ is independent of $y_0$ given $y_1$.\n",
    "In general, a process is Markov if $p(y_n|y_{n−1}, y_{n−2}, ...) = p(y_n|y_{n−1})$. In other\n",
    "words, the present is independent of the past $(y_{n−2}, y_{n−3}, ...)$, conditioned on\n",
    "the immediate past $y_{n−1}$. You may also find the steps of the proof for logistic\n",
    "regression we did in class useful."
   ]
  },
  {
   "cell_type": "markdown",
   "id": "4afe5df8",
   "metadata": {},
   "source": [
    "\\begin{equation}\n",
    "\\begin{split}\n",
    "    & N(\\mu,\\sigma^2) & \\; = \\; & \\frac{e^{\\frac{-(x-\\mu)^2}{2\\sigma^2}}}{\\sqrt{2\\pi\\sigma^2}} \\\\\n",
    "    \\\n",
    "    \\\n",
    "    & P(y_0,y_1,y_2|\\alpha) & \\; = \\; & P(y_2|y_1)P(y_1|y_0)P(y_0|\\alpha) \\\\\n",
    "    & & \\; = \\; & \\\n",
    "    \\frac{e^{\\frac{-(y_2-\\alpha y_1)^2}{2\\sigma^2}}}{\\sqrt{2\\pi\\sigma^2}} \\\n",
    "    \\frac{e^{\\frac{-(y_1-\\alpha y_0)^2}{2\\sigma^2}}}{\\sqrt{2\\pi\\sigma^2}} \\\n",
    "    \\frac{e^{\\frac{-y_0^2}{2\\lambda}}}{\\sqrt{2\\pi\\lambda}} \\\\\n",
    "\\end{split}\n",
    "\\end{equation}"
   ]
  },
  {
   "cell_type": "markdown",
   "id": "cb7bd856",
   "metadata": {},
   "source": [
    "\\begin{equation}\n",
    "\\begin{split}\n",
    "    find \\;\\; argmax_\\alpha & \\; log \\; P(y_2,y_1,y_0|\\alpha) & \\\\\n",
    "    argmax_\\alpha &  \\; log \\;  P(y_2|y_1)P(y_1|y_0)P(y_0|\\alpha)  & \\\\\n",
    "    argmax_\\alpha & \\; \\left(\n",
    "        \\frac{-(y_2-\\alpha y_1)^2}{2\\sigma^2} + \\\n",
    "        \\frac{-(y_1-\\alpha y_0)^2}{2\\sigma^2} + \\\n",
    "        \\frac{-y_0^2}{2\\lambda}\\\n",
    "        \\right) \\\n",
    "        -log(\\sqrt{2\\pi\\sigma^2}\\sqrt{2\\pi\\sigma^2}\\sqrt{2\\pi\\lambda})\n",
    "        & \\\\\n",
    "    & \\frac{\\partial}{\\partial\\alpha} \\; log \\;  P(y_2|y_1)P(y_1|y_0)P(y_0|\\alpha) \\\n",
    "    = 0 = -\\frac{1}{\\sigma^2}(y_2-\\alpha y_1)(-y_1) -\\frac{1}{\\sigma^2}(y_1-\\alpha y_0)(-y_0) \\\\\n",
    "    & 0 = y_1(y_2-\\alpha y_1) + y_0(y_1-\\alpha y_0) = y_1y_2 + y_0y_2 - \\alpha y_1^2 - \\alpha y_0^2 \\\\\n",
    "    & \\alpha = \\frac{y_1y_2 + y_0y_1}{y_1^2+y_0^2} \\\\\n",
    "    \\therefore \\;\\; & argmax_\\alpha P(y_2,y_1,y_0|\\alpha) \\;\\;\\;\\; \\alpha = \\frac{y_1y_2 + y_0y_1}{y_1^2+y_0^2}\n",
    "\\end{split}\n",
    "\\end{equation}"
   ]
  },
  {
   "cell_type": "markdown",
   "id": "9568cbe3",
   "metadata": {},
   "source": [
    "&emsp; **OT1.** Consider the general case, where\n",
    "$$y_{n+1} = \\alpha y_n + w_n \\; , \\;\\;\\; n = 0,  1, 2, ...$$\n",
    "Find the MLE given the observed price $y_{N+1}, y_N , ..., y_0$"
   ]
  },
  {
   "cell_type": "markdown",
   "id": "610a4386",
   "metadata": {},
   "source": [
    "\\begin{equation}\n",
    "\\begin{split}\n",
    "    & N(\\mu,\\sigma^2) & \\; = \\; & \\frac{e^{\\frac{-(x-\\mu)^2}{2\\sigma^2}}}{\\sqrt{2\\pi\\sigma^2}} \\\\\n",
    "    \\\n",
    "    \\\n",
    "    & P(y_0,y_1,\\;...,y_{n+1}|\\alpha) & \\; = \\; & P(y_{n+1}|y_{n})P(y_n|y_{n-1}) \\cdots P(y_1|y_0)P(y_0|\\alpha) \\\\\n",
    "    & & \\; = \\; & \\\n",
    "    \\frac{e^{\\frac{-(y_{n+1}-\\alpha y_{n})^2}{2\\sigma^2}}}{\\sqrt{2\\pi\\sigma^2}} \\\n",
    "    \\frac{e^{\\frac{-(y_{n}-\\alpha y_{n-1})^2}{2\\sigma^2}}}{\\sqrt{2\\pi\\sigma^2}} \\\n",
    "    \\cdots\n",
    "    \\frac{e^{\\frac{-(y_1-\\alpha y_0)^2}{2\\sigma^2}}}{\\sqrt{2\\pi\\sigma^2}} \\\n",
    "    \\frac{e^{\\frac{-y_0^2}{2\\lambda}}}{\\sqrt{2\\pi\\lambda}} \\\\\n",
    "    & & \\; = \\; & \\\n",
    "    \\left(\\frac{1}{\\sqrt{2\\pi\\sigma^2}}\\right)^{n}\\frac{1}{\\sqrt{2\\pi\\lambda}}\\\n",
    "    exp\\left(\\\n",
    "        -\\frac{(y_{n+1}-\\alpha y_{n})^2}{2\\sigma^2}\\\n",
    "        -\\frac{(y_{n}-\\alpha y_{n-1})^2}{2\\sigma^2}\\\n",
    "        -\\cdots\\\n",
    "        -\\frac{(y_1-\\alpha y_0)^2}{2\\sigma^2}\\\n",
    "        -\\frac{y_0^2}{2\\lambda}\n",
    "    \\right)\n",
    "\\end{split}\n",
    "\\end{equation}"
   ]
  },
  {
   "cell_type": "markdown",
   "id": "0c0ae9fe",
   "metadata": {},
   "source": [
    "\\begin{equation}\n",
    "\\begin{split}\n",
    "    find \\;\\; argmax_\\alpha & \\; log \\; P(y_0,y_1,\\;...,y_{n+1}|\\alpha) & \\\\\n",
    "    argmax_\\alpha &  \\; log \\;   P(y_{n+1}|y_{n})P(y_{n}|y_{n-1}) \\cdots P(y_1|y_0)P(y_0|\\alpha)   & \\\\\n",
    "    argmax_\\alpha & \\; \\left(\n",
    "        -\\frac{(y_{n+1}-\\alpha y_{n})^2}{2\\sigma^2}\\\n",
    "        -\\frac{(y_{n}-\\alpha y_{n-1})^2}{2\\sigma^2}\\\n",
    "        -\\cdots\\\n",
    "        -\\frac{(y_1-\\alpha y_0)^2}{2\\sigma^2}\\\n",
    "        -\\frac{y_0^2}{2\\lambda}\n",
    "        \\right)\\\n",
    "        -log\\left(\\left(\n",
    "            \\sqrt{2\\pi\\sigma^2}\\right)^{n-1}\\sqrt{2\\pi\\lambda}\\right)\\\n",
    "        & \\\\\n",
    "    & \\frac{\\partial}{\\partial\\alpha} \\; log \\;  P(y_{n+1}|y_{n})P(y_{n}|y_{n-1}) \\cdots P(y_1|y_0)P(y_0|\\alpha) = 0 \\\\\n",
    "    & 0 =   -\\frac{1}{\\sigma^2}(y_{n+1}-\\alpha y_{n})(-y_{n}) \\\n",
    "            -\\frac{1}{\\sigma^2}(y_{n}-\\alpha y_{n-1})(-y_{n-1}) \\\n",
    "            - \\cdots \\\n",
    "            -\\frac{1}{\\sigma^2}(y_{1}-\\alpha y_{0})(-y_{0}) \\\\\n",
    "    & 0 =   \\left( y_{n+1}y_{n} + y_{n}y_{n-1} + \\cdots + y_{1}y_{0} \\right) \\\n",
    "            - \\alpha\\left( y_{n}^2 + y_{n-1}^2 + \\cdots + y_{0}^2 \\right) \\\\\n",
    "    & \\alpha = \\frac{\\left( y_{n+1}y_{n} + y_{n}y_{n-1} + \\cdots + y_{1}y_{0} \\right)}\n",
    "                {\\left( y_{n}^2 + y_{n-1}^2 + \\cdots + y_{0}^2 \\right)} \\\\\n",
    "    \\therefore \\;\\; & argmax_\\alpha P(y_0,y_1,\\;...,y_{n+1}|\\alpha) \\;\\;\\;\\; \\alpha = \\frac{\\sum_{i=0}^{n}y_{i+1}y_{i}}\n",
    "                {\\sum_{i=0}^{n}y_i^2} \\\\\n",
    "\\end{split}\n",
    "\\end{equation}"
   ]
  },
  {
   "cell_type": "markdown",
   "id": "d2f7caf0",
   "metadata": {},
   "source": [
    "## Simple Bayes Classifier\n",
    "A student in Pattern Recognition course had finally built the ultimate classifier\n",
    "for cat emotions. He used one input features: the amount of food the cat ate\n",
    "that day, x (Being a good student he already normalized x to standard Normal).\n",
    "He proposed the following likelihood probabilities for class 1 (happy cat) and 2\n",
    "(sad cat) <br>\n",
    "&emsp; $P(x|w_1) = N(5, 2)$ <br>\n",
    "&emsp; $P(x|w_2) = N(0, 2)$ "
   ]
  },
  {
   "cell_type": "markdown",
   "id": "b4b8a35f",
   "metadata": {},
   "source": [
    "&emsp; **T2.** Plot the posteriors values of the two classes on the same axis. Using the\n",
    "likelihood ratio test, what is the decision boundary for this classifier? Assume\n",
    "equal prior probabilities."
   ]
  },
  {
   "cell_type": "code",
   "execution_count": 1,
   "id": "5b240bd2",
   "metadata": {},
   "outputs": [],
   "source": [
    "import numpy as np\n",
    "import pandas as pd\n",
    "from sklearn.model_selection import train_test_split\n",
    "from matplotlib import pyplot as plt\n",
    "from scipy.stats import norm, multinomial, kde"
   ]
  },
  {
   "cell_type": "code",
   "execution_count": 2,
   "id": "bc7b12c6",
   "metadata": {},
   "outputs": [
    {
     "data": {
      "image/png": "[encoded data removed]",
      "text/plain": [
       "<Figure size 432x288 with 1 Axes>"
      ]
     },
     "metadata": {
      "needs_background": "light"
     },
     "output_type": "display_data"
    },
    {
     "name": "stdout",
     "output_type": "stream",
     "text": [
      "descision boundary: 2.5\n"
     ]
    }
   ],
   "source": [
    "def gaussian(X, mean=0, variance=1):\n",
    "    return  np.exp(-(X-mean)**2/(2*variance))/np.sqrt(2*np.pi*variance)\n",
    "\n",
    "mu_w1 = 5; mu_w2 = 0; variance = 2\n",
    "prior_w1 = prior_w2 = 0.5\n",
    "desc_boundary = (mu_w1+mu_w2)/2 - (variance**2*(np.log(prior_w1)-np.log(prior_w2))/(mu_w1-mu_w2))\n",
    "\n",
    "X = np.linspace(-6, 12, 100)\n",
    "Y_w1 = prior_w1*gaussian(X, mu_w1, variance)\n",
    "Y_w2 = prior_w2*gaussian(X, mu_w2, variance)\n",
    "plt.plot(X,Y_w1,\"r\")\n",
    "plt.plot(X,Y_w2,\"b\")\n",
    "plt.legend(['P(w1|x)', 'P(w2|x)'])\n",
    "plt.title(\"x - P(wi|x) graph\")\n",
    "plt.xlabel(\"x\")\n",
    "plt.ylabel(\"P(wi|x)\")\n",
    "plt.fill_between(X, prior_w1*gaussian(X, mean=5, variance=2), 0,\n",
    "                 where = (X >= -6) & (X <= desc_boundary),\n",
    "                 color = 'r')\n",
    "plt.fill_between(X, prior_w1*gaussian(X, mean=0, variance=2), 0,\n",
    "                 where = (X >= desc_boundary) & (X <= 12),\n",
    "                 color = 'b')\n",
    "plt.show()\n",
    "print(\"descision boundary:\", desc_boundary)"
   ]
  },
  {
   "cell_type": "markdown",
   "id": "3ecf9a8d",
   "metadata": {},
   "source": [
    "&emsp; **T3.** What happen to the decision boundary if the cat is happy with a prior of\n",
    "0.8?"
   ]
  },
  {
   "cell_type": "code",
   "execution_count": 3,
   "id": "fd0048fa",
   "metadata": {},
   "outputs": [
    {
     "data": {
      "image/png": "[encoded data removed]",
      "text/plain": [
       "<Figure size 432x288 with 1 Axes>"
      ]
     },
     "metadata": {
      "needs_background": "light"
     },
     "output_type": "display_data"
    },
    {
     "name": "stdout",
     "output_type": "stream",
     "text": [
      "descision boundary: 1.9454822555520437\n"
     ]
    }
   ],
   "source": [
    "mu_w1 = 5; mu_w2 = 0; variance = 2\n",
    "prior_w1 = 0.8; prior_w2 = 0.2\n",
    "desc_boundary = (mu_w1 + mu_w2)/2 - variance*((np.log(prior_w1) - np.log(prior_w2))/(mu_w1-mu_w2))\n",
    "\n",
    "X = np.linspace(-6, 12, 100)\n",
    "Y_w1 = prior_w1*gaussian(X, mu_w1, variance)\n",
    "Y_w2 = prior_w2*gaussian(X, mu_w2, variance)\n",
    "plt.plot(X,Y_w1,\"r\")\n",
    "plt.plot(X,Y_w2,\"b\")\n",
    "plt.legend(['P(x|w1)', 'P(x|w2)'])\n",
    "plt.title(\"x - P(x|wi) graph\")\n",
    "plt.xlabel(\"x\")\n",
    "plt.ylabel(\"P(x|wi)\")\n",
    "plt.fill_between(X, prior_w1*gaussian(X, mu_w1, variance), 0,\n",
    "                 where = (X >= -6) & (X <= desc_boundary),\n",
    "                 color = 'r')\n",
    "plt.fill_between(X, prior_w2*gaussian(X, mu_w2, variance), 0,\n",
    "                 where = (X >= desc_boundary) & (X <= 12),\n",
    "                 color = 'b')\n",
    "plt.show()\n",
    "print(\"descision boundary:\", desc_boundary)"
   ]
  },
  {
   "cell_type": "markdown",
   "id": "a48b484b",
   "metadata": {},
   "source": [
    "&emsp; **OT2.** For the ordinary case of $P(x|w_1) = N(\\mu_1, \\sigma^2), P(x|w_2) = N(\\mu_2, \\sigma^2),\n",
    "p(w_1) = p(w_2) = 0.5$, prove that the decision boundary is at $x = \\frac{\\mu_1 + \\mu_2}{2}$ <br>\n",
    "If the student changed his model to <br>\n",
    "$P(x|w_1) = N(5, 2)$ <br>\n",
    "$P(x|w_2) = N(0, 4)$"
   ]
  },
  {
   "cell_type": "markdown",
   "id": "690c31ee",
   "metadata": {},
   "source": [
    "\\begin{equation}\n",
    "\\begin{split}\n",
    "    P(x|w_1)P(w_1) & \\;\\; = \\;\\; & P(x|w_2)P(w_2) \\\\\n",
    "    \\frac{exp\\left( -\\frac{(x-\\mu_1)^2}{\\sigma^2} \\right)}{\\sqrt{2\\pi\\sigma^2}}P(w_1) & \\;\\; = \\;\\; & \\\n",
    "    \\frac{exp\\left( -\\frac{(x-\\mu_2)^2}{\\sigma^2} \\right)}{\\sqrt{2\\pi\\sigma^2}}P(w_2)\\\\\n",
    "    exp\\left( -\\frac{(x-\\mu_1)^2}{\\sigma^2} \\right) & \\;\\; = \\;\\; & exp\\left( -\\frac{(x-\\mu_2)^2}{\\sigma^2} \\right)\\\\\n",
    "    -\\frac{(x-\\mu_1)^2}{\\sigma^2} & \\;\\; = \\;\\; & -\\frac{(x-\\mu_2)^2}{\\sigma^2} \\\\\n",
    "    (x-\\mu_1)^2-(x-\\mu_2)^2 & \\;\\; = \\;\\; & 0 \\\\\n",
    "    (2x-\\mu_1-\\mu_2)(\\mu_2+\\mu_1) & \\;\\; = \\;\\; & 0 \\\\\n",
    "    2x-\\mu_1-\\mu_2 & \\;\\; = \\;\\; & 0 \\\\\n",
    "    x & \\;\\; = \\;\\; & \\frac{\\mu_1 + \\mu_2}{2} \\\\\n",
    "\\end{split}\n",
    "\\end{equation}"
   ]
  },
  {
   "cell_type": "markdown",
   "id": "7166a087",
   "metadata": {},
   "source": [
    "&emsp;&emsp; $\\bullet$ Plot the posteriors values of the two classes on the same axis. What is the\n",
    "decision boundary for this classifier? Assume equal prior probabilities."
   ]
  },
  {
   "cell_type": "code",
   "execution_count": 4,
   "id": "046e9e32",
   "metadata": {},
   "outputs": [
    {
     "data": {
      "image/png": "[encoded data removed]",
      "text/plain": [
       "<Figure size 432x288 with 1 Axes>"
      ]
     },
     "metadata": {
      "needs_background": "light"
     },
     "output_type": "display_data"
    },
    {
     "name": "stdout",
     "output_type": "stream",
     "text": [
      "descision boundary: 2.735525571506237\n"
     ]
    }
   ],
   "source": [
    "mu_w1 = 5; mu_w2 = 0; variance_1 = 2; variance_2 = 4\n",
    "prior_w1 = 0.5; prior_w2 = 0.5\n",
    "\n",
    "# from a long long equation of decision boundary from any 2 gaussian distributions N(mu_1,var_1), N(mu_2,var_2)\n",
    "# throw the equation in wolframalpha\n",
    "# we get x = 10 - sqrt( 50 + ln(16) )\n",
    "desc_boundary = 10 - np.sqrt( 50 + np.log(16) )\n",
    "\n",
    "X = np.linspace(-6, 12, 100)\n",
    "Y_w1 = prior_w1*gaussian(X, mu_w1, variance_1)\n",
    "Y_w2 = prior_w2*gaussian(X, mu_w2, variance_2)\n",
    "plt.plot(X,Y_w1,\"r\")\n",
    "plt.plot(X,Y_w2,\"b\")\n",
    "plt.legend(['P(x|w1)', 'P(x|w2)'])\n",
    "plt.title(\"x - P(x|wi) graph\")\n",
    "plt.xlabel(\"x\")\n",
    "plt.ylabel(\"P(x|wi)\")\n",
    "plt.fill_between(X, prior_w1*gaussian(X, mu_w1, variance_1), 0,\n",
    "                 where = (X >= -6) & (X <= desc_boundary),\n",
    "                 color = 'r')\n",
    "plt.fill_between(X, prior_w2*gaussian(X, mu_w2, variance_2), 0,\n",
    "                 where = (X >= desc_boundary) & (X <= 12),\n",
    "                 color = 'b')\n",
    "plt.show()\n",
    "print(\"descision boundary:\", desc_boundary)"
   ]
  },
  {
   "cell_type": "markdown",
   "id": "3b610b0e",
   "metadata": {},
   "source": [
    "## Employee Attrition Prediction\n",
    "### The data\n",
    "For each employee, 34 features are provided. We will use these features to predict each employee attrition e.g whether the employee will leave the company (**yes** for leaving, no for staying) <br>\n",
    "Notable features are:\n",
    "- Education: 1 ’Below College’, 2 ’College’, 3 ’Bachelor’, 4 ’Master’, 5 ’Doctor’.\n",
    "- Environment Satisfaction: 1 ’Low’, 2 ’Medium’, 3 ’High’, 4 ’Very High’.\n",
    "- Job Involvement: 1 ’Low’, 2 ’Medium’, 3 ’High’, 4 ’Very High’.\n",
    "- Job Satisfaction: 1 ’Low’, 2 ’Medium’, 3 ’High’, 4 ’Very High’.\n",
    "- Performance Rating: 1 ’Low’, 2 ’Good’, 3 ’Excellent’, 4 ’Outstanding’.\n",
    "- Relationship Satisfaction: 1 ’Low’, 2 ’Medium’, 3 ’High’, 4 ’Very High’.\n",
    "- WorkLifeBalance: 1 ’Bad’, 2 ’Good’, 3 ’Better’, 4 ’Best’."
   ]
  },
  {
   "cell_type": "markdown",
   "id": "d24e8f4a",
   "metadata": {},
   "source": [
    "### The database\n",
    "First let’s look at the given data file **hr-employee-attrition-with-null.csv.**\n",
    "Load the data using pandas. Use describe() and head() to get a sense of what\n",
    "the data is like. Our target of prediction is **Attrition**. Other columns are our\n",
    "input features."
   ]
  },
  {
   "cell_type": "code",
   "execution_count": 5,
   "id": "de6cac2d",
   "metadata": {
    "scrolled": true
   },
   "outputs": [],
   "source": [
    "df = pd.read_csv(\"https://raw.githubusercontent.com/ekapolc/pattern_2022/main/HW/HW02/hr-employee-attrition-with-null.csv\").drop([\"Unnamed: 0\"],axis=1)"
   ]
  },
  {
   "cell_type": "code",
   "execution_count": 6,
   "id": "816f20e6",
   "metadata": {
    "scrolled": true
   },
   "outputs": [
    {
     "data": {
      "text/html": [
       "<div>\n",
       "<style scoped>\n",
       "    .dataframe tbody tr th:only-of-type {\n",
       "        vertical-align: middle;\n",
       "    }\n",
       "\n",
       "    .dataframe tbody tr th {\n",
       "        vertical-align: top;\n",
       "    }\n",
       "\n",
       "    .dataframe thead th {\n",
       "        text-align: right;\n",
       "    }\n",
       "</style>\n",
       "<table border=\"1\" class=\"dataframe\">\n",
       "  <thead>\n",
       "    <tr style=\"text-align: right;\">\n",
       "      <th></th>\n",
       "      <th>Age</th>\n",
       "      <th>Attrition</th>\n",
       "      <th>BusinessTravel</th>\n",
       "      <th>DailyRate</th>\n",
       "      <th>Department</th>\n",
       "      <th>DistanceFromHome</th>\n",
       "      <th>Education</th>\n",
       "      <th>EducationField</th>\n",
       "      <th>EmployeeCount</th>\n",
       "      <th>EmployeeNumber</th>\n",
       "      <th>...</th>\n",
       "      <th>RelationshipSatisfaction</th>\n",
       "      <th>StandardHours</th>\n",
       "      <th>StockOptionLevel</th>\n",
       "      <th>TotalWorkingYears</th>\n",
       "      <th>TrainingTimesLastYear</th>\n",
       "      <th>WorkLifeBalance</th>\n",
       "      <th>YearsAtCompany</th>\n",
       "      <th>YearsInCurrentRole</th>\n",
       "      <th>YearsSinceLastPromotion</th>\n",
       "      <th>YearsWithCurrManager</th>\n",
       "    </tr>\n",
       "  </thead>\n",
       "  <tbody>\n",
       "    <tr>\n",
       "      <th>0</th>\n",
       "      <td>41.0</td>\n",
       "      <td>Yes</td>\n",
       "      <td>Travel_Rarely</td>\n",
       "      <td>NaN</td>\n",
       "      <td>NaN</td>\n",
       "      <td>1.0</td>\n",
       "      <td>NaN</td>\n",
       "      <td>Life Sciences</td>\n",
       "      <td>1.0</td>\n",
       "      <td>1.0</td>\n",
       "      <td>...</td>\n",
       "      <td>1.0</td>\n",
       "      <td>80.0</td>\n",
       "      <td>0.0</td>\n",
       "      <td>8.0</td>\n",
       "      <td>0.0</td>\n",
       "      <td>NaN</td>\n",
       "      <td>6.0</td>\n",
       "      <td>NaN</td>\n",
       "      <td>0.0</td>\n",
       "      <td>NaN</td>\n",
       "    </tr>\n",
       "    <tr>\n",
       "      <th>1</th>\n",
       "      <td>NaN</td>\n",
       "      <td>No</td>\n",
       "      <td>NaN</td>\n",
       "      <td>279.0</td>\n",
       "      <td>Research &amp; Development</td>\n",
       "      <td>NaN</td>\n",
       "      <td>NaN</td>\n",
       "      <td>Life Sciences</td>\n",
       "      <td>1.0</td>\n",
       "      <td>2.0</td>\n",
       "      <td>...</td>\n",
       "      <td>4.0</td>\n",
       "      <td>NaN</td>\n",
       "      <td>1.0</td>\n",
       "      <td>10.0</td>\n",
       "      <td>NaN</td>\n",
       "      <td>3.0</td>\n",
       "      <td>10.0</td>\n",
       "      <td>NaN</td>\n",
       "      <td>NaN</td>\n",
       "      <td>7.0</td>\n",
       "    </tr>\n",
       "    <tr>\n",
       "      <th>2</th>\n",
       "      <td>37.0</td>\n",
       "      <td>Yes</td>\n",
       "      <td>NaN</td>\n",
       "      <td>1373.0</td>\n",
       "      <td>NaN</td>\n",
       "      <td>2.0</td>\n",
       "      <td>2.0</td>\n",
       "      <td>NaN</td>\n",
       "      <td>1.0</td>\n",
       "      <td>4.0</td>\n",
       "      <td>...</td>\n",
       "      <td>NaN</td>\n",
       "      <td>80.0</td>\n",
       "      <td>0.0</td>\n",
       "      <td>7.0</td>\n",
       "      <td>3.0</td>\n",
       "      <td>NaN</td>\n",
       "      <td>NaN</td>\n",
       "      <td>0.0</td>\n",
       "      <td>NaN</td>\n",
       "      <td>0.0</td>\n",
       "    </tr>\n",
       "    <tr>\n",
       "      <th>3</th>\n",
       "      <td>NaN</td>\n",
       "      <td>No</td>\n",
       "      <td>Travel_Frequently</td>\n",
       "      <td>1392.0</td>\n",
       "      <td>Research &amp; Development</td>\n",
       "      <td>3.0</td>\n",
       "      <td>4.0</td>\n",
       "      <td>Life Sciences</td>\n",
       "      <td>NaN</td>\n",
       "      <td>NaN</td>\n",
       "      <td>...</td>\n",
       "      <td>3.0</td>\n",
       "      <td>NaN</td>\n",
       "      <td>NaN</td>\n",
       "      <td>8.0</td>\n",
       "      <td>3.0</td>\n",
       "      <td>NaN</td>\n",
       "      <td>8.0</td>\n",
       "      <td>NaN</td>\n",
       "      <td>3.0</td>\n",
       "      <td>0.0</td>\n",
       "    </tr>\n",
       "    <tr>\n",
       "      <th>4</th>\n",
       "      <td>27.0</td>\n",
       "      <td>No</td>\n",
       "      <td>Travel_Rarely</td>\n",
       "      <td>591.0</td>\n",
       "      <td>Research &amp; Development</td>\n",
       "      <td>2.0</td>\n",
       "      <td>1.0</td>\n",
       "      <td>Medical</td>\n",
       "      <td>1.0</td>\n",
       "      <td>7.0</td>\n",
       "      <td>...</td>\n",
       "      <td>4.0</td>\n",
       "      <td>80.0</td>\n",
       "      <td>1.0</td>\n",
       "      <td>6.0</td>\n",
       "      <td>NaN</td>\n",
       "      <td>3.0</td>\n",
       "      <td>2.0</td>\n",
       "      <td>2.0</td>\n",
       "      <td>2.0</td>\n",
       "      <td>NaN</td>\n",
       "    </tr>\n",
       "  </tbody>\n",
       "</table>\n",
       "<p>5 rows × 35 columns</p>\n",
       "</div>"
      ],
      "text/plain": [
       "    Age Attrition     BusinessTravel  DailyRate              Department  \\\n",
       "0  41.0       Yes      Travel_Rarely        NaN                     NaN   \n",
       "1   NaN        No                NaN      279.0  Research & Development   \n",
       "2  37.0       Yes                NaN     1373.0                     NaN   \n",
       "3   NaN        No  Travel_Frequently     1392.0  Research & Development   \n",
       "4  27.0        No      Travel_Rarely      591.0  Research & Development   \n",
       "\n",
       "   DistanceFromHome  Education EducationField  EmployeeCount  EmployeeNumber  \\\n",
       "0               1.0        NaN  Life Sciences            1.0             1.0   \n",
       "1               NaN        NaN  Life Sciences            1.0             2.0   \n",
       "2               2.0        2.0            NaN            1.0             4.0   \n",
       "3               3.0        4.0  Life Sciences            NaN             NaN   \n",
       "4               2.0        1.0        Medical            1.0             7.0   \n",
       "\n",
       "   ...  RelationshipSatisfaction StandardHours  StockOptionLevel  \\\n",
       "0  ...                       1.0          80.0               0.0   \n",
       "1  ...                       4.0           NaN               1.0   \n",
       "2  ...                       NaN          80.0               0.0   \n",
       "3  ...                       3.0           NaN               NaN   \n",
       "4  ...                       4.0          80.0               1.0   \n",
       "\n",
       "   TotalWorkingYears  TrainingTimesLastYear WorkLifeBalance  YearsAtCompany  \\\n",
       "0                8.0                    0.0             NaN             6.0   \n",
       "1               10.0                    NaN             3.0            10.0   \n",
       "2                7.0                    3.0             NaN             NaN   \n",
       "3                8.0                    3.0             NaN             8.0   \n",
       "4                6.0                    NaN             3.0             2.0   \n",
       "\n",
       "  YearsInCurrentRole  YearsSinceLastPromotion  YearsWithCurrManager  \n",
       "0                NaN                      0.0                   NaN  \n",
       "1                NaN                      NaN                   7.0  \n",
       "2                0.0                      NaN                   0.0  \n",
       "3                NaN                      3.0                   0.0  \n",
       "4                2.0                      2.0                   NaN  \n",
       "\n",
       "[5 rows x 35 columns]"
      ]
     },
     "execution_count": 6,
     "metadata": {},
     "output_type": "execute_result"
    }
   ],
   "source": [
    "df.head()"
   ]
  },
  {
   "cell_type": "code",
   "execution_count": 7,
   "id": "44c0476a",
   "metadata": {
    "scrolled": true
   },
   "outputs": [
    {
     "data": {
      "text/html": [
       "<div>\n",
       "<style scoped>\n",
       "    .dataframe tbody tr th:only-of-type {\n",
       "        vertical-align: middle;\n",
       "    }\n",
       "\n",
       "    .dataframe tbody tr th {\n",
       "        vertical-align: top;\n",
       "    }\n",
       "\n",
       "    .dataframe thead th {\n",
       "        text-align: right;\n",
       "    }\n",
       "</style>\n",
       "<table border=\"1\" class=\"dataframe\">\n",
       "  <thead>\n",
       "    <tr style=\"text-align: right;\">\n",
       "      <th></th>\n",
       "      <th>Age</th>\n",
       "      <th>DailyRate</th>\n",
       "      <th>DistanceFromHome</th>\n",
       "      <th>Education</th>\n",
       "      <th>EmployeeCount</th>\n",
       "      <th>EmployeeNumber</th>\n",
       "      <th>EnvironmentSatisfaction</th>\n",
       "      <th>HourlyRate</th>\n",
       "      <th>JobInvolvement</th>\n",
       "      <th>JobLevel</th>\n",
       "      <th>...</th>\n",
       "      <th>RelationshipSatisfaction</th>\n",
       "      <th>StandardHours</th>\n",
       "      <th>StockOptionLevel</th>\n",
       "      <th>TotalWorkingYears</th>\n",
       "      <th>TrainingTimesLastYear</th>\n",
       "      <th>WorkLifeBalance</th>\n",
       "      <th>YearsAtCompany</th>\n",
       "      <th>YearsInCurrentRole</th>\n",
       "      <th>YearsSinceLastPromotion</th>\n",
       "      <th>YearsWithCurrManager</th>\n",
       "    </tr>\n",
       "  </thead>\n",
       "  <tbody>\n",
       "    <tr>\n",
       "      <th>count</th>\n",
       "      <td>1176.000000</td>\n",
       "      <td>1176.000000</td>\n",
       "      <td>1176.00000</td>\n",
       "      <td>1176.000000</td>\n",
       "      <td>1176.0</td>\n",
       "      <td>1176.000000</td>\n",
       "      <td>1176.000000</td>\n",
       "      <td>1176.000000</td>\n",
       "      <td>1176.000000</td>\n",
       "      <td>1176.000000</td>\n",
       "      <td>...</td>\n",
       "      <td>1176.000000</td>\n",
       "      <td>1176.0</td>\n",
       "      <td>1176.000000</td>\n",
       "      <td>1176.000000</td>\n",
       "      <td>1176.000000</td>\n",
       "      <td>1176.000000</td>\n",
       "      <td>1176.000000</td>\n",
       "      <td>1176.000000</td>\n",
       "      <td>1176.000000</td>\n",
       "      <td>1176.000000</td>\n",
       "    </tr>\n",
       "    <tr>\n",
       "      <th>mean</th>\n",
       "      <td>37.134354</td>\n",
       "      <td>798.875850</td>\n",
       "      <td>9.37500</td>\n",
       "      <td>2.920918</td>\n",
       "      <td>1.0</td>\n",
       "      <td>1031.399660</td>\n",
       "      <td>2.733844</td>\n",
       "      <td>65.821429</td>\n",
       "      <td>2.728741</td>\n",
       "      <td>2.072279</td>\n",
       "      <td>...</td>\n",
       "      <td>2.694728</td>\n",
       "      <td>80.0</td>\n",
       "      <td>0.752551</td>\n",
       "      <td>11.295068</td>\n",
       "      <td>2.787415</td>\n",
       "      <td>2.770408</td>\n",
       "      <td>7.067177</td>\n",
       "      <td>4.290816</td>\n",
       "      <td>2.159014</td>\n",
       "      <td>4.096939</td>\n",
       "    </tr>\n",
       "    <tr>\n",
       "      <th>std</th>\n",
       "      <td>9.190317</td>\n",
       "      <td>406.957684</td>\n",
       "      <td>8.23049</td>\n",
       "      <td>1.028796</td>\n",
       "      <td>0.0</td>\n",
       "      <td>601.188955</td>\n",
       "      <td>1.092992</td>\n",
       "      <td>20.317323</td>\n",
       "      <td>0.705280</td>\n",
       "      <td>1.105828</td>\n",
       "      <td>...</td>\n",
       "      <td>1.093660</td>\n",
       "      <td>0.0</td>\n",
       "      <td>0.822550</td>\n",
       "      <td>7.783376</td>\n",
       "      <td>1.290507</td>\n",
       "      <td>0.705004</td>\n",
       "      <td>6.127836</td>\n",
       "      <td>3.630901</td>\n",
       "      <td>3.163524</td>\n",
       "      <td>3.537393</td>\n",
       "    </tr>\n",
       "    <tr>\n",
       "      <th>min</th>\n",
       "      <td>18.000000</td>\n",
       "      <td>102.000000</td>\n",
       "      <td>1.00000</td>\n",
       "      <td>1.000000</td>\n",
       "      <td>1.0</td>\n",
       "      <td>1.000000</td>\n",
       "      <td>1.000000</td>\n",
       "      <td>30.000000</td>\n",
       "      <td>1.000000</td>\n",
       "      <td>1.000000</td>\n",
       "      <td>...</td>\n",
       "      <td>1.000000</td>\n",
       "      <td>80.0</td>\n",
       "      <td>0.000000</td>\n",
       "      <td>0.000000</td>\n",
       "      <td>0.000000</td>\n",
       "      <td>1.000000</td>\n",
       "      <td>0.000000</td>\n",
       "      <td>0.000000</td>\n",
       "      <td>0.000000</td>\n",
       "      <td>0.000000</td>\n",
       "    </tr>\n",
       "    <tr>\n",
       "      <th>25%</th>\n",
       "      <td>30.000000</td>\n",
       "      <td>457.750000</td>\n",
       "      <td>2.00000</td>\n",
       "      <td>2.000000</td>\n",
       "      <td>1.0</td>\n",
       "      <td>494.750000</td>\n",
       "      <td>2.000000</td>\n",
       "      <td>48.000000</td>\n",
       "      <td>2.000000</td>\n",
       "      <td>1.000000</td>\n",
       "      <td>...</td>\n",
       "      <td>2.000000</td>\n",
       "      <td>80.0</td>\n",
       "      <td>0.000000</td>\n",
       "      <td>6.000000</td>\n",
       "      <td>2.000000</td>\n",
       "      <td>2.000000</td>\n",
       "      <td>3.000000</td>\n",
       "      <td>2.000000</td>\n",
       "      <td>0.000000</td>\n",
       "      <td>2.000000</td>\n",
       "    </tr>\n",
       "    <tr>\n",
       "      <th>50%</th>\n",
       "      <td>36.000000</td>\n",
       "      <td>798.500000</td>\n",
       "      <td>7.00000</td>\n",
       "      <td>3.000000</td>\n",
       "      <td>1.0</td>\n",
       "      <td>1027.500000</td>\n",
       "      <td>3.000000</td>\n",
       "      <td>66.000000</td>\n",
       "      <td>3.000000</td>\n",
       "      <td>2.000000</td>\n",
       "      <td>...</td>\n",
       "      <td>3.000000</td>\n",
       "      <td>80.0</td>\n",
       "      <td>1.000000</td>\n",
       "      <td>10.000000</td>\n",
       "      <td>3.000000</td>\n",
       "      <td>3.000000</td>\n",
       "      <td>5.000000</td>\n",
       "      <td>3.000000</td>\n",
       "      <td>1.000000</td>\n",
       "      <td>3.000000</td>\n",
       "    </tr>\n",
       "    <tr>\n",
       "      <th>75%</th>\n",
       "      <td>43.000000</td>\n",
       "      <td>1168.250000</td>\n",
       "      <td>15.00000</td>\n",
       "      <td>4.000000</td>\n",
       "      <td>1.0</td>\n",
       "      <td>1562.250000</td>\n",
       "      <td>4.000000</td>\n",
       "      <td>84.000000</td>\n",
       "      <td>3.000000</td>\n",
       "      <td>3.000000</td>\n",
       "      <td>...</td>\n",
       "      <td>4.000000</td>\n",
       "      <td>80.0</td>\n",
       "      <td>1.000000</td>\n",
       "      <td>15.000000</td>\n",
       "      <td>3.000000</td>\n",
       "      <td>3.000000</td>\n",
       "      <td>10.000000</td>\n",
       "      <td>7.000000</td>\n",
       "      <td>2.250000</td>\n",
       "      <td>7.000000</td>\n",
       "    </tr>\n",
       "    <tr>\n",
       "      <th>max</th>\n",
       "      <td>60.000000</td>\n",
       "      <td>1499.000000</td>\n",
       "      <td>29.00000</td>\n",
       "      <td>5.000000</td>\n",
       "      <td>1.0</td>\n",
       "      <td>2068.000000</td>\n",
       "      <td>4.000000</td>\n",
       "      <td>100.000000</td>\n",
       "      <td>4.000000</td>\n",
       "      <td>5.000000</td>\n",
       "      <td>...</td>\n",
       "      <td>4.000000</td>\n",
       "      <td>80.0</td>\n",
       "      <td>3.000000</td>\n",
       "      <td>40.000000</td>\n",
       "      <td>6.000000</td>\n",
       "      <td>4.000000</td>\n",
       "      <td>37.000000</td>\n",
       "      <td>18.000000</td>\n",
       "      <td>15.000000</td>\n",
       "      <td>17.000000</td>\n",
       "    </tr>\n",
       "  </tbody>\n",
       "</table>\n",
       "<p>8 rows × 26 columns</p>\n",
       "</div>"
      ],
      "text/plain": [
       "               Age    DailyRate  DistanceFromHome    Education  EmployeeCount  \\\n",
       "count  1176.000000  1176.000000        1176.00000  1176.000000         1176.0   \n",
       "mean     37.134354   798.875850           9.37500     2.920918            1.0   \n",
       "std       9.190317   406.957684           8.23049     1.028796            0.0   \n",
       "min      18.000000   102.000000           1.00000     1.000000            1.0   \n",
       "25%      30.000000   457.750000           2.00000     2.000000            1.0   \n",
       "50%      36.000000   798.500000           7.00000     3.000000            1.0   \n",
       "75%      43.000000  1168.250000          15.00000     4.000000            1.0   \n",
       "max      60.000000  1499.000000          29.00000     5.000000            1.0   \n",
       "\n",
       "       EmployeeNumber  EnvironmentSatisfaction   HourlyRate  JobInvolvement  \\\n",
       "count     1176.000000              1176.000000  1176.000000     1176.000000   \n",
       "mean      1031.399660                 2.733844    65.821429        2.728741   \n",
       "std        601.188955                 1.092992    20.317323        0.705280   \n",
       "min          1.000000                 1.000000    30.000000        1.000000   \n",
       "25%        494.750000                 2.000000    48.000000        2.000000   \n",
       "50%       1027.500000                 3.000000    66.000000        3.000000   \n",
       "75%       1562.250000                 4.000000    84.000000        3.000000   \n",
       "max       2068.000000                 4.000000   100.000000        4.000000   \n",
       "\n",
       "          JobLevel  ...  RelationshipSatisfaction  StandardHours  \\\n",
       "count  1176.000000  ...               1176.000000         1176.0   \n",
       "mean      2.072279  ...                  2.694728           80.0   \n",
       "std       1.105828  ...                  1.093660            0.0   \n",
       "min       1.000000  ...                  1.000000           80.0   \n",
       "25%       1.000000  ...                  2.000000           80.0   \n",
       "50%       2.000000  ...                  3.000000           80.0   \n",
       "75%       3.000000  ...                  4.000000           80.0   \n",
       "max       5.000000  ...                  4.000000           80.0   \n",
       "\n",
       "       StockOptionLevel  TotalWorkingYears  TrainingTimesLastYear  \\\n",
       "count       1176.000000        1176.000000            1176.000000   \n",
       "mean           0.752551          11.295068               2.787415   \n",
       "std            0.822550           7.783376               1.290507   \n",
       "min            0.000000           0.000000               0.000000   \n",
       "25%            0.000000           6.000000               2.000000   \n",
       "50%            1.000000          10.000000               3.000000   \n",
       "75%            1.000000          15.000000               3.000000   \n",
       "max            3.000000          40.000000               6.000000   \n",
       "\n",
       "       WorkLifeBalance  YearsAtCompany  YearsInCurrentRole  \\\n",
       "count      1176.000000     1176.000000         1176.000000   \n",
       "mean          2.770408        7.067177            4.290816   \n",
       "std           0.705004        6.127836            3.630901   \n",
       "min           1.000000        0.000000            0.000000   \n",
       "25%           2.000000        3.000000            2.000000   \n",
       "50%           3.000000        5.000000            3.000000   \n",
       "75%           3.000000       10.000000            7.000000   \n",
       "max           4.000000       37.000000           18.000000   \n",
       "\n",
       "       YearsSinceLastPromotion  YearsWithCurrManager  \n",
       "count              1176.000000           1176.000000  \n",
       "mean                  2.159014              4.096939  \n",
       "std                   3.163524              3.537393  \n",
       "min                   0.000000              0.000000  \n",
       "25%                   0.000000              2.000000  \n",
       "50%                   1.000000              3.000000  \n",
       "75%                   2.250000              7.000000  \n",
       "max                  15.000000             17.000000  \n",
       "\n",
       "[8 rows x 26 columns]"
      ]
     },
     "execution_count": 7,
     "metadata": {},
     "output_type": "execute_result"
    }
   ],
   "source": [
    "df.describe()"
   ]
  },
  {
   "cell_type": "markdown",
   "id": "e4a3befa",
   "metadata": {},
   "source": [
    "### Data cleaning\n",
    "There are many missing values in this database. They are represented with\n",
    "NaN. In the previous homework, we filled the missing values with the mean,\n",
    "median, or mode values. That is because classifiers such as logistic regression\n",
    "cannot deal with missing feature values. However, for the case of Naive Bayes\n",
    "which we will use in this homework compares $\\prod_{i} p(x_i|class)$ and treat each $x_i$\n",
    "as independent features. Thus, if a feature i is missing, we can drop that term\n",
    "from the comparison without having to guess what the missing feature is.\n",
    "First, convert the yes and no in this data table to 1 and 0. Then, we have to\n",
    "convert each categorical feature to number."
   ]
  },
  {
   "cell_type": "raw",
   "id": "15085a2f",
   "metadata": {},
   "source": [
    "all.loc[all[\"Attrition\"] == \"no\", \"Attrition\"] = 0.0\n",
    "all.loc[all[\"Attrition\"] == \"yes\", \"Attrition\"] = 1.0\n",
    "for col in cat_cols:\n",
    "    all[col] = pd.Categorical(all[col]).codes"
   ]
  },
  {
   "cell_type": "code",
   "execution_count": 8,
   "id": "4acd90e6",
   "metadata": {},
   "outputs": [],
   "source": [
    "df.loc[df[\"Attrition\"] == \"no\", \"Attrition\"] = 0.0\n",
    "df.loc[df[\"Attrition\"] == \"yes\", \"Attrition\"] = 1.0\n",
    "for col in df.columns:\n",
    "    df[col] = pd.Categorical(df[col]).codes"
   ]
  },
  {
   "cell_type": "markdown",
   "id": "5917b939",
   "metadata": {},
   "source": [
    "We will also drop the employee numbers."
   ]
  },
  {
   "cell_type": "raw",
   "id": "f0ce3cf3",
   "metadata": {},
   "source": [
    "all = all.drop(columns = \"EmployeeNumber\")"
   ]
  },
  {
   "cell_type": "code",
   "execution_count": 9,
   "id": "a2eb6fb9",
   "metadata": {},
   "outputs": [],
   "source": [
    "df = df.drop(columns = \"EmployeeNumber\")"
   ]
  },
  {
   "cell_type": "markdown",
   "id": "a2d87d57",
   "metadata": {},
   "source": [
    "There is no standard rule on how much data you should segment into as training\n",
    "and test set. But for now let’s use 90% training 10% testing. Select 10% of the\n",
    "is Attrition == yes and 10% of the is Attrition == no as your testing set,\n",
    "**test_set**. Then, use the rest of the data as your training set, **train_set**."
   ]
  },
  {
   "cell_type": "code",
   "execution_count": 10,
   "id": "eded7fe7",
   "metadata": {},
   "outputs": [],
   "source": [
    "X = df.copy()\n",
    "y = df[\"Attrition\"].copy()\n",
    "X_train, X_test, y_train, y_test = train_test_split(X, y, stratify=y, test_size=0.10, random_state=42)"
   ]
  },
  {
   "cell_type": "code",
   "execution_count": 11,
   "id": "4e809189",
   "metadata": {},
   "outputs": [],
   "source": [
    "X_train_c0 = X_train[X_train[\"Attrition\"]==0]\n",
    "X_train_c1 = X_train[X_train[\"Attrition\"]==1]"
   ]
  },
  {
   "cell_type": "markdown",
   "id": "169a0ca6",
   "metadata": {},
   "source": [
    "### Histogram discretization\n",
    "In class, we learned that in order to create a Bayes Classifier we first need\n",
    "to estimate the posterior or likelihood probability distributions. The simplest\n",
    "way to estimate probability distributions is via histograms. To do histogram\n",
    "estimation, we divide the entire data space into a finite number of bins. Then,\n",
    "we count how many data points are there in each bin and normalize using the\n",
    "total number of data points (so that the probability sums to 1). Since we are\n",
    "grouping a continuous valued feature into a finite number of bins, we can also\n",
    "call this process, discretization. <br>\n",
    "The following code create a histogram of a column col from **train_set**\n"
   ]
  },
  {
   "cell_type": "raw",
   "id": "7f7b16aa",
   "metadata": {},
   "source": [
    "# remove NaN values\n",
    "train_col_no_nan = train_set[~np.isnan(train_set[col])]\n",
    "# bin the data into 40 equally spaced bins\n",
    "# hist is the count for each bin\n",
    "# bin_edge is the edge values of the bins\n",
    "hist, bin_edge = np.histogram(train_col_no_nan, 40)\n",
    "# make sure to import matplotlib.pyplot as plt\n",
    "# plot the histogram\n",
    "plt.fill_between(bin_edge.repeat(2)[1:-1],hist.repeat(2),facecolor=’steelblue’)\n",
    "plt.show()"
   ]
  },
  {
   "cell_type": "code",
   "execution_count": 12,
   "id": "90791904",
   "metadata": {
    "scrolled": true
   },
   "outputs": [
    {
     "data": {
      "text/plain": [
       "0    1110\n",
       "1     213\n",
       "Name: Attrition, dtype: int64"
      ]
     },
     "execution_count": 12,
     "metadata": {},
     "output_type": "execute_result"
    }
   ],
   "source": [
    "y_train.value_counts()"
   ]
  },
  {
   "cell_type": "code",
   "execution_count": 13,
   "id": "ebd2ed28",
   "metadata": {},
   "outputs": [
    {
     "data": {
      "text/plain": [
       "0    123\n",
       "1     24\n",
       "Name: Attrition, dtype: int64"
      ]
     },
     "execution_count": 13,
     "metadata": {},
     "output_type": "execute_result"
    }
   ],
   "source": [
    "y_test.value_counts()"
   ]
  },
  {
   "cell_type": "markdown",
   "id": "c86ef65a",
   "metadata": {},
   "source": [
    "&emsp; **T4.** Observe the histogram for Age, MonthlyIncome and DistanceFromHome.\n",
    "How many bins have zero counts? Do you think this is a good discretization?\n",
    "Why?"
   ]
  },
  {
   "cell_type": "code",
   "execution_count": 14,
   "id": "d9f988cb",
   "metadata": {},
   "outputs": [],
   "source": [
    "def histogram(X_c0, X_c1, col, bin=40, plot=True):\n",
    "    train_col_no_nan_c0 = X_c0[~np.isnan(X_c0[col])][col]\n",
    "    train_col_no_nan_c1 = X_c1[~np.isnan(X_c1[col])][col]\n",
    "    \n",
    "    hist_c0, bin_edge_c0 = np.histogram(train_col_no_nan_c0, bin)\n",
    "    hist_c1, bin_edge_c1 = np.histogram(train_col_no_nan_c1, bin)\n",
    "    \n",
    "    if plot:\n",
    "        plt.fill_between(bin_edge_c0.repeat(2)[1:-1],hist_c0.repeat(2),facecolor=\"red\")\n",
    "        plt.fill_between(bin_edge_c1.repeat(2)[1:-1],hist_c1.repeat(2),facecolor=\"blue\")\n",
    "        plt.show()\n",
    "    \n",
    "    zero_count_c0 = (np.bincount(np.digitize(train_col_no_nan_c0, bin_edge_c0)) == 0).sum()-1\n",
    "    zero_count_c1 = (np.bincount(np.digitize(train_col_no_nan_c1, bin_edge_c1)) == 0).sum()-1\n",
    "    \n",
    "    c0_data = [hist_c0, bin_edge_c0, zero_count_c0]\n",
    "    c1_data = [hist_c1, bin_edge_c1, zero_count_c1]\n",
    "    \n",
    "    data = np.array([c0_data, c1_data], dtype=object)\n",
    "    if plot:\n",
    "        print(f\"{col} class0 zero count :\",zero_count_c0)\n",
    "        print(f\"{col} class1 zero count :\",zero_count_c1)\n",
    "    \n",
    "    # data [ [hist_c0, be_c0, zc_c0]\n",
    "    #        [hist_c1, be_c1, zc_c1] ]\n",
    "    \n",
    "    return data"
   ]
  },
  {
   "cell_type": "code",
   "execution_count": 15,
   "id": "5b7cc228",
   "metadata": {
    "scrolled": false
   },
   "outputs": [
    {
     "data": {
      "image/png": "[encoded data removed]",
      "text/plain": [
       "<Figure size 432x288 with 1 Axes>"
      ]
     },
     "metadata": {
      "needs_background": "light"
     },
     "output_type": "display_data"
    },
    {
     "name": "stdout",
     "output_type": "stream",
     "text": [
      "Age class0 zero count : 0\n",
      "Age class1 zero count : 3\n"
     ]
    }
   ],
   "source": [
    "data = histogram(X_train_c0, X_train_c1, \"Age\", bin=40)"
   ]
  },
  {
   "cell_type": "code",
   "execution_count": 16,
   "id": "2a93707c",
   "metadata": {
    "scrolled": false
   },
   "outputs": [
    {
     "data": {
      "image/png": "[encoded data removed]",
      "text/plain": [
       "<Figure size 432x288 with 1 Axes>"
      ]
     },
     "metadata": {
      "needs_background": "light"
     },
     "output_type": "display_data"
    },
    {
     "name": "stdout",
     "output_type": "stream",
     "text": [
      "Age class0 zero count : 0\n",
      "Age class1 zero count : 3\n"
     ]
    },
    {
     "data": {
      "image/png": "[encoded data removed]",
      "text/plain": [
       "<Figure size 432x288 with 1 Axes>"
      ]
     },
     "metadata": {
      "needs_background": "light"
     },
     "output_type": "display_data"
    },
    {
     "name": "stdout",
     "output_type": "stream",
     "text": [
      "MonthlyIncome class0 zero count : 0\n",
      "MonthlyIncome class1 zero count : 2\n"
     ]
    },
    {
     "data": {
      "image/png": "[encoded data removed]",
      "text/plain": [
       "<Figure size 432x288 with 1 Axes>"
      ]
     },
     "metadata": {
      "needs_background": "light"
     },
     "output_type": "display_data"
    },
    {
     "name": "stdout",
     "output_type": "stream",
     "text": [
      "DistanceFromHome class0 zero count : 11\n",
      "DistanceFromHome class1 zero count : 11\n"
     ]
    }
   ],
   "source": [
    "for col in [\"Age\", \"MonthlyIncome\",\"DistanceFromHome\"]:\n",
    "    data = histogram(X_train_c0, X_train_c1, col, bin=40)"
   ]
  },
  {
   "cell_type": "markdown",
   "id": "344e0681",
   "metadata": {},
   "source": [
    "From histograms, bins = 10 is good for Age and MonthlyIncome but is not good for DistanceFromHome because a good discretization is have less zero count bin."
   ]
  },
  {
   "cell_type": "markdown",
   "id": "d09241c2",
   "metadata": {},
   "source": [
    "&emsp; **T5.** Can we use a Gaussian to estimate this histogram? Why? What about a\n",
    "Gaussian Mixture Model (GMM)?\n",
    "The above discretization equally segments the space into equally spaced bins.\n",
    "This is the best method to segment if you know nothing about the data. Still,\n",
    "doing so may leave us with many bins with zero counts when we have too little\n",
    "data. To prevent this issue, we might assume that the distribution of our data\n",
    "is Normal then draw the probabilities of each data point from this distribution \n",
    "instead. We will do this later. For now, do <br>\n",
    "&emsp; 1) First set the number of bins to 10 for Age, MonthlyIncome and DistanceFromHome. Make numbers of bin a parameter as we will change this later. <br>\n",
    "&emsp; 2) Bin each values in the training set into bins using the function **np.digitize**, then count the number in each bins using **np.bincount**. Be careful with the maximum and minimum values, your first bin should cover −inf, and your final bin should cover inf, so that you can handle test data that might be outside of the minimum and maximum values. <br>\n",
    "You do not need to submit anything for this task. You might want to make this\n",
    "a function so that you can change the number of bins"
   ]
  },
  {
   "cell_type": "markdown",
   "id": "f120892d",
   "metadata": {},
   "source": [
    "We should not use Gaussian to estimate this histogram because the data is not normally distributed. <br>\n",
    "We can use GMM because we can create any function with combination of gaussian distribution. <br>"
   ]
  },
  {
   "cell_type": "markdown",
   "id": "93a33b45",
   "metadata": {},
   "source": [
    "&emsp; **T6.** Now plot the histogram according to the method described above (with 10, 40, and 100 bins) and show 3 plots for Age, MonthlyIncome, and DistanceFromHome. Which bin size is most sensible for each features? Why?"
   ]
  },
  {
   "cell_type": "code",
   "execution_count": 17,
   "id": "23afb7ef",
   "metadata": {
    "scrolled": true
   },
   "outputs": [
    {
     "data": {
      "image/png": "[encoded data removed]",
      "text/plain": [
       "<Figure size 432x288 with 1 Axes>"
      ]
     },
     "metadata": {
      "needs_background": "light"
     },
     "output_type": "display_data"
    },
    {
     "name": "stdout",
     "output_type": "stream",
     "text": [
      "Age class0 zero count : 0\n",
      "Age class1 zero count : 0\n"
     ]
    },
    {
     "data": {
      "image/png": "[encoded data removed]",
      "text/plain": [
       "<Figure size 432x288 with 1 Axes>"
      ]
     },
     "metadata": {
      "needs_background": "light"
     },
     "output_type": "display_data"
    },
    {
     "name": "stdout",
     "output_type": "stream",
     "text": [
      "Age class0 zero count : 0\n",
      "Age class1 zero count : 3\n"
     ]
    },
    {
     "data": {
      "image/png": "[encoded data removed]",
      "text/plain": [
       "<Figure size 432x288 with 1 Axes>"
      ]
     },
     "metadata": {
      "needs_background": "light"
     },
     "output_type": "display_data"
    },
    {
     "name": "stdout",
     "output_type": "stream",
     "text": [
      "Age class0 zero count : 57\n",
      "Age class1 zero count : 62\n"
     ]
    }
   ],
   "source": [
    "for bin in [10, 40, 100]:\n",
    "    data = histogram(X_train_c0, X_train_c1, \"Age\", bin)"
   ]
  },
  {
   "cell_type": "code",
   "execution_count": 18,
   "id": "686c68fe",
   "metadata": {
    "scrolled": true
   },
   "outputs": [
    {
     "data": {
      "image/png": "[encoded data removed]",
      "text/plain": [
       "<Figure size 432x288 with 1 Axes>"
      ]
     },
     "metadata": {
      "needs_background": "light"
     },
     "output_type": "display_data"
    },
    {
     "name": "stdout",
     "output_type": "stream",
     "text": [
      "MonthlyIncome class0 zero count : 0\n",
      "MonthlyIncome class1 zero count : 0\n"
     ]
    },
    {
     "data": {
      "image/png": "[encoded data removed]",
      "text/plain": [
       "<Figure size 432x288 with 1 Axes>"
      ]
     },
     "metadata": {
      "needs_background": "light"
     },
     "output_type": "display_data"
    },
    {
     "name": "stdout",
     "output_type": "stream",
     "text": [
      "MonthlyIncome class0 zero count : 0\n",
      "MonthlyIncome class1 zero count : 2\n"
     ]
    },
    {
     "data": {
      "image/png": "[encoded data removed]",
      "text/plain": [
       "<Figure size 432x288 with 1 Axes>"
      ]
     },
     "metadata": {
      "needs_background": "light"
     },
     "output_type": "display_data"
    },
    {
     "name": "stdout",
     "output_type": "stream",
     "text": [
      "MonthlyIncome class0 zero count : 0\n",
      "MonthlyIncome class1 zero count : 23\n"
     ]
    }
   ],
   "source": [
    "for bin in [10, 40, 100]:\n",
    "    data = histogram(X_train_c0, X_train_c1, \"MonthlyIncome\", bin)"
   ]
  },
  {
   "cell_type": "code",
   "execution_count": 19,
   "id": "8b316c36",
   "metadata": {
    "scrolled": true
   },
   "outputs": [
    {
     "data": {
      "image/png": "[encoded data removed]",
      "text/plain": [
       "<Figure size 432x288 with 1 Axes>"
      ]
     },
     "metadata": {
      "needs_background": "light"
     },
     "output_type": "display_data"
    },
    {
     "name": "stdout",
     "output_type": "stream",
     "text": [
      "DistanceFromHome class0 zero count : 0\n",
      "DistanceFromHome class1 zero count : 0\n"
     ]
    },
    {
     "data": {
      "image/png": "[encoded data removed]",
      "text/plain": [
       "<Figure size 432x288 with 1 Axes>"
      ]
     },
     "metadata": {
      "needs_background": "light"
     },
     "output_type": "display_data"
    },
    {
     "name": "stdout",
     "output_type": "stream",
     "text": [
      "DistanceFromHome class0 zero count : 11\n",
      "DistanceFromHome class1 zero count : 11\n"
     ]
    },
    {
     "data": {
      "image/png": "[encoded data removed]",
      "text/plain": [
       "<Figure size 432x288 with 1 Axes>"
      ]
     },
     "metadata": {
      "needs_background": "light"
     },
     "output_type": "display_data"
    },
    {
     "name": "stdout",
     "output_type": "stream",
     "text": [
      "DistanceFromHome class0 zero count : 71\n",
      "DistanceFromHome class1 zero count : 71\n"
     ]
    }
   ],
   "source": [
    "for bin in [10, 40, 100]:\n",
    "    data = histogram(X_train_c0, X_train_c1, \"DistanceFromHome\", bin)"
   ]
  },
  {
   "cell_type": "markdown",
   "id": "19a0f0a4",
   "metadata": {},
   "source": [
    "\"Age\": 40 <br>\n",
    "\"MonthlyIncome\": 40 <br>\n",
    "\"DistanceFromHome\": 10 <br>\n",
    "Have many bins and not contain zero in bin."
   ]
  },
  {
   "cell_type": "markdown",
   "id": "55dd5541",
   "metadata": {},
   "source": [
    "&emsp; **T7.** For the rest of the features, which one should be discretized? What are the\n",
    "criteria for choosing whether we should discretize a feature or not? Answer this\n",
    "and discretize those features into 10 bins each. In other words, figure out the\n",
    "bin edge for each feature, then use digitize() to convert the features to discrete\n",
    "values."
   ]
  },
  {
   "cell_type": "markdown",
   "id": "c50c5a3e",
   "metadata": {},
   "source": [
    "The criteria that feature is discretized or not is a number of zero bin when generating a histogram <br>\n",
    "Let discretized features are feature which does not have zero count bins when plot with histogram 10 bins."
   ]
  },
  {
   "cell_type": "code",
   "execution_count": 20,
   "id": "42df5178",
   "metadata": {
    "scrolled": true
   },
   "outputs": [],
   "source": [
    "discretized = []\n",
    "non_discretized = []\n",
    "for col in X_train.columns:\n",
    "    data = histogram(X_train_c0, X_train_c1, col, bin=10, plot=False)\n",
    "    zc_c0 = data[0][2]\n",
    "    zc_c1 = data[1][2]\n",
    "    if zc_c0 > 0 or zc_c1 > 0:\n",
    "        non_discretized.append(col)\n",
    "    else:\n",
    "        discretized.append(col)"
   ]
  },
  {
   "cell_type": "code",
   "execution_count": 21,
   "id": "cf08a1b3",
   "metadata": {},
   "outputs": [
    {
     "data": {
      "text/plain": [
       "['Age',\n",
       " 'DailyRate',\n",
       " 'DistanceFromHome',\n",
       " 'HourlyRate',\n",
       " 'MonthlyIncome',\n",
       " 'MonthlyRate',\n",
       " 'NumCompaniesWorked',\n",
       " 'PercentSalaryHike',\n",
       " 'YearsSinceLastPromotion']"
      ]
     },
     "execution_count": 21,
     "metadata": {},
     "output_type": "execute_result"
    }
   ],
   "source": [
    "discretized"
   ]
  },
  {
   "cell_type": "code",
   "execution_count": 22,
   "id": "01742631",
   "metadata": {},
   "outputs": [
    {
     "data": {
      "text/plain": [
       "['Attrition',\n",
       " 'BusinessTravel',\n",
       " 'Department',\n",
       " 'Education',\n",
       " 'EducationField',\n",
       " 'EmployeeCount',\n",
       " 'EnvironmentSatisfaction',\n",
       " 'Gender',\n",
       " 'JobInvolvement',\n",
       " 'JobLevel',\n",
       " 'JobRole',\n",
       " 'JobSatisfaction',\n",
       " 'MaritalStatus',\n",
       " 'Over18',\n",
       " 'OverTime',\n",
       " 'PerformanceRating',\n",
       " 'RelationshipSatisfaction',\n",
       " 'StandardHours',\n",
       " 'StockOptionLevel',\n",
       " 'TotalWorkingYears',\n",
       " 'TrainingTimesLastYear',\n",
       " 'WorkLifeBalance',\n",
       " 'YearsAtCompany',\n",
       " 'YearsInCurrentRole',\n",
       " 'YearsWithCurrManager']"
      ]
     },
     "execution_count": 22,
     "metadata": {},
     "output_type": "execute_result"
    }
   ],
   "source": [
    "non_discretized"
   ]
  },
  {
   "cell_type": "code",
   "execution_count": 23,
   "id": "f98c2f93",
   "metadata": {},
   "outputs": [
    {
     "data": {
      "image/png": "[encoded data removed]",
      "text/plain": [
       "<Figure size 432x288 with 1 Axes>"
      ]
     },
     "metadata": {
      "needs_background": "light"
     },
     "output_type": "display_data"
    },
    {
     "name": "stdout",
     "output_type": "stream",
     "text": [
      "Age class0 zero count : 0\n",
      "Age class1 zero count : 0\n"
     ]
    },
    {
     "data": {
      "image/png": "[encoded data removed]",
      "text/plain": [
       "<Figure size 432x288 with 1 Axes>"
      ]
     },
     "metadata": {
      "needs_background": "light"
     },
     "output_type": "display_data"
    },
    {
     "name": "stdout",
     "output_type": "stream",
     "text": [
      "DailyRate class0 zero count : 0\n",
      "DailyRate class1 zero count : 0\n"
     ]
    },
    {
     "data": {
      "image/png": "[encoded data removed]",
      "text/plain": [
       "<Figure size 432x288 with 1 Axes>"
      ]
     },
     "metadata": {
      "needs_background": "light"
     },
     "output_type": "display_data"
    },
    {
     "name": "stdout",
     "output_type": "stream",
     "text": [
      "DistanceFromHome class0 zero count : 0\n",
      "DistanceFromHome class1 zero count : 0\n"
     ]
    },
    {
     "data": {
      "image/png": "[encoded data removed]",
      "text/plain": [
       "<Figure size 432x288 with 1 Axes>"
      ]
     },
     "metadata": {
      "needs_background": "light"
     },
     "output_type": "display_data"
    },
    {
     "name": "stdout",
     "output_type": "stream",
     "text": [
      "HourlyRate class0 zero count : 0\n",
      "HourlyRate class1 zero count : 0\n"
     ]
    },
    {
     "data": {
      "image/png": "[encoded data removed]",
      "text/plain": [
       "<Figure size 432x288 with 1 Axes>"
      ]
     },
     "metadata": {
      "needs_background": "light"
     },
     "output_type": "display_data"
    },
    {
     "name": "stdout",
     "output_type": "stream",
     "text": [
      "MonthlyIncome class0 zero count : 0\n",
      "MonthlyIncome class1 zero count : 0\n"
     ]
    },
    {
     "data": {
      "image/png": "[encoded data removed]",
      "text/plain": [
       "<Figure size 432x288 with 1 Axes>"
      ]
     },
     "metadata": {
      "needs_background": "light"
     },
     "output_type": "display_data"
    },
    {
     "name": "stdout",
     "output_type": "stream",
     "text": [
      "MonthlyRate class0 zero count : 0\n",
      "MonthlyRate class1 zero count : 0\n"
     ]
    },
    {
     "data": {
      "image/png": "[encoded data removed]",
      "text/plain": [
       "<Figure size 432x288 with 1 Axes>"
      ]
     },
     "metadata": {
      "needs_background": "light"
     },
     "output_type": "display_data"
    },
    {
     "name": "stdout",
     "output_type": "stream",
     "text": [
      "NumCompaniesWorked class0 zero count : 0\n",
      "NumCompaniesWorked class1 zero count : 0\n"
     ]
    },
    {
     "data": {
      "image/png": "[encoded data removed]",
      "text/plain": [
       "<Figure size 432x288 with 1 Axes>"
      ]
     },
     "metadata": {
      "needs_background": "light"
     },
     "output_type": "display_data"
    },
    {
     "name": "stdout",
     "output_type": "stream",
     "text": [
      "PercentSalaryHike class0 zero count : 0\n",
      "PercentSalaryHike class1 zero count : 0\n"
     ]
    },
    {
     "data": {
      "image/png": "[encoded data removed]",
      "text/plain": [
       "<Figure size 432x288 with 1 Axes>"
      ]
     },
     "metadata": {
      "needs_background": "light"
     },
     "output_type": "display_data"
    },
    {
     "name": "stdout",
     "output_type": "stream",
     "text": [
      "YearsSinceLastPromotion class0 zero count : 0\n",
      "YearsSinceLastPromotion class1 zero count : 0\n"
     ]
    }
   ],
   "source": [
    "for col in discretized:\n",
    "    data = histogram(X_train_c0, X_train_c1, col, bin=10)"
   ]
  },
  {
   "cell_type": "code",
   "execution_count": 24,
   "id": "2f969ec0",
   "metadata": {},
   "outputs": [
    {
     "data": {
      "image/png": "[encoded data removed]",
      "text/plain": [
       "<Figure size 432x288 with 1 Axes>"
      ]
     },
     "metadata": {
      "needs_background": "light"
     },
     "output_type": "display_data"
    },
    {
     "name": "stdout",
     "output_type": "stream",
     "text": [
      "Attrition class0 zero count : 0\n",
      "Attrition class1 zero count : 0\n"
     ]
    },
    {
     "data": {
      "image/png": "[encoded data removed]",
      "text/plain": [
       "<Figure size 432x288 with 1 Axes>"
      ]
     },
     "metadata": {
      "needs_background": "light"
     },
     "output_type": "display_data"
    },
    {
     "name": "stdout",
     "output_type": "stream",
     "text": [
      "BusinessTravel class0 zero count : 1\n",
      "BusinessTravel class1 zero count : 1\n"
     ]
    },
    {
     "data": {
      "image/png": "[encoded data removed]",
      "text/plain": [
       "<Figure size 432x288 with 1 Axes>"
      ]
     },
     "metadata": {
      "needs_background": "light"
     },
     "output_type": "display_data"
    },
    {
     "name": "stdout",
     "output_type": "stream",
     "text": [
      "Department class0 zero count : 1\n",
      "Department class1 zero count : 1\n"
     ]
    },
    {
     "data": {
      "image/png": "[encoded data removed]",
      "text/plain": [
       "<Figure size 432x288 with 1 Axes>"
      ]
     },
     "metadata": {
      "needs_background": "light"
     },
     "output_type": "display_data"
    },
    {
     "name": "stdout",
     "output_type": "stream",
     "text": [
      "Education class0 zero count : 1\n",
      "Education class1 zero count : 1\n"
     ]
    },
    {
     "data": {
      "image/png": "[encoded data removed]",
      "text/plain": [
       "<Figure size 432x288 with 1 Axes>"
      ]
     },
     "metadata": {
      "needs_background": "light"
     },
     "output_type": "display_data"
    },
    {
     "name": "stdout",
     "output_type": "stream",
     "text": [
      "EducationField class0 zero count : 1\n",
      "EducationField class1 zero count : 1\n"
     ]
    },
    {
     "data": {
      "image/png": "[encoded data removed]",
      "text/plain": [
       "<Figure size 432x288 with 1 Axes>"
      ]
     },
     "metadata": {
      "needs_background": "light"
     },
     "output_type": "display_data"
    },
    {
     "name": "stdout",
     "output_type": "stream",
     "text": [
      "EmployeeCount class0 zero count : 1\n",
      "EmployeeCount class1 zero count : 1\n"
     ]
    },
    {
     "data": {
      "image/png": "[encoded data removed]",
      "text/plain": [
       "<Figure size 432x288 with 1 Axes>"
      ]
     },
     "metadata": {
      "needs_background": "light"
     },
     "output_type": "display_data"
    },
    {
     "name": "stdout",
     "output_type": "stream",
     "text": [
      "EnvironmentSatisfaction class0 zero count : 1\n",
      "EnvironmentSatisfaction class1 zero count : 1\n"
     ]
    },
    {
     "data": {
      "image/png": "[encoded data removed]",
      "text/plain": [
       "<Figure size 432x288 with 1 Axes>"
      ]
     },
     "metadata": {
      "needs_background": "light"
     },
     "output_type": "display_data"
    },
    {
     "name": "stdout",
     "output_type": "stream",
     "text": [
      "Gender class0 zero count : 1\n",
      "Gender class1 zero count : 1\n"
     ]
    },
    {
     "data": {
      "image/png": "[encoded data removed]",
      "text/plain": [
       "<Figure size 432x288 with 1 Axes>"
      ]
     },
     "metadata": {
      "needs_background": "light"
     },
     "output_type": "display_data"
    },
    {
     "name": "stdout",
     "output_type": "stream",
     "text": [
      "JobInvolvement class0 zero count : 1\n",
      "JobInvolvement class1 zero count : 1\n"
     ]
    },
    {
     "data": {
      "image/png": "[encoded data removed]",
      "text/plain": [
       "<Figure size 432x288 with 1 Axes>"
      ]
     },
     "metadata": {
      "needs_background": "light"
     },
     "output_type": "display_data"
    },
    {
     "name": "stdout",
     "output_type": "stream",
     "text": [
      "JobLevel class0 zero count : 1\n",
      "JobLevel class1 zero count : 1\n"
     ]
    },
    {
     "data": {
      "image/png": "[encoded data removed]",
      "text/plain": [
       "<Figure size 432x288 with 1 Axes>"
      ]
     },
     "metadata": {
      "needs_background": "light"
     },
     "output_type": "display_data"
    },
    {
     "name": "stdout",
     "output_type": "stream",
     "text": [
      "JobRole class0 zero count : 1\n",
      "JobRole class1 zero count : 1\n"
     ]
    },
    {
     "data": {
      "image/png": "[encoded data removed]",
      "text/plain": [
       "<Figure size 432x288 with 1 Axes>"
      ]
     },
     "metadata": {
      "needs_background": "light"
     },
     "output_type": "display_data"
    },
    {
     "name": "stdout",
     "output_type": "stream",
     "text": [
      "JobSatisfaction class0 zero count : 1\n",
      "JobSatisfaction class1 zero count : 1\n"
     ]
    },
    {
     "data": {
      "image/png": "[encoded data removed]",
      "text/plain": [
       "<Figure size 432x288 with 1 Axes>"
      ]
     },
     "metadata": {
      "needs_background": "light"
     },
     "output_type": "display_data"
    },
    {
     "name": "stdout",
     "output_type": "stream",
     "text": [
      "MaritalStatus class0 zero count : 1\n",
      "MaritalStatus class1 zero count : 1\n"
     ]
    },
    {
     "data": {
      "image/png": "[encoded data removed]",
      "text/plain": [
       "<Figure size 432x288 with 1 Axes>"
      ]
     },
     "metadata": {
      "needs_background": "light"
     },
     "output_type": "display_data"
    },
    {
     "name": "stdout",
     "output_type": "stream",
     "text": [
      "Over18 class0 zero count : 1\n",
      "Over18 class1 zero count : 1\n"
     ]
    },
    {
     "data": {
      "image/png": "[encoded data removed]",
      "text/plain": [
       "<Figure size 432x288 with 1 Axes>"
      ]
     },
     "metadata": {
      "needs_background": "light"
     },
     "output_type": "display_data"
    },
    {
     "name": "stdout",
     "output_type": "stream",
     "text": [
      "OverTime class0 zero count : 1\n",
      "OverTime class1 zero count : 1\n"
     ]
    },
    {
     "data": {
      "image/png": "[encoded data removed]",
      "text/plain": [
       "<Figure size 432x288 with 1 Axes>"
      ]
     },
     "metadata": {
      "needs_background": "light"
     },
     "output_type": "display_data"
    },
    {
     "name": "stdout",
     "output_type": "stream",
     "text": [
      "PerformanceRating class0 zero count : 1\n",
      "PerformanceRating class1 zero count : 1\n"
     ]
    },
    {
     "data": {
      "image/png": "[encoded data removed]",
      "text/plain": [
       "<Figure size 432x288 with 1 Axes>"
      ]
     },
     "metadata": {
      "needs_background": "light"
     },
     "output_type": "display_data"
    },
    {
     "name": "stdout",
     "output_type": "stream",
     "text": [
      "RelationshipSatisfaction class0 zero count : 1\n",
      "RelationshipSatisfaction class1 zero count : 1\n"
     ]
    },
    {
     "data": {
      "image/png": "[encoded data removed]",
      "text/plain": [
       "<Figure size 432x288 with 1 Axes>"
      ]
     },
     "metadata": {
      "needs_background": "light"
     },
     "output_type": "display_data"
    },
    {
     "name": "stdout",
     "output_type": "stream",
     "text": [
      "StandardHours class0 zero count : 1\n",
      "StandardHours class1 zero count : 1\n"
     ]
    },
    {
     "data": {
      "image/png": "[encoded data removed]",
      "text/plain": [
       "<Figure size 432x288 with 1 Axes>"
      ]
     },
     "metadata": {
      "needs_background": "light"
     },
     "output_type": "display_data"
    },
    {
     "name": "stdout",
     "output_type": "stream",
     "text": [
      "StockOptionLevel class0 zero count : 1\n",
      "StockOptionLevel class1 zero count : 1\n"
     ]
    },
    {
     "data": {
      "image/png": "[encoded data removed]",
      "text/plain": [
       "<Figure size 432x288 with 1 Axes>"
      ]
     },
     "metadata": {
      "needs_background": "light"
     },
     "output_type": "display_data"
    },
    {
     "name": "stdout",
     "output_type": "stream",
     "text": [
      "TotalWorkingYears class0 zero count : 1\n",
      "TotalWorkingYears class1 zero count : 9\n"
     ]
    },
    {
     "data": {
      "image/png": "[encoded data removed]",
      "text/plain": [
       "<Figure size 432x288 with 1 Axes>"
      ]
     },
     "metadata": {
      "needs_background": "light"
     },
     "output_type": "display_data"
    },
    {
     "name": "stdout",
     "output_type": "stream",
     "text": [
      "TrainingTimesLastYear class0 zero count : 1\n",
      "TrainingTimesLastYear class1 zero count : 1\n"
     ]
    },
    {
     "data": {
      "image/png": "[encoded data removed]",
      "text/plain": [
       "<Figure size 432x288 with 1 Axes>"
      ]
     },
     "metadata": {
      "needs_background": "light"
     },
     "output_type": "display_data"
    },
    {
     "name": "stdout",
     "output_type": "stream",
     "text": [
      "WorkLifeBalance class0 zero count : 1\n",
      "WorkLifeBalance class1 zero count : 1\n"
     ]
    },
    {
     "data": {
      "image/png": "[encoded data removed]",
      "text/plain": [
       "<Figure size 432x288 with 1 Axes>"
      ]
     },
     "metadata": {
      "needs_background": "light"
     },
     "output_type": "display_data"
    },
    {
     "name": "stdout",
     "output_type": "stream",
     "text": [
      "YearsAtCompany class0 zero count : 1\n",
      "YearsAtCompany class1 zero count : 14\n"
     ]
    },
    {
     "data": {
      "image/png": "[encoded data removed]",
      "text/plain": [
       "<Figure size 432x288 with 1 Axes>"
      ]
     },
     "metadata": {
      "needs_background": "light"
     },
     "output_type": "display_data"
    },
    {
     "name": "stdout",
     "output_type": "stream",
     "text": [
      "YearsInCurrentRole class0 zero count : 1\n",
      "YearsInCurrentRole class1 zero count : 5\n"
     ]
    },
    {
     "data": {
      "image/png": "[encoded data removed]",
      "text/plain": [
       "<Figure size 432x288 with 1 Axes>"
      ]
     },
     "metadata": {
      "needs_background": "light"
     },
     "output_type": "display_data"
    },
    {
     "name": "stdout",
     "output_type": "stream",
     "text": [
      "YearsWithCurrManager class0 zero count : 1\n",
      "YearsWithCurrManager class1 zero count : 7\n"
     ]
    }
   ],
   "source": [
    "for col in non_discretized:\n",
    "    data = histogram(X_train_c0, X_train_c1, col, bin=X_train_c0[col].unique().shape[0])"
   ]
  },
  {
   "cell_type": "markdown",
   "id": "43791a34",
   "metadata": {},
   "source": [
    "### The MLE for the likelihood distribution of discretized histograms\n",
    "We would like to build a Naive Bayes classifier which compares the posterior\n",
    "$p(leave|x_i)$ against $p(stay|x_i)$. However, figuring out $p(class|x_i)$ is often hard\n",
    "(not true for this case). Thus, we turn to the likelihood $p(x_i|class)$, which can\n",
    "be derived from the discretized histograms."
   ]
  },
  {
   "cell_type": "markdown",
   "id": "223fa634",
   "metadata": {},
   "source": [
    "&emsp; **T8.** What kind of distribution should we use to model histograms? (Answer\n",
    "a distribution name) What is the MLE for the likelihood distribution? (Describe how to do the MLE). Plot the likelihood distributions of MonthlyIncome,\n",
    "JobRole, HourlyRate, and MaritalStatus for different Attrition values."
   ]
  },
  {
   "cell_type": "markdown",
   "id": "e422610d",
   "metadata": {},
   "source": [
    "We use Multinomial Distribution to model histograms. <br>\n",
    "\n",
    "From likelihood using Multinomial distribution. <br>\n",
    "\\begin{equation}\n",
    "\\begin{split}\n",
    "    P(x|w) & \\;\\; = \\;\\; & P(x_1x_2...x_n|p_1p_2...p_n) & \\;\\; = \\;\\; & \\frac{n!}{x_1!x_2!\\cdots x_n!}\\left( p_1^{x_1}p_2^{x_2}\\cdots p_n^{x_n} \\right)\\\\ \n",
    "\\end{split}\n",
    "\\end{equation}\n",
    "\n",
    "To find the MLE of this likelihood distribution, we use Lagrange Multiplier Method. <br><br>\n",
    "\n",
    "&emsp;$Given \\; functions \\; f(x_1,...,x_n) \\; and \\; g(x_1,...,x_n),$ <br>\n",
    "&emsp;$the \\; critical \\; points \\; of \\; f \\; restricted \\; to \\; the \\; set \\; g \\; = \\; 0 \\; are \\; solutions \\; to \\; equations:$\n",
    "\\begin{equation}\n",
    "\\begin{split}\n",
    "    \\frac{\\partial f}{\\partial x_i}(x_1,...,x_n) & \\; = \\; & \\lambda\\frac{\\partial g}{\\partial x_i}(x_1,...,x_n) \\;\\forall i \\\\\n",
    "    g(x_1,...,x_n) & \\; = \\; & 0\n",
    "\\end{split}\n",
    "\\end{equation}\n",
    "\n",
    "From likelihood, we get log likelihood is:\n",
    "\\begin{equation}\n",
    "\\begin{split}\n",
    "    log \\; P(x_1x_2...x_n|p_1p_2...p_n) & \\; = \\; & log(n!) - \\sum_ilog(x_i!) + \\sum_i x_ilog(p_i) + \\lambda(1-\\sum_ip_i) \\\\\n",
    "    \\frac{\\partial logP}{\\partial p_i} & \\; = 0 = \\; & \\frac{x_i}{p_i} - \\lambda & and, \\\\\n",
    "    \\frac{\\partial logP}{\\partial\\lambda} & \\; = 0 = \\; & 1-\\sum_ip_i\\\\\n",
    "    &\\because \\; \\lambda = \\frac{x_i}{p_i} \\\\\n",
    "    &\\therefore \\; p_i = \\frac{x_i}{\\lambda} \\\\\n",
    "    &\\because \\sum_ip_i = 1 \\\\\n",
    "    &\\therefore \\; \\lambda = n \\\\\n",
    "    &\\because p_i  = \\frac{x_i}{n}\n",
    "\\end{split}\n",
    "\\end{equation}"
   ]
  },
  {
   "cell_type": "code",
   "execution_count": 25,
   "id": "a669e4cb",
   "metadata": {},
   "outputs": [
    {
     "name": "stdout",
     "output_type": "stream",
     "text": [
      "MonthlyIncome\n"
     ]
    },
    {
     "data": {
      "image/png": "[encoded data removed]",
      "text/plain": [
       "<Figure size 432x288 with 1 Axes>"
      ]
     },
     "metadata": {
      "needs_background": "light"
     },
     "output_type": "display_data"
    },
    {
     "name": "stdout",
     "output_type": "stream",
     "text": [
      "JobRole\n"
     ]
    },
    {
     "data": {
      "image/png": "[encoded data removed]",
      "text/plain": [
       "<Figure size 432x288 with 1 Axes>"
      ]
     },
     "metadata": {
      "needs_background": "light"
     },
     "output_type": "display_data"
    },
    {
     "name": "stdout",
     "output_type": "stream",
     "text": [
      "HourlyRate\n"
     ]
    },
    {
     "data": {
      "image/png": "[encoded data removed]",
      "text/plain": [
       "<Figure size 432x288 with 1 Axes>"
      ]
     },
     "metadata": {
      "needs_background": "light"
     },
     "output_type": "display_data"
    },
    {
     "name": "stdout",
     "output_type": "stream",
     "text": [
      "MaritalStatus\n"
     ]
    },
    {
     "data": {
      "image/png": "[encoded data removed]",
      "text/plain": [
       "<Figure size 432x288 with 1 Axes>"
      ]
     },
     "metadata": {
      "needs_background": "light"
     },
     "output_type": "display_data"
    }
   ],
   "source": [
    "for col in ['MonthlyIncome', 'JobRole', 'HourlyRate', 'MaritalStatus']:\n",
    "    data = histogram(X_train_c0, X_train_c1, col, bin=10, plot=False)\n",
    "    hist_c0 = data[0][0]; be_c0 = data[0][1] \n",
    "    hist_c1 = data[1][0]; be_c1 = data[1][1] \n",
    "    print(col)\n",
    "    density_c0 = kde.gaussian_kde(hist_c0)\n",
    "    density_c1 = kde.gaussian_kde(hist_c1)\n",
    "    plt.plot(be_c0, density_c0(be_c0))\n",
    "    plt.plot(be_c0, density_c1(be_c1))\n",
    "    plt.title(\"Likelihood distribution\")\n",
    "    plt.xlabel(col)\n",
    "    plt.ylabel(\"Likelihood\")\n",
    "    plt.legend([\"c0\",\"c1\"], loc='upper right')\n",
    "    plt.show()"
   ]
  },
  {
   "cell_type": "markdown",
   "id": "4f42563f",
   "metadata": {},
   "source": [
    "&emsp; **T9.** What is the prior distribution of the two classes?"
   ]
  },
  {
   "cell_type": "code",
   "execution_count": 26,
   "id": "2712f7c3",
   "metadata": {},
   "outputs": [],
   "source": [
    "y_c0 = y_train.value_counts()[0]\n",
    "y_c1 = y_train.value_counts()[1]"
   ]
  },
  {
   "cell_type": "code",
   "execution_count": 27,
   "id": "89c70b21",
   "metadata": {},
   "outputs": [],
   "source": [
    "prior_leave = y_c1/(y_c0 + y_c1)\n",
    "prior_stay =  y_c0/(y_c0 + y_c1)\n",
    "log_prior_leave = np.log(prior_leave)\n",
    "log_prior_stay = np.log(prior_stay)"
   ]
  },
  {
   "cell_type": "code",
   "execution_count": 28,
   "id": "208e58d7",
   "metadata": {
    "scrolled": false
   },
   "outputs": [
    {
     "name": "stdout",
     "output_type": "stream",
     "text": [
      "0.16099773242630386 0.8390022675736961\n"
     ]
    }
   ],
   "source": [
    "print(prior_leave, prior_stay)"
   ]
  },
  {
   "cell_type": "markdown",
   "id": "4ba887ce",
   "metadata": {},
   "source": [
    "### Naive Bayes classification\n",
    "We are now ready to build our Naive Bayes classifier. Which makes a decision\n",
    "according to\n",
    "\n",
    "$$ H(x) = \\frac{p(leave)}{p(stay)}\\prod_{i=1}\\frac{p(x_i|leave)}{p(x_i|stay)}$$\n",
    "\n",
    "If $H(x)$ is larger than 1, then classify it as leave. If H(x) is smaller than 1, then classify it as stay.\n",
    "Note we often work in the log scale to prevent floating point underflow. In other words,\n",
    "\n",
    "$$ lH(x) = logp(leave) - logp(stay) + \\sum_{i=1}[logp(x_i|leave) − logp(x_i|stay)] $$\n",
    "\n",
    "If $lH(x)$ is larger than 0, then classify it as leave. If $lH(x)$ is smaller than 0,\n",
    "then classify it as stay"
   ]
  },
  {
   "cell_type": "markdown",
   "id": "00c9d309",
   "metadata": {},
   "source": [
    "&emsp; **T10.** If we use the current Naive Bayes with our current Maximum Likelihood\n",
    "Estimates, we will find that some $P(x_i|attrition)$ will be zero and will result in\n",
    "the entire product term to be zero. Propose a method to fix this problem.\n"
   ]
  },
  {
   "cell_type": "markdown",
   "id": "ba3838ed",
   "metadata": {},
   "source": [
    "We can bound it ($P(x_i|attrition) \\; that \\; is \\; 0$) to minimum number that converge to 0 likes $10^{-15} (flooring)$"
   ]
  },
  {
   "cell_type": "markdown",
   "id": "6e5e03a3",
   "metadata": {},
   "source": [
    "&emsp; **T11.** Implement your Naive Bayes classifier. Use the learned distributions\n",
    "to classify the **test_set**. Don’t forget to allow your classifier to handle missing\n",
    "values in the test set. Report the overall Accuracy. Then, report the Precision,\n",
    "Recall, and F score for detecting attrition. See Lecture 1 for the definitions of\n",
    "each metric"
   ]
  },
  {
   "cell_type": "code",
   "execution_count": 29,
   "id": "7834d535",
   "metadata": {},
   "outputs": [],
   "source": [
    "X_test = X_test.drop(\"Attrition\", axis=1)"
   ]
  },
  {
   "cell_type": "code",
   "execution_count": 30,
   "id": "67180d86",
   "metadata": {},
   "outputs": [],
   "source": [
    "def find_bin(x, bin_edge):\n",
    "    distance = bin_edge[-1] - bin_edge[-2]\n",
    "    for i in range(len(bin_edge)):\n",
    "        if (bin_edge[i] <= x) and (x <= bin_edge[i]+distance):\n",
    "            return i-1\n",
    "    return -1"
   ]
  },
  {
   "cell_type": "code",
   "execution_count": 31,
   "id": "7872a4d4",
   "metadata": {},
   "outputs": [],
   "source": [
    "def get_binsize(hist, pos):\n",
    "    if pos == -1:\n",
    "        return 0\n",
    "    else:\n",
    "        return hist[pos]"
   ]
  },
  {
   "cell_type": "code",
   "execution_count": 32,
   "id": "74d3fe56",
   "metadata": {},
   "outputs": [],
   "source": [
    "def NaiveBayes_Multinomial(X_train_c0, X_train_c1, X_test, discretized, bin=10):\n",
    "    all_data = []\n",
    "    \n",
    "    for col in X_test.columns:\n",
    "        if col in discretized:\n",
    "            data = histogram(X_train_c0, X_train_c1, col, bin, plot=False)\n",
    "        else:\n",
    "            data = histogram(X_train_c0, X_train_c1, col, bin=X_train_c0[col].unique().shape[0], plot=False)\n",
    "        data[0][0] = np.append(data[0][0],0)\n",
    "        data[1][0] = np.append(data[1][0],0)\n",
    "        all_data.append(data)\n",
    "        \n",
    "    pred = np.zeros(X_test.shape[0])\n",
    "    for idx, col in enumerate(X_test.columns):\n",
    "        \n",
    "        data_c0 = all_data[idx][0]; data_c1 = all_data[idx][1]\n",
    "        hist_c0 = data_c0[0]; be_c0 = data_c0[1]; hist_c1 = data_c1[0]; be_c1 = data_c1[1]\n",
    "        \n",
    "        #find likelihood\n",
    "        binPos_c0 = np.digitize(X_test[col], be_c0) - 1\n",
    "        binPos_c1 = np.digitize(X_test[col], be_c1) - 1\n",
    "        \n",
    "        likelihood_c0 = np.array([hist_c0[i]/hist_c0.sum() for i in binPos_c0])\n",
    "        likelihood_c1 = np.array([hist_c1[i]/hist_c1.sum() for i in binPos_c1])\n",
    "        \n",
    "        #flooring\n",
    "        likelihood_c0[likelihood_c0==0] = 1e-20\n",
    "        likelihood_c1[likelihood_c1==0] = 1e-20\n",
    "        \n",
    "        #check null\n",
    "        likelihood_c0[X_test[col]==-1] = 1\n",
    "        likelihood_c1[X_test[col]==-1] = 1\n",
    "\n",
    "        \n",
    "        log_llh_c0 = np.log(likelihood_c0)\n",
    "        log_llh_c1 = np.log(likelihood_c1)\n",
    "        pred += log_llh_c1 - log_llh_c0\n",
    "    pred += log_prior_leave - log_prior_stay\n",
    "    return pred\n",
    "    "
   ]
  },
  {
   "cell_type": "code",
   "execution_count": 33,
   "id": "086a476f",
   "metadata": {},
   "outputs": [],
   "source": [
    "pred_Mult = NaiveBayes_Multinomial(X_train_c0, X_train_c1, X_test, discretized)"
   ]
  },
  {
   "cell_type": "code",
   "execution_count": 34,
   "id": "4c6e3b79",
   "metadata": {},
   "outputs": [],
   "source": [
    "# +----------------+-------+-------+\n",
    "# | Actual \\ Model |   y   |   n   |\n",
    "# +----------------+-------+-------+\n",
    "# |        y       |  TP   |  FN   |\n",
    "# |----------------+-------+-------+\n",
    "# |        n       |  FP   |  TN   |\n",
    "# +----------------+-------+-------+\n",
    "\n",
    "def get_confusionMatrix(pred, y):\n",
    "    pred = pred.astype(bool)\n",
    "    y = np.array(y).astype(bool)\n",
    "    TP = (pred&y).sum()\n",
    "    FP = (pred&~y).sum()\n",
    "    TN = (~pred&~y).sum()\n",
    "    FN = (~pred&y).sum()\n",
    "    return np.array([[TP, FN],\n",
    "                    [FP, TN]])"
   ]
  },
  {
   "cell_type": "code",
   "execution_count": 35,
   "id": "725e93e8",
   "metadata": {},
   "outputs": [],
   "source": [
    "def get_metrics(cfm, show=True):\n",
    "    TP, FN, FP, TN = cfm.ravel()\n",
    "    ALL = cfm.ravel().sum()\n",
    "    \n",
    "    accuracy = (TP+TN)/ALL\n",
    "    precision_Pos = 0 if TP+FP == 0 else TP/(TP+FP)\n",
    "    precision_Neg = 0 if FN+TN == 0 else TN/(FN+TN)\n",
    "    recall_Pos    = 0 if TP+FN == 0 else TP/(TP+FN)\n",
    "    recall_Neg    = 0 if FP+TN == 0 else TN/(FP+TN)\n",
    "    false_alarm   = 0 if FP+TN == 0 else FP/(FP+TN)\n",
    "    F1_Pos = 0 if precision_Pos + recall_Pos == 0 else (2*precision_Pos*recall_Pos)/(precision_Pos + recall_Pos)\n",
    "    F1_Neg = 0 if precision_Neg + recall_Neg == 0 else (2*precision_Neg*recall_Neg)/(precision_Neg + recall_Neg)\n",
    "        \n",
    "    if show:\n",
    "        print(\"accuracy      : \", accuracy)\n",
    "        print(\"precision_Pos : \", precision_Pos)\n",
    "        print(\"precision_Neg : \", precision_Neg)\n",
    "        print(\"recall_Pos    : \", recall_Pos)\n",
    "        print(\"recall_Neg    : \", recall_Neg)\n",
    "        print(\"false_alarm   : \", false_alarm)\n",
    "        print(\"F1_Pos        : \", F1_Pos)\n",
    "        print(\"F1_Neg        : \", F1_Neg)\n",
    "    return [accuracy, precision_Pos, precision_Neg,\n",
    "            recall_Pos, recall_Neg, false_alarm,\n",
    "            F1_Pos, F1_Neg]"
   ]
  },
  {
   "cell_type": "code",
   "execution_count": 36,
   "id": "fdfe2e4f",
   "metadata": {},
   "outputs": [],
   "source": [
    "pred_Mult = NaiveBayes_Multinomial(X_train_c0, X_train_c1, X_test, discretized)"
   ]
  },
  {
   "cell_type": "code",
   "execution_count": 37,
   "id": "bb4ea9dc",
   "metadata": {},
   "outputs": [],
   "source": [
    "pred_Mult = (pred_Mult >= 0).astype(int)"
   ]
  },
  {
   "cell_type": "code",
   "execution_count": 38,
   "id": "a678aa0a",
   "metadata": {
    "scrolled": true
   },
   "outputs": [
    {
     "data": {
      "text/plain": [
       "array([1, 0, 0, 0, 0, 0, 1, 0, 0, 0])"
      ]
     },
     "execution_count": 38,
     "metadata": {},
     "output_type": "execute_result"
    }
   ],
   "source": [
    "pred_Mult[:10]"
   ]
  },
  {
   "cell_type": "code",
   "execution_count": 39,
   "id": "1379ffb7",
   "metadata": {
    "scrolled": false
   },
   "outputs": [
    {
     "name": "stdout",
     "output_type": "stream",
     "text": [
      "[[  5  19]\n",
      " [ 14 109]]\n"
     ]
    }
   ],
   "source": [
    "cfm_Mult = get_confusionMatrix(pred_Mult ,y_test)\n",
    "print(cfm_Mult)"
   ]
  },
  {
   "cell_type": "code",
   "execution_count": 40,
   "id": "590cf5c9",
   "metadata": {
    "scrolled": false
   },
   "outputs": [
    {
     "name": "stdout",
     "output_type": "stream",
     "text": [
      "accuracy      :  0.7755102040816326\n",
      "precision_Pos :  0.2631578947368421\n",
      "precision_Neg :  0.8515625\n",
      "recall_Pos    :  0.20833333333333334\n",
      "recall_Neg    :  0.8861788617886179\n",
      "false_alarm   :  0.11382113821138211\n",
      "F1_Pos        :  0.23255813953488372\n",
      "F1_Neg        :  0.8685258964143426\n"
     ]
    }
   ],
   "source": [
    "metric_Mult  = get_metrics(cfm_Mult)"
   ]
  },
  {
   "cell_type": "markdown",
   "id": "0d9039c1",
   "metadata": {},
   "source": [
    "### Probability density function\n",
    "Now, instead of using histogram discretization, we will assume that our features are normally distributed. In other words, for certain feature types, $P(x_i|attrition)$ is now Normally distributed. By doing so, we can estimate\n",
    "the mean and standard deviation for each feature and compute the probability\n",
    "of each test feature by using the Gaussian probability density function instead.\n",
    "You can do this by calling:\n"
   ]
  },
  {
   "cell_type": "raw",
   "id": "3bece1ce",
   "metadata": {},
   "source": [
    "scipy.stats.norm(mean, std).pdf(feature_value)"
   ]
  },
  {
   "cell_type": "markdown",
   "id": "5cba539e",
   "metadata": {},
   "source": [
    "&emsp; **T12.** Use the learned distributions to classify the test set. Report the results\n",
    "using the same metric as the previous question"
   ]
  },
  {
   "cell_type": "code",
   "execution_count": 41,
   "id": "781d5f8f",
   "metadata": {},
   "outputs": [],
   "source": [
    "def NaiveBayes_Gaussian(X_train_c0, X_train_c1, X_test):\n",
    "    pred = np.zeros(X_test.shape[0])\n",
    "    for col in X_test.columns:\n",
    "        likelihood_c1 = norm(X_train_c1[~np.isnan(X_train_c1[col])][col].mean(), X_train_c1[~np.isnan(X_train_c1[col])][col].std()).pdf(X_test[col])\n",
    "        likelihood_c0 = norm(X_train_c0[~np.isnan(X_train_c0[col])][col].mean(), X_train_c0[~np.isnan(X_train_c0[col])][col].std()).pdf(X_test[col])\n",
    "        likelihood_c1[likelihood_c1 == 0] = 1e-20\n",
    "        likelihood_c0[likelihood_c0 == 0] = 1e-20\n",
    "        likelihood_c1[X_test[col] == -1] = 1\n",
    "        likelihood_c0[X_test[col] == -1] = 1\n",
    "        log_llh_c0 = np.log(likelihood_c0)\n",
    "        log_llh_c1 = np.log(likelihood_c1)\n",
    "        pred += log_llh_c1 - log_llh_c0\n",
    "    pred += log_prior_leave - log_prior_stay\n",
    "    return pred"
   ]
  },
  {
   "cell_type": "code",
   "execution_count": 42,
   "id": "54dc4581",
   "metadata": {},
   "outputs": [],
   "source": [
    "pred_Gauss = NaiveBayes_Gaussian(X_train_c0, X_train_c1, X_test)"
   ]
  },
  {
   "cell_type": "code",
   "execution_count": 43,
   "id": "736945a3",
   "metadata": {},
   "outputs": [],
   "source": [
    "pred_Gauss = (pred_Gauss >= 0).astype(int)"
   ]
  },
  {
   "cell_type": "code",
   "execution_count": 44,
   "id": "5d113ab6",
   "metadata": {
    "scrolled": false
   },
   "outputs": [
    {
     "data": {
      "text/plain": [
       "array([1, 1, 0, 0, 0, 0, 0, 0, 0, 0])"
      ]
     },
     "execution_count": 44,
     "metadata": {},
     "output_type": "execute_result"
    }
   ],
   "source": [
    "pred_Gauss[:10]"
   ]
  },
  {
   "cell_type": "code",
   "execution_count": 45,
   "id": "7fb81002",
   "metadata": {},
   "outputs": [
    {
     "name": "stdout",
     "output_type": "stream",
     "text": [
      "[[  4  20]\n",
      " [  8 115]]\n"
     ]
    }
   ],
   "source": [
    "cfm_Gauss = get_confusionMatrix(pred_Gauss ,y_test)\n",
    "print(cfm_Gauss)"
   ]
  },
  {
   "cell_type": "code",
   "execution_count": 46,
   "id": "51f9e59e",
   "metadata": {
    "scrolled": true
   },
   "outputs": [
    {
     "name": "stdout",
     "output_type": "stream",
     "text": [
      "accuracy      :  0.8095238095238095\n",
      "precision_Pos :  0.3333333333333333\n",
      "precision_Neg :  0.8518518518518519\n",
      "recall_Pos    :  0.16666666666666666\n",
      "recall_Neg    :  0.9349593495934959\n",
      "false_alarm   :  0.06504065040650407\n",
      "F1_Pos        :  0.2222222222222222\n",
      "F1_Neg        :  0.8914728682170544\n"
     ]
    }
   ],
   "source": [
    "metric_Gauss  = get_metrics(cfm_Gauss)"
   ]
  },
  {
   "cell_type": "markdown",
   "id": "76827ae2",
   "metadata": {},
   "source": [
    "### Baseline comparison\n",
    "In machine learning, we need to be able to evaluate how good our model is. We\n",
    "usually compare our model with a different model and show that our model is\n",
    "better. Sometimes we do not have a candidate model to evaluate our method\n",
    "against. In this homework, we will look at two simple baselines, the random\n",
    "choice, and the majority rule."
   ]
  },
  {
   "cell_type": "markdown",
   "id": "89727f75",
   "metadata": {},
   "source": [
    "&emsp; **T13.** The random choice baseline is the accuracy if you make a random guess\n",
    "for each test sample. Give random guess (50% leaving, and 50% staying) to the\n",
    "test samples. Report the overall Accuracy. Then, report the Precision, Recall,\n",
    "and F score for attrition prediction using the random choice baseline.\n"
   ]
  },
  {
   "cell_type": "code",
   "execution_count": 47,
   "id": "ae1729e3",
   "metadata": {
    "scrolled": true
   },
   "outputs": [
    {
     "name": "stdout",
     "output_type": "stream",
     "text": [
      "[[12 12]\n",
      " [59 64]]\n"
     ]
    }
   ],
   "source": [
    "pred_baseline = np.random.randint(2, size=X_test.shape[0])\n",
    "cfm_baseline = get_confusionMatrix(pred_baseline ,y_test)\n",
    "print(cfm_baseline)"
   ]
  },
  {
   "cell_type": "code",
   "execution_count": 48,
   "id": "d3f5af25",
   "metadata": {
    "scrolled": true
   },
   "outputs": [
    {
     "name": "stdout",
     "output_type": "stream",
     "text": [
      "accuracy      :  0.5170068027210885\n",
      "precision_Pos :  0.16901408450704225\n",
      "precision_Neg :  0.8421052631578947\n",
      "recall_Pos    :  0.5\n",
      "recall_Neg    :  0.5203252032520326\n",
      "false_alarm   :  0.4796747967479675\n",
      "F1_Pos        :  0.25263157894736843\n",
      "F1_Neg        :  0.64321608040201\n"
     ]
    }
   ],
   "source": [
    "metric_baseline = get_metrics(cfm_baseline)"
   ]
  },
  {
   "cell_type": "markdown",
   "id": "00fa9d51",
   "metadata": {},
   "source": [
    "&emsp; **T14.** The majority rule is the accuracy if you use the most frequent class\n",
    "from the training set as the classification decision. Report the overall Accuracy.\n",
    "Then, report the Precision, Recall, and F score for attrition prediction using\n",
    "the majority rule baseline.\n"
   ]
  },
  {
   "cell_type": "code",
   "execution_count": 49,
   "id": "fa681ba1",
   "metadata": {},
   "outputs": [
    {
     "data": {
      "text/plain": [
       "0    1110\n",
       "1     213\n",
       "Name: Attrition, dtype: int64"
      ]
     },
     "execution_count": 49,
     "metadata": {},
     "output_type": "execute_result"
    }
   ],
   "source": [
    "y_train.value_counts()"
   ]
  },
  {
   "cell_type": "code",
   "execution_count": 50,
   "id": "f5fd1dac",
   "metadata": {},
   "outputs": [
    {
     "name": "stdout",
     "output_type": "stream",
     "text": [
      "[[  0  24]\n",
      " [  0 123]]\n"
     ]
    }
   ],
   "source": [
    "pred_majority = np.zeros(X_test.shape[0])\n",
    "cfm_majority = get_confusionMatrix(pred_majority ,y_test)\n",
    "print(cfm_majority)"
   ]
  },
  {
   "cell_type": "code",
   "execution_count": 51,
   "id": "b029f5d4",
   "metadata": {
    "scrolled": true
   },
   "outputs": [
    {
     "name": "stdout",
     "output_type": "stream",
     "text": [
      "accuracy      :  0.8367346938775511\n",
      "precision_Pos :  0\n",
      "precision_Neg :  0.8367346938775511\n",
      "recall_Pos    :  0.0\n",
      "recall_Neg    :  1.0\n",
      "false_alarm   :  0.0\n",
      "F1_Pos        :  0\n",
      "F1_Neg        :  0.9111111111111111\n"
     ]
    }
   ],
   "source": [
    "metric_majority = get_metrics(cfm_majority)"
   ]
  },
  {
   "cell_type": "markdown",
   "id": "6557350d",
   "metadata": {},
   "source": [
    "&emsp; **T15.** Compare the two baselines with your Naive Bayes classifier."
   ]
  },
  {
   "cell_type": "code",
   "execution_count": 52,
   "id": "b152469d",
   "metadata": {},
   "outputs": [
    {
     "data": {
      "image/png": "[encoded data removed]",
      "text/plain": [
       "<Figure size 432x288 with 1 Axes>"
      ]
     },
     "metadata": {
      "needs_background": "light"
     },
     "output_type": "display_data"
    }
   ],
   "source": [
    "labels = ['Multinomial', 'Gaussian', 'Baseline', 'Majority']\n",
    "accs_models = [metric_Mult[0], metric_Gauss[0], metric_baseline[0], metric_majority[0]]\n",
    "pPs_models = [metric_Mult[1], metric_Gauss[1], metric_baseline[1], metric_majority[1]]\n",
    "rPs_models = [metric_Mult[3], metric_Gauss[3], metric_baseline[3], metric_majority[3]]\n",
    "F1Ps_models = [metric_Mult[6], metric_Gauss[6], metric_baseline[6], metric_majority[6]]\n",
    "\n",
    "x = np.array([1, 2, 3, 4, 5])\n",
    "# Obtain array of square of each element in x\n",
    "roundVal = lambda t: round(t, 2)\n",
    "accs_models = np.array([roundVal(xi) for xi in accs_models])\n",
    "pPs_models = np.array([roundVal(xi) for xi in pPs_models])\n",
    "rPs_models = np.array([roundVal(xi) for xi in rPs_models])\n",
    "F1Ps_models = np.array([roundVal(xi) for xi in F1Ps_models])\n",
    "\n",
    "x = np.arange(len(labels))*2  # the label locations\n",
    "width = 0.4  # the width of the bars\n",
    "\n",
    "fig, ax = plt.subplots()\n",
    "rects1 = ax.bar(x-3*width/2, accs_models, width, label='Accuracy')\n",
    "rects2 = ax.bar(x-width/2, pPs_models, width, label='Precision')\n",
    "rects3 = ax.bar(x+width/2, rPs_models, width, label='Recall')\n",
    "rects4 = ax.bar(x+3*width/2, F1Ps_models, width, label='F1')\n",
    "\n",
    "# Add some text for labels, title and custom x-axis tick labels, etc.\n",
    "ax.set_ylabel('Percentage')\n",
    "ax.set_title('Scores by Model')\n",
    "ax.set_xticks(x, labels)\n",
    "ax.legend()\n",
    "\n",
    "ax.bar_label(rects1, padding=3)\n",
    "ax.bar_label(rects2, padding=3)\n",
    "ax.bar_label(rects3, padding=3)\n",
    "ax.bar_label(rects4, padding=3)\n",
    "\n",
    "fig.tight_layout()\n",
    "\n",
    "plt.show()"
   ]
  },
  {
   "cell_type": "markdown",
   "id": "fb8a6601",
   "metadata": {},
   "source": [
    "### Threshold finding\n",
    "In practice, instead of comparing $lH(x)$ against 0, we usually compare against\n",
    "a threshold, t. We can change the threshold so that we maximize the accuracy,\n",
    "precision, recall, or F score (depending on which measure we want to optimize)."
   ]
  },
  {
   "cell_type": "markdown",
   "id": "36a51a64",
   "metadata": {},
   "source": [
    "&emsp; **T16.** Use the following threshold values"
   ]
  },
  {
   "cell_type": "raw",
   "id": "e4c2f84b",
   "metadata": {},
   "source": [
    "t = np.arange(-5, 5, 0.05)"
   ]
  },
  {
   "cell_type": "markdown",
   "id": "e30b41da",
   "metadata": {},
   "source": [
    "find the best accuracy, and F score (and the corresponding thresholds)"
   ]
  },
  {
   "cell_type": "code",
   "execution_count": 53,
   "id": "390095f0",
   "metadata": {},
   "outputs": [],
   "source": [
    "t = np.arange(-5, 5, 0.05)"
   ]
  },
  {
   "cell_type": "code",
   "execution_count": 54,
   "id": "c485dbe7",
   "metadata": {},
   "outputs": [],
   "source": [
    "accs = [] ; pPs = [] ; rPs = [] ; F1Ps = [] \n",
    "pred_Mult = NaiveBayes_Multinomial(X_train_c0, X_train_c1, X_test, discretized)\n",
    "for threshold in t:\n",
    "    pred_Mult_int = (pred_Mult >= threshold)\n",
    "    cfm = get_confusionMatrix(pred_Mult_int, y_test)\n",
    "    acc, pP, pN, rP, rN, fA, F1P, F1N = get_metrics(cfm, show=False)\n",
    "    accs.append(acc)\n",
    "    pPs.append(pP)\n",
    "    rPs.append(rP)\n",
    "    F1Ps.append(F1P)\n",
    "\n",
    "accs = np.array(accs)\n",
    "pPs =  np.array(pPs)\n",
    "rPs =  np.array(rPs) \n",
    "F1Ps =  np.array(F1Ps)"
   ]
  },
  {
   "cell_type": "code",
   "execution_count": 55,
   "id": "90356228",
   "metadata": {},
   "outputs": [
    {
     "data": {
      "image/png": "[encoded data removed]",
      "text/plain": [
       "<Figure size 432x288 with 1 Axes>"
      ]
     },
     "metadata": {
      "needs_background": "light"
     },
     "output_type": "display_data"
    }
   ],
   "source": [
    "plt.plot(t, accs)\n",
    "plt.plot(t, pPs)\n",
    "plt.plot(t, rPs)\n",
    "plt.plot(t, F1Ps)\n",
    "plt.legend([\"accs\",\"pPs\",\"rPs\",\"F1Ps\"])\n",
    "plt.show()"
   ]
  },
  {
   "cell_type": "code",
   "execution_count": 56,
   "id": "f16468bc",
   "metadata": {},
   "outputs": [],
   "source": [
    "boundary = 0\n",
    "max_acc = 0; max_f1 = 0; max_t = 0\n",
    "for i in range(t.shape[0]):\n",
    "    if accs[i] + F1Ps[i] > boundary:\n",
    "        boundary = accs[i] + F1Ps[i]\n",
    "        max_acc = accs[i]\n",
    "        max_f1 = F1Ps[i]\n",
    "        max_t = t[i]"
   ]
  },
  {
   "cell_type": "code",
   "execution_count": 57,
   "id": "0fb4d71f",
   "metadata": {},
   "outputs": [
    {
     "data": {
      "text/plain": [
       "0.7551020408163265"
      ]
     },
     "execution_count": 57,
     "metadata": {},
     "output_type": "execute_result"
    }
   ],
   "source": [
    "max_acc"
   ]
  },
  {
   "cell_type": "code",
   "execution_count": 58,
   "id": "18f8512d",
   "metadata": {
    "scrolled": true
   },
   "outputs": [
    {
     "data": {
      "text/plain": [
       "0.3793103448275862"
      ]
     },
     "execution_count": 58,
     "metadata": {},
     "output_type": "execute_result"
    }
   ],
   "source": [
    "max_f1"
   ]
  },
  {
   "cell_type": "code",
   "execution_count": 59,
   "id": "4c7b39dd",
   "metadata": {},
   "outputs": [
    {
     "data": {
      "text/plain": [
       "-1.5500000000000123"
      ]
     },
     "execution_count": 59,
     "metadata": {},
     "output_type": "execute_result"
    }
   ],
   "source": [
    "max_t"
   ]
  },
  {
   "cell_type": "code",
   "execution_count": 60,
   "id": "0c507785",
   "metadata": {},
   "outputs": [],
   "source": [
    "accs = [] ; pPs = [] ; rPs = [] ; F1Ps = [] \n",
    "pred_Gauss = NaiveBayes_Gaussian(X_train_c0, X_train_c1, X_test)\n",
    "for threshold in t:\n",
    "    pred_Gauss_int = (pred_Gauss >= threshold)\n",
    "    cfm = get_confusionMatrix(pred_Gauss_int, y_test)\n",
    "    acc, pP, pN, rP, rN, fA, F1P, F1N = get_metrics(cfm, show=False)\n",
    "    accs.append(acc)\n",
    "    pPs.append(pP)\n",
    "    rPs.append(rP)\n",
    "    F1Ps.append(F1P)\n",
    "\n",
    "accs = np.array(accs)\n",
    "pPs =  np.array(pPs)\n",
    "rPs =  np.array(rPs) \n",
    "F1Ps =  np.array(F1Ps)"
   ]
  },
  {
   "cell_type": "code",
   "execution_count": 61,
   "id": "91611876",
   "metadata": {},
   "outputs": [
    {
     "data": {
      "image/png": "[encoded data removed]",
      "text/plain": [
       "<Figure size 432x288 with 1 Axes>"
      ]
     },
     "metadata": {
      "needs_background": "light"
     },
     "output_type": "display_data"
    }
   ],
   "source": [
    "plt.plot(t, accs)\n",
    "plt.plot(t, pPs)\n",
    "plt.plot(t, rPs)\n",
    "plt.plot(t, F1Ps)\n",
    "plt.legend([\"accs\",\"pPs\",\"rPs\",\"F1Ps\"])\n",
    "plt.show()"
   ]
  },
  {
   "cell_type": "code",
   "execution_count": 62,
   "id": "0fdfc612",
   "metadata": {},
   "outputs": [],
   "source": [
    "boundary = 0\n",
    "max_acc = 0; max_f1 = 0; max_t = 0\n",
    "for i in range(t.shape[0]):\n",
    "    if accs[i] + F1Ps[i] > boundary:\n",
    "        boundary = accs[i] + F1Ps[i]\n",
    "        max_acc = accs[i]\n",
    "        max_f1 = F1Ps[i]\n",
    "        max_t = t[i]"
   ]
  },
  {
   "cell_type": "code",
   "execution_count": 63,
   "id": "4f8623f2",
   "metadata": {},
   "outputs": [
    {
     "data": {
      "text/plain": [
       "0.8095238095238095"
      ]
     },
     "execution_count": 63,
     "metadata": {},
     "output_type": "execute_result"
    }
   ],
   "source": [
    "max_acc"
   ]
  },
  {
   "cell_type": "code",
   "execution_count": 64,
   "id": "11735677",
   "metadata": {
    "scrolled": true
   },
   "outputs": [
    {
     "data": {
      "text/plain": [
       "0.3333333333333333"
      ]
     },
     "execution_count": 64,
     "metadata": {},
     "output_type": "execute_result"
    }
   ],
   "source": [
    "max_f1"
   ]
  },
  {
   "cell_type": "code",
   "execution_count": 65,
   "id": "f7b038bf",
   "metadata": {},
   "outputs": [
    {
     "data": {
      "text/plain": [
       "-0.3000000000000167"
      ]
     },
     "execution_count": 65,
     "metadata": {},
     "output_type": "execute_result"
    }
   ],
   "source": [
    "max_t"
   ]
  },
  {
   "cell_type": "markdown",
   "id": "4b87202d",
   "metadata": {},
   "source": [
    "### Receiver Operating Characteristic (RoC) curve\n",
    "The recall rate (true positive rate) and the false alarm rate can change as we\n",
    "vary the threshold. The false alarm rate will deteriorate as we decrease the\n",
    "threshold (more false alarms). On the other hand, the recall rate will improve.\n",
    "This is also another trade-off machine learning practitioners need to consider.\n",
    "If we plot the false alarm vs recall as we vary the threshold (false alarm as the\n",
    "x-axis and recall as the y-axis), we get a plot called the ”Receiver operating\n",
    "characteristic (RoC) curve.” The RoC curve illustrates the performance of a\n",
    "binary classifier (Will this person leave? Will this person survive the Titanic?\n",
    "yes or no) as the threshold is varied. An example RoC curve is shown below"
   ]
  },
  {
   "cell_type": "markdown",
   "id": "efdf7d42",
   "metadata": {},
   "source": [
    "&emsp; **T17.** Plot the RoC of your classifier"
   ]
  },
  {
   "cell_type": "code",
   "execution_count": 66,
   "id": "49412b81",
   "metadata": {},
   "outputs": [
    {
     "data": {
      "image/png": "[encoded data removed]",
      "text/plain": [
       "<Figure size 360x360 with 1 Axes>"
      ]
     },
     "metadata": {
      "needs_background": "light"
     },
     "output_type": "display_data"
    }
   ],
   "source": [
    "t = np.arange(-100, 100, 0.05)\n",
    "rPs_Mult = [] ; fAs_Mult = []\n",
    "rPs_Gauss = [] ; fAs_Gauss = []\n",
    "pred_Mult = NaiveBayes_Multinomial(X_train_c0, X_train_c1, X_test, discretized)\n",
    "pred_Gauss = NaiveBayes_Gaussian(X_train_c0, X_train_c1, X_test)\n",
    "for threshold in t:\n",
    "    pred_Mult_int = (pred_Mult >= threshold)\n",
    "    cfm_Mult = get_confusionMatrix(pred_Mult_int, y_test)\n",
    "    acc, pP, pN, rP_Mult, rN, fA_Mult, F1P, F1N = get_metrics(cfm_Mult, show=False)\n",
    "    rPs_Mult.append(rP_Mult)\n",
    "    fAs_Mult.append(fA_Mult)\n",
    "    \n",
    "    pred_Gauss_int = (pred_Gauss >= threshold)\n",
    "    cfm_Gauss = get_confusionMatrix(pred_Gauss_int, y_test)\n",
    "    acc, pP, pN, rP_Gauss, rN, fA_Gauss, F1P, F1N = get_metrics(cfm_Gauss, show=False)\n",
    "    rPs_Gauss.append(rP_Gauss)\n",
    "    fAs_Gauss.append(fA_Gauss)\n",
    "\n",
    "rPs_Mult =  np.array(rPs_Mult)\n",
    "fAs_Mult =  np.array(fAs_Mult) \n",
    "rPs_Gauss =  np.array(rPs_Gauss)\n",
    "fAs_Gauss =  np.array(fAs_Gauss) \n",
    "\n",
    "plt.figure(figsize=(5, 5))\n",
    "plt.plot(fAs_Mult, rPs_Mult)\n",
    "plt.plot(fAs_Gauss, rPs_Gauss)\n",
    "plt.plot([0,1], [0,1],'--')\n",
    "plt.xlabel(\"FA Rate\")\n",
    "plt.ylabel(\"TP Rate\")\n",
    "plt.legend([\"Multinomial\",\"Gaussian\"])\n",
    "plt.show()"
   ]
  },
  {
   "cell_type": "markdown",
   "id": "9b85909e",
   "metadata": {},
   "source": [
    "&emsp; **T18.** Change the number of discretization bins to 5. What happens to the\n",
    "RoC curve? Which discretization is better? The number of discretization bins\n",
    "can be considered as a hyperparameter, and must be chosen by comparing the\n",
    "final performance."
   ]
  },
  {
   "cell_type": "code",
   "execution_count": 67,
   "id": "a23dbdbc",
   "metadata": {},
   "outputs": [
    {
     "data": {
      "image/png": "[encoded data removed]",
      "text/plain": [
       "<Figure size 360x360 with 1 Axes>"
      ]
     },
     "metadata": {
      "needs_background": "light"
     },
     "output_type": "display_data"
    }
   ],
   "source": [
    "t = np.arange(-100, 100, 0.05)\n",
    "rPs_Mult_10 = [] ; fAs_Mult_10 = []\n",
    "rPs_Mult_5 = [] ; fAs_Mult_5 = []\n",
    "pred_Mult_10 = NaiveBayes_Multinomial(X_train_c0, X_train_c1, X_test, discretized)\n",
    "pred_Mult_5 = NaiveBayes_Multinomial(X_train_c0, X_train_c1, X_test, discretized, bin=5)\n",
    "for threshold in t:\n",
    "    pred_Mult_10_int = (pred_Mult_10 >= threshold)\n",
    "    cfm_Mult_10 = get_confusionMatrix(pred_Mult_10_int, y_test)\n",
    "    acc, pP, pN, rP_Mult_10, rN, fA_Mult_10, F1P, F1N = get_metrics(cfm_Mult_10, show=False)\n",
    "    rPs_Mult_10.append(rP_Mult_10)\n",
    "    fAs_Mult_10.append(fA_Mult_10)\n",
    "    \n",
    "    pred_Mult_5_int = (pred_Mult_5 >= threshold)\n",
    "    cfm_Mult_5 = get_confusionMatrix(pred_Mult_5_int, y_test)\n",
    "    acc, pP, pN, rP_Mult_5, rN, fA_Mult_5, F1P, F1N = get_metrics(cfm_Mult_5, show=False)\n",
    "    rPs_Mult_5.append(rP_Mult_5)\n",
    "    fAs_Mult_5.append(fA_Mult_5)\n",
    "\n",
    "rPs_Mult_10 =  np.array(rPs_Mult_10)\n",
    "fAs_Mult_10 =  np.array(fAs_Mult_10) \n",
    "rPs_Mult_5 =  np.array(rPs_Mult_5)\n",
    "fAs_Mult_5 =  np.array(fAs_Mult_5) \n",
    "\n",
    "plt.figure(figsize=(5, 5))\n",
    "plt.plot(fAs_Mult_10, rPs_Mult_10)\n",
    "plt.plot(fAs_Mult_5, rPs_Mult_5)\n",
    "plt.plot([0,1], [0,1],'--')\n",
    "plt.xlabel(\"FA Rate\")\n",
    "plt.ylabel(\"TP Rate\")\n",
    "plt.legend([\"Multinomial_10\",\"Multinomial_5\"])\n",
    "plt.show()"
   ]
  },
  {
   "cell_type": "markdown",
   "id": "84362a47",
   "metadata": {},
   "source": [
    "By changing the number of discretization bins to 5, the RoC curve will increase faster than the 10 bins. The Naive Bayes with 5 discretization bins is better than The Naive Bayes with 10 because at the same FA Rate, Mult_5 have TP Rate more than Mult_10"
   ]
  },
  {
   "cell_type": "markdown",
   "id": "a8e2a61e",
   "metadata": {},
   "source": [
    "&emsp; **T19.** Submit your code (.py or .ipynb) on mycourseville.\n",
    "If you’ve made it this far, **congratulations!** you’ve just created simple models\n",
    "that can help HR deal with one of their biggest problems. Simple, isn’t it?\n",
    "This is a real world task with real implications, and I personally have been\n",
    "approached by big companies to help with this."
   ]
  },
  {
   "cell_type": "markdown",
   "id": "a9b1ba84",
   "metadata": {},
   "source": [
    "### (Optional) Classifier Variance\n",
    "Recall, in class, we talked about the variance of a classifier as the training set\n",
    "changes. In this section, we will evaluate our model if we shuffle the training\n",
    "and test data. This will give a measure whether our recognizer is good just\n",
    "because we are lucky (and give statistical significance to our experiments)."
   ]
  },
  {
   "cell_type": "markdown",
   "id": "299091d3",
   "metadata": {},
   "source": [
    "&emsp; **OT3.** Shuffle the database, and create new test and train sets. Redo the\n",
    "entire training and evaluation process 10 times (each time with a new training\n",
    "and test set). Calculate the mean and variance of the accuracy rate."
   ]
  },
  {
   "cell_type": "code",
   "execution_count": 68,
   "id": "48bb4593",
   "metadata": {
    "scrolled": false
   },
   "outputs": [],
   "source": [
    "metrics = []\n",
    "for attemp in range(10):\n",
    "    df = pd.read_csv(\"https://raw.githubusercontent.com/ekapolc/pattern_2022/main/HW/HW02/hr-employee-attrition-with-null.csv\").drop([\"Unnamed: 0\"],axis=1)\n",
    "    df.loc[df[\"Attrition\"] == \"no\", \"Attrition\"] = 0.0\n",
    "    df.loc[df[\"Attrition\"] == \"yes\", \"Attrition\"] = 1.0\n",
    "    for col in df.columns:\n",
    "        df[col] = pd.Categorical(df[col]).codes\n",
    "    df = df.drop(columns = \"EmployeeNumber\")\n",
    "    X = df.copy()\n",
    "    y = df[\"Attrition\"].copy()\n",
    "    X_train, X_test, y_train, y_test = train_test_split(X, y, stratify=y, test_size=0.10)\n",
    "    X_train_c0 = X_train[X_train[\"Attrition\"]==0]\n",
    "    X_train_c1 = X_train[X_train[\"Attrition\"]==1]\n",
    "    y_c0 = y_train.value_counts()[0]\n",
    "    y_c1 = y_train.value_counts()[1]\n",
    "    X_test = X_test.drop(\"Attrition\", axis=1)\n",
    "    prior_leave = y_c1/(y_c0 + y_c1)\n",
    "    prior_stay =  y_c0/(y_c0 + y_c1)\n",
    "    log_prior_leave = np.log(prior_leave)\n",
    "    log_prior_stay = np.log(prior_stay)\n",
    "    pred_Mult = NaiveBayes_Multinomial(X_train_c0, X_train_c1, X_test, discretized, bin=5)\n",
    "    pred_Mult = (pred_Mult >= 0).astype(int)\n",
    "    cfm_Mult = get_confusionMatrix(pred_Mult ,y_test)\n",
    "    metric_Mult  = get_metrics(cfm_Mult,show=False)\n",
    "    metrics.append(metric_Mult)\n",
    "metrics = np.array(metrics)"
   ]
  },
  {
   "cell_type": "code",
   "execution_count": 69,
   "id": "7360b0c0",
   "metadata": {},
   "outputs": [],
   "source": [
    "avg_s = [metrics[:,i].mean() for i in range(8)]\n",
    "var_s = [metrics[:,i].var() for i in range(8)]\n",
    "#[accuracy, precision_Pos, precision_Neg, recall_Pos, recall_Neg, false_alarm, F1_Pos, F1_Neg]"
   ]
  },
  {
   "cell_type": "code",
   "execution_count": 70,
   "id": "0258cd51",
   "metadata": {},
   "outputs": [
    {
     "name": "stdout",
     "output_type": "stream",
     "text": [
      "mean accuracy: 0.826530612244898, variance accuracy: 0.00042806238141515136\n"
     ]
    }
   ],
   "source": [
    "avg_acc = avg_s[0]\n",
    "var_acc = var_s[0]\n",
    "print(f\"mean accuracy: {avg_acc}, variance accuracy: {var_acc}\")"
   ]
  },
  {
   "cell_type": "code",
   "execution_count": null,
   "id": "d06e56c2",
   "metadata": {},
   "outputs": [],
   "source": []
  }
 ],
 "metadata": {
  "kernelspec": {
   "display_name": "Python 3 (ipykernel)",
   "language": "python",
   "name": "python3"
  },
  "language_info": {
   "codemirror_mode": {
    "name": "ipython",
    "version": 3
   },
   "file_extension": ".py",
   "mimetype": "text/x-python",
   "name": "python",
   "nbconvert_exporter": "python",
   "pygments_lexer": "ipython3",
   "version": "3.7.11"
  }
 },
 "nbformat": 4,
 "nbformat_minor": 5
}
