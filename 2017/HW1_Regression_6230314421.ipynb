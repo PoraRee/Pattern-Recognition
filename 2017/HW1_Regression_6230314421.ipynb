{
 "cells": [
  {
   "cell_type": "markdown",
   "id": "6f438c55",
   "metadata": {},
   "source": [
    "# Homework 1 Clustering and Regression"
   ]
  },
  {
   "cell_type": "markdown",
   "id": "ae54c751",
   "metadata": {},
   "source": [
    "## Instructions\n",
    "Answer the questions and upload your answers to courseville. Answers can be\n",
    "in Thai or English. Answers can be either t|yped or handwritten and scanned."
   ]
  },
  {
   "cell_type": "markdown",
   "id": "bd1bf840",
   "metadata": {},
   "source": [
    "## Fun with matrix algebra\n",
    "Prove the following statements. All of them can be solved by first expanding\n",
    "out the matrix notation as a combination of their elements, and then use the\n",
    "definitions of trace and matrix derivatives to help finish the proof. For example,\n",
    "the $(i, j)$ element of $Y = AB$ is $Y_{i,j} = \\sum_{m}A_{i,m}B_{m,j}$. <br>\n",
    "* $\\nabla_{A}trAB = B^{T}$ <br>\n",
    "* $\\nabla_{A^{T}} f(A) = (\\nabla_{A}f(A))^{T}$ <br>\n",
    "* $\\nabla_{A}trABA^{T}C = CAB + C^{T}AB^{T}$ <br>\n",
    "Hint: Try first solving the easier equation of $\\nabla_{A}trBAC = (CB)^{T} =B^{T}C^{T}$"
   ]
  },
  {
   "cell_type": "markdown",
   "id": "bdb33ae3",
   "metadata": {},
   "source": [
    "&emsp; given\n",
    "$A = \n",
    "\\begin{bmatrix}\n",
    " A_{11} & \\cdots & A_{1n} \\\\ \n",
    " \\vdots & \\ddots & \\vdots \\\\ \n",
    " A_{m1} & \\cdots & A_{mn}\n",
    "\\end{bmatrix} \\;; \\;\\;\\;\n",
    "\\nabla_{A} f = \n",
    "\\begin{bmatrix}\n",
    " \\frac{\\partial f}{\\partial A_{11}} & \\cdots & \\frac{\\partial f}{\\partial A_{1n}} \\\\ \n",
    " \\vdots & \\ddots & \\vdots \\\\ \n",
    " \\frac{\\partial f}{\\partial A_{m1}} & \\cdots & \\frac{\\partial f}{\\partial A_{mn}}\n",
    "\\end{bmatrix}$$ \\;; \\;\\;\\;\n",
    "tr A = \\sum_{i=1}^{N} A_{ii} $\n",
    "\n",
    "&emsp;\n",
    "Let A = $\n",
    "\\begin{bmatrix}\n",
    " \\longleftarrow \\vec{a_1} \\longrightarrow  \\\\\n",
    " \\longleftarrow \\vec{a_2} \\longrightarrow  \\\\\n",
    " \\vdots  \\\\\n",
    " \\longleftarrow \\vec{a_n} \\longrightarrow  \\\\\n",
    "\\end{bmatrix} \\;; \\;\\;\\; $\n",
    "B = $\\begin{bmatrix}\n",
    " \\uparrow & \\uparrow & & \\uparrow  \\\\\n",
    " \\vec{b_1} & \\vec{b_2} & \\cdots & \\vec{b_n} \\\\\n",
    " \\downarrow & \\downarrow & & \\downarrow\n",
    "\\end{bmatrix}$"
   ]
  },
  {
   "cell_type": "markdown",
   "id": "091d78a3",
   "metadata": {},
   "source": [
    "\n",
    "&emsp; 1. $\\nabla_{A}trAB = B^{T}$ \\\n",
    "\\begin{equation}\n",
    "\\begin{split}\n",
    "  tr(AB) & = tr \\left( \\begin{bmatrix}\n",
    "                 \\longleftarrow \\vec{a_1} \\longrightarrow  \\\\\n",
    "                 \\longleftarrow \\vec{a_2} \\longrightarrow  \\\\\n",
    "                 \\vdots  \\\\\n",
    "                 \\longleftarrow \\vec{a_n} \\longrightarrow  \\\\\n",
    "                \\end{bmatrix}\n",
    "                \\begin{bmatrix}\n",
    "                 \\uparrow & \\uparrow & & \\uparrow  \\\\\n",
    "                 \\vec{b_1} & \\vec{b_2} & \\cdots & \\vec{b_n} \\\\\n",
    "                 \\downarrow & \\downarrow & & \\downarrow\n",
    "                \\end{bmatrix} \\right) \\\\\n",
    "  & = tr \\begin{bmatrix}\n",
    "          \\vec{a_1}^{T}\\vec{b_1}^{T} & \\vec{a_1}^{T}\\vec{b_2}^{T} & \\cdots & \\vec{a_1}^{T}\\vec{b_n}^{T} \\\\\n",
    "          \\vec{a_2}^{T}\\vec{b_1}^{T} & \\vec{a_2}^{T}\\vec{b_2}^{T} & \\cdots & \\vec{a_2}^{T}\\vec{b_n}^{T} \\\\\n",
    "          \\vdots & & \\ddots & \\vdots \\\\\n",
    "          \\vec{a_n}^{T}\\vec{b_1}^{T} & \\vec{a_n}^{T}\\vec{b_2}^{T} & \\cdots & \\vec{a_n}^{T}\\vec{b_n}^{T} \\\\\n",
    "         \\end{bmatrix} \\\\\n",
    "  & = \\sum_{i=1}^{m}a_{1,i}b_{i,1} + \\sum_{i=1}^{m}a_{2,i}b_{i,2} + \\cdots +  \\sum_{i=1}^{m}a_{n,i}b_{i,n} \\\\\n",
    "  \\because \\frac{\\partial tr(AB)}{\\partial A_{ij}} & =  b_{ji}\\\\\n",
    "  \\therefore \\nabla_{A}tr(AB) & = B^{T}\n",
    "\\end{split}\n",
    "\\end{equation}\n",
    "\n"
   ]
  },
  {
   "cell_type": "markdown",
   "id": "2b6ff002",
   "metadata": {},
   "source": [
    "\n",
    "&emsp; 2. $\\nabla_{A^{T}} f(A) = (\\nabla_{A}f(A))^{T}$ \\\n",
    "\\begin{equation}\n",
    "\\begin{split}\n",
    "  \\nabla_{A^{T}} f(A) & = \\begin{bmatrix}\n",
    "                         \\frac{\\partial f(A)}{\\partial A_{11}} & \\frac{\\partial f(A)}{\\partial A_{21}} & \\cdots & \\frac{\\partial f(A)}{\\partial A_{n1}} \\\\\n",
    "                         \\frac{\\partial f(A)}{\\partial A_{12}} & \\frac{\\partial f(A)}{\\partial A_{22}} & \\cdots & \\frac{\\partial f(A)}{\\partial A_{n2}} \\\\\n",
    "                         \\vdots & \\vdots & \\ddots & \\vdots \\\\\n",
    "                         \\frac{\\partial f(A)}{\\partial A_{1m}} & \\frac{\\partial f(A)}{\\partial A_{2m}} & \\cdots & \\frac{\\partial f(A)}{\\partial A_{nm}} \\\\\n",
    "                        \\end{bmatrix}\\\\\n",
    "  & = \\begin{bmatrix}\n",
    "       \\frac{\\partial f(A)}{\\partial A_{11}} & \\frac{\\partial f(A)}{\\partial A_{12}} & \\cdots & \\frac{\\partial f(A)}{\\partial A_{1n}} \\\\\n",
    "       \\frac{\\partial f(A)}{\\partial A_{21}} & \\frac{\\partial f(A)}{\\partial A_{22}} & \\cdots & \\frac{\\partial f(A)}{\\partial A_{2n}} \\\\\n",
    "       \\vdots & \\vdots & \\ddots & \\vdots \\\\\n",
    "       \\frac{\\partial f(A)}{\\partial A_{m1}} & \\frac{\\partial f(A)}{\\partial A_{m2}} & \\cdots & \\frac{\\partial f(A)}{\\partial A_{mn}} \\\\\n",
    "                        \\end{bmatrix}^{T}\\\\\n",
    "  & = (\\nabla_{A}f(A))^{T}\n",
    "\\end{split}\n",
    "\\end{equation}\n",
    "\n"
   ]
  },
  {
   "cell_type": "markdown",
   "id": "dc253cdf",
   "metadata": {},
   "source": [
    "&emsp; 3. $\\nabla_{A}trABA^{T}C = CAB + C^{T}AB^{T}$ \\\n",
    "&emsp;&emsp;&emsp; let $AB = f(A)$\n",
    "\\begin{equation}\n",
    "\\begin{split}\n",
    "  \\nabla_{A}trABA^{T}C & = \\nabla_{A}trf(A)A^{T}C \\\\\n",
    "  & = \\nabla_{\\bullet}trf(\\bullet)A^{T}C + \\nabla_{\\bullet}trf(A)\\bullet^{T}C \\\\\n",
    "  & = (A^{T}C)^{T}f'(\\bullet) + (\\nabla_{\\bullet^{T}}trf(A)\\bullet^{T}C)^{T} \\\\\n",
    "  & = C^{T}AB^{T} + (\\nabla_{\\bullet^{T}}tr\\bullet^{T}Cf(A))^{T} \\\\\n",
    "  & = C^{T}AB^{T} + ((Cf(A))^{T})^{T} \\\\\n",
    "  & = C^{T}AB^{T} + CAB \\\\\n",
    "  & = CAB + C^{T}AB^{T}\n",
    "\\end{split}\n",
    "\\end{equation}\n",
    "\n"
   ]
  },
  {
   "cell_type": "markdown",
   "id": "c46f0209",
   "metadata": {},
   "source": [
    "## Hello Clustering\n",
    "Recall from lecture that K-means has two main steps: the points assignment\n",
    "step, and the mean update step. After the initialization of the centroids, we\n",
    "assign each data point to a centroid. Then, each centroids are updated by\n",
    "re-estimating the means. <br>\n",
    "&emsp; Concretely, if we are given N data points, x1, x2, ..., xN , and we would like\n",
    "to form K clusters. We do the following; <br>\n",
    "1. **Initialization**: Pick K random data points as K centroid locations c1,\n",
    "c2, ..., cK.\n",
    "2. **Assign**: For each data point k, find the closest centroid. Assign that\n",
    "data point to the centroid. The distance used is typically Euclidean distance.\n",
    "3. **Update**: For each centroid, calculate the mean from the data points\n",
    "assigned to it.\n",
    "4. **Repeat**: repeat step 2 and 3 until the centroids stop changing (convergence). <br>\n",
    "Given the following data points in x-y coordinates (2 dimensional)\n",
    "|  x |  y |\n",
    "|:--:|:--:|\n",
    "|  1 |  2 |\n",
    "|  3 |  3 |\n",
    "|  2 |  2 |\n",
    "|  8 |  8 |\n",
    "|  6 |  6 |\n",
    "|  7 |  7 |\n",
    "| -3 | -3 |\n",
    "| -2 | -4 |\n",
    "| -7 | -7 |"
   ]
  },
  {
   "cell_type": "code",
   "execution_count": 1,
   "id": "fc3af733",
   "metadata": {},
   "outputs": [],
   "source": [
    "import numpy as np\n",
    "import pandas as pd\n",
    "import matplotlib.pyplot as plt"
   ]
  },
  {
   "cell_type": "code",
   "execution_count": 2,
   "id": "d5360b36",
   "metadata": {
    "scrolled": true
   },
   "outputs": [
    {
     "data": {
      "image/png": "[encoded data removed]",
      "text/plain": [
       "<Figure size 432x288 with 1 Axes>"
      ]
     },
     "metadata": {
      "needs_background": "light"
     },
     "output_type": "display_data"
    }
   ],
   "source": [
    "x = np.array([1,3,2,8,6,7,-3,-2,-7])\n",
    "y = np.array([2,3,2,8,6,7,-3,-4,-7])\n",
    "plt.scatter(x, y, color = 'red')\n",
    "plt.show()"
   ]
  },
  {
   "cell_type": "markdown",
   "id": "f3aa00ed",
   "metadata": {},
   "source": [
    "* If the starting points are (3,3), (2,2), and (-3,3). Describe each assign\n",
    "and update step. What are the points assigned? What are the updated\n",
    "means? You may do this calculation by hand or write a program to do it.\n",
    "* If the starting points are (-3,-3), (2,2), and (-7,-7), what happens?\n",
    "* Between the two starting set of points in the previous two questions, which\n",
    "one do you think is better? How would you measure the ‘goodness’ quality\n",
    "of a set of starting points?\n",
    "In general, it is important to try different sets of starting points when\n",
    "doing k-means.\n",
    "* (Optional) What would be the best K for this question? Describe your\n",
    "reasoning."
   ]
  },
  {
   "cell_type": "code",
   "execution_count": 3,
   "id": "4dc657b4",
   "metadata": {},
   "outputs": [],
   "source": [
    "class KMeans:\n",
    "    def __init__(self, data_points, k):\n",
    "        self.k = k\n",
    "        self.data_points = data_points\n",
    "        self.centroids = [None]*k\n",
    "        self.clusters = [None]*len(data_points)\n",
    "        \n",
    "    def summary(self):\n",
    "        print('K             :', self.k)\n",
    "        print('data_points   :', self.data_points)\n",
    "        print('centroids     :', self.centroids)\n",
    "        print('clusters      :', self.clusters)\n",
    "        \n",
    "    def distance(self, p1, p2):\n",
    "        return ((p1[0]-p2[0])**2 + (p1[1]-p2[1])**2)**0.5\n",
    "    \n",
    "    def initialization(self, points):\n",
    "        if len(points) != self.k:\n",
    "            print(\"Error: length of points not equal K.\")\n",
    "            return False\n",
    "        else:\n",
    "            self.centroids = points\n",
    "            self.clusters = [None]*len(data_points)\n",
    "            return True\n",
    "        \n",
    "    def assign(self):\n",
    "        nextC = []\n",
    "        for point in self.data_points:\n",
    "            distances = []\n",
    "            for centroid in self.centroids:\n",
    "                distances.append(self.distance(point, centroid))\n",
    "            nextC.append(np.argmin(distances))\n",
    "        self.clusters = nextC\n",
    "        return nextC\n",
    "    def updateMean(self):\n",
    "        centroid_points = []\n",
    "        for clusterID in range(self.k):\n",
    "            points = []\n",
    "            for idx in self.cluster:\n",
    "                if self.cluster[idx] == clsuterID:\n",
    "                    points.append(self.data_points[idx])\n",
    "            x_data = [point[0] for point in points]\n",
    "            y_data = [point[1] for point in points]\n",
    "            x_mean = np.mean(x_data)\n",
    "            y_mean = np.mean(y_data)\n",
    "            centroid_points.append((x_mean, y_mean))\n",
    "                    \n",
    "    def update(self):\n",
    "        centroid_points = []\n",
    "        for clusterID in range(self.k):\n",
    "            points = []\n",
    "            for idx in range(len(self.data_points)):\n",
    "                if self.clusters[idx] == clusterID:\n",
    "                    points.append(self.data_points[idx])\n",
    "            x_data = [point[0] for point in points]\n",
    "            y_data = [point[1] for point in points]\n",
    "            x_mean = np.mean(x_data)\n",
    "            y_mean = np.mean(y_data)\n",
    "            centroid_points.append((x_mean, y_mean))\n",
    "        self.centroids = centroid_points\n",
    "        \n",
    "    def step(self):\n",
    "        self.assign()\n",
    "        self.update()"
   ]
  },
  {
   "cell_type": "code",
   "execution_count": 4,
   "id": "63230808",
   "metadata": {
    "scrolled": false
   },
   "outputs": [
    {
     "name": "stdout",
     "output_type": "stream",
     "text": [
      "K             : 3\n",
      "data_points   : [(1, 2), (3, 3), (2, 2), (8, 8), (6, 6), (7, 7), (-3, -3), (-2, -4), (-7, -7)]\n",
      "centroids     : [(3, 3), (2, 2), (-3, -3)]\n",
      "clusters      : [None, None, None, None, None, None, None, None, None]\n"
     ]
    }
   ],
   "source": [
    "data_points = [(1,2), (3,3), (2,2) , (8,8), (6,6), (7,7), (-3,-3), (-2,-4), (-7,-7)]\n",
    "KM1 = KMeans(data_points, 3)\n",
    "startPoints_1 = [(3,3), (2,2), (-3,-3)]\n",
    "KM1.initialization(startPoints_1)\n",
    "KM1.summary()"
   ]
  },
  {
   "cell_type": "code",
   "execution_count": 5,
   "id": "5534a139",
   "metadata": {
    "scrolled": true
   },
   "outputs": [
    {
     "name": "stdout",
     "output_type": "stream",
     "text": [
      "K             : 3\n",
      "data_points   : [(1, 2), (3, 3), (2, 2), (8, 8), (6, 6), (7, 7), (-3, -3), (-2, -4), (-7, -7)]\n",
      "centroids     : [(6.0, 6.0), (1.5, 2.0), (-4.0, -4.666666666666667)]\n",
      "clusters      : [1, 0, 1, 0, 0, 0, 2, 2, 2]\n"
     ]
    }
   ],
   "source": [
    "KM1.step()\n",
    "KM1.summary()"
   ]
  },
  {
   "cell_type": "code",
   "execution_count": 6,
   "id": "f198b434",
   "metadata": {},
   "outputs": [
    {
     "name": "stdout",
     "output_type": "stream",
     "text": [
      "K             : 3\n",
      "data_points   : [(1, 2), (3, 3), (2, 2), (8, 8), (6, 6), (7, 7), (-3, -3), (-2, -4), (-7, -7)]\n",
      "centroids     : [(7.0, 7.0), (2.0, 2.3333333333333335), (-4.0, -4.666666666666667)]\n",
      "clusters      : [1, 1, 1, 0, 0, 0, 2, 2, 2]\n"
     ]
    }
   ],
   "source": [
    "KM1.step()\n",
    "KM1.summary()"
   ]
  },
  {
   "cell_type": "code",
   "execution_count": 7,
   "id": "3bbb3fbd",
   "metadata": {},
   "outputs": [
    {
     "name": "stdout",
     "output_type": "stream",
     "text": [
      "K             : 3\n",
      "data_points   : [(1, 2), (3, 3), (2, 2), (8, 8), (6, 6), (7, 7), (-3, -3), (-2, -4), (-7, -7)]\n",
      "centroids     : [(7.0, 7.0), (2.0, 2.3333333333333335), (-4.0, -4.666666666666667)]\n",
      "clusters      : [1, 1, 1, 0, 0, 0, 2, 2, 2]\n"
     ]
    }
   ],
   "source": [
    "KM1.step()\n",
    "KM1.summary()\n",
    "#HALT"
   ]
  },
  {
   "cell_type": "code",
   "execution_count": 8,
   "id": "9680f4ae",
   "metadata": {},
   "outputs": [
    {
     "data": {
      "image/png": "[encoded data removed]",
      "text/plain": [
       "<Figure size 432x288 with 1 Axes>"
      ]
     },
     "metadata": {
      "needs_background": "light"
     },
     "output_type": "display_data"
    }
   ],
   "source": [
    "KM1_x = [p[0] for p in KM1.data_points]\n",
    "KM1_y = [p[1] for p in KM1.data_points]\n",
    "plt_x = []\n",
    "plt_y = []\n",
    "for clusterID in range(KM1.k):\n",
    "    x = []\n",
    "    y = []\n",
    "    for i in range(len(KM1.data_points)):\n",
    "        if KM1.clusters[i] == clusterID:\n",
    "            x.append(KM1_x[i])\n",
    "            y.append(KM1_y[i])\n",
    "    plt_x.append(x)\n",
    "    plt_y.append(y)\n",
    "for clusterID in range(KM1.k):\n",
    "    plt.scatter(plt_x[clusterID], plt_y[clusterID])\n",
    "plt.show()"
   ]
  },
  {
   "cell_type": "code",
   "execution_count": 9,
   "id": "86cdb8cb",
   "metadata": {},
   "outputs": [
    {
     "name": "stdout",
     "output_type": "stream",
     "text": [
      "K             : 3\n",
      "data_points   : [(1, 2), (3, 3), (2, 2), (8, 8), (6, 6), (7, 7), (-3, -3), (-2, -4), (-7, -7)]\n",
      "centroids     : [(-3, -3), (2, 2), (-7, -7)]\n",
      "clusters      : [None, None, None, None, None, None, None, None, None]\n"
     ]
    }
   ],
   "source": [
    "data_points = [(1,2), (3,3), (2,2) , (8,8), (6,6), (7,7), (-3,-3), (-2,-4), (-7,-7)]\n",
    "KM2 = KMeans(data_points, 3)\n",
    "startPoints_2 = [(-3,-3), (2,2), (-7,-7)]\n",
    "KM2.initialization(startPoints_2)\n",
    "KM2.summary()"
   ]
  },
  {
   "cell_type": "code",
   "execution_count": 10,
   "id": "8ef133a4",
   "metadata": {},
   "outputs": [
    {
     "name": "stdout",
     "output_type": "stream",
     "text": [
      "K             : 3\n",
      "data_points   : [(1, 2), (3, 3), (2, 2), (8, 8), (6, 6), (7, 7), (-3, -3), (-2, -4), (-7, -7)]\n",
      "centroids     : [(-2.5, -3.5), (4.5, 4.666666666666667), (-7.0, -7.0)]\n",
      "clusters      : [1, 1, 1, 1, 1, 1, 0, 0, 2]\n"
     ]
    }
   ],
   "source": [
    "KM2.step()\n",
    "KM2.summary()"
   ]
  },
  {
   "cell_type": "code",
   "execution_count": 11,
   "id": "54a0021f",
   "metadata": {},
   "outputs": [
    {
     "name": "stdout",
     "output_type": "stream",
     "text": [
      "K             : 3\n",
      "data_points   : [(1, 2), (3, 3), (2, 2), (8, 8), (6, 6), (7, 7), (-3, -3), (-2, -4), (-7, -7)]\n",
      "centroids     : [(-2.5, -3.5), (4.5, 4.666666666666667), (-7.0, -7.0)]\n",
      "clusters      : [1, 1, 1, 1, 1, 1, 0, 0, 2]\n"
     ]
    }
   ],
   "source": [
    "KM2.step()\n",
    "KM2.summary()"
   ]
  },
  {
   "cell_type": "code",
   "execution_count": 12,
   "id": "91cefe23",
   "metadata": {},
   "outputs": [
    {
     "data": {
      "image/png": "[encoded data removed]",
      "text/plain": [
       "<Figure size 432x288 with 1 Axes>"
      ]
     },
     "metadata": {
      "needs_background": "light"
     },
     "output_type": "display_data"
    }
   ],
   "source": [
    "KM2_x = [p[0] for p in KM2.data_points]\n",
    "KM2_y = [p[1] for p in KM2.data_points]\n",
    "plt_x = []\n",
    "plt_y = []\n",
    "for clusterID in range(KM2.k):\n",
    "    x = []\n",
    "    y = []\n",
    "    for i in range(len(KM2.data_points)):\n",
    "        if KM2.clusters[i] == clusterID:\n",
    "            x.append(KM1_x[i])\n",
    "            y.append(KM1_y[i])\n",
    "    plt_x.append(x)\n",
    "    plt_y.append(y)\n",
    "for clusterID in range(KM2.k):\n",
    "    plt.scatter(plt_x[clusterID], plt_y[clusterID])\n",
    "plt.show()"
   ]
  },
  {
   "cell_type": "markdown",
   "id": "a73357a6",
   "metadata": {},
   "source": [
    "To find the \"goodness\" quality, we can use <br>\n",
    "* Elbow Curve Method of Distortion or Inertia <br>\n",
    "* Silhouette Coefficient. <br>"
   ]
  },
  {
   "cell_type": "markdown",
   "id": "a2a3caf1",
   "metadata": {},
   "source": [
    "To find the best k for this question, we can use Elbow Curve Method. <br>"
   ]
  },
  {
   "cell_type": "markdown",
   "id": "6b697a3c",
   "metadata": {},
   "source": [
    "## My heart will go on"
   ]
  },
  {
   "cell_type": "markdown",
   "id": "bb9662c8",
   "metadata": {},
   "source": [
    "&emsp; In this part of the exercise we will work on the Titanic dataset provided by\n",
    "Kaggle. The Titanic dataset contains information of the passengers boarding\n",
    "the Titanic on its final voyage. We will work on predicting whether a given\n",
    "passenger will survive the trip. <br>\n",
    "&emsp; Let’s launch Jupyter and start coding! <br>\n",
    "&emsp; We start by importing the data using Pandas\n"
   ]
  },
  {
   "cell_type": "code",
   "execution_count": 13,
   "id": "11c050aa",
   "metadata": {},
   "outputs": [],
   "source": [
    "train_url = \"http://s3.amazonaws.com/assets.datacamp.com/course/Kaggle/train.csv\"\n",
    "train = pd.read_csv(train_url) #training set\n",
    "test_url = \"http://s3.amazonaws.com/assets.datacamp.com/course/Kaggle/test.csv\"\n",
    "test = pd.read_csv(test_url) #test set"
   ]
  },
  {
   "cell_type": "markdown",
   "id": "e60fc212",
   "metadata": {},
   "source": [
    "&emsp; Both train and test are dataframes. Use the function train.head() and train.tail() to explore the data. What do you see? <br>"
   ]
  },
  {
   "cell_type": "code",
   "execution_count": 14,
   "id": "9aa21901",
   "metadata": {
    "scrolled": false
   },
   "outputs": [
    {
     "data": {
      "text/html": [
       "<div>\n",
       "<style scoped>\n",
       "    .dataframe tbody tr th:only-of-type {\n",
       "        vertical-align: middle;\n",
       "    }\n",
       "\n",
       "    .dataframe tbody tr th {\n",
       "        vertical-align: top;\n",
       "    }\n",
       "\n",
       "    .dataframe thead th {\n",
       "        text-align: right;\n",
       "    }\n",
       "</style>\n",
       "<table border=\"1\" class=\"dataframe\">\n",
       "  <thead>\n",
       "    <tr style=\"text-align: right;\">\n",
       "      <th></th>\n",
       "      <th>PassengerId</th>\n",
       "      <th>Survived</th>\n",
       "      <th>Pclass</th>\n",
       "      <th>Name</th>\n",
       "      <th>Sex</th>\n",
       "      <th>Age</th>\n",
       "      <th>SibSp</th>\n",
       "      <th>Parch</th>\n",
       "      <th>Ticket</th>\n",
       "      <th>Fare</th>\n",
       "      <th>Cabin</th>\n",
       "      <th>Embarked</th>\n",
       "    </tr>\n",
       "  </thead>\n",
       "  <tbody>\n",
       "    <tr>\n",
       "      <th>0</th>\n",
       "      <td>1</td>\n",
       "      <td>0</td>\n",
       "      <td>3</td>\n",
       "      <td>Braund, Mr. Owen Harris</td>\n",
       "      <td>male</td>\n",
       "      <td>22.0</td>\n",
       "      <td>1</td>\n",
       "      <td>0</td>\n",
       "      <td>A/5 21171</td>\n",
       "      <td>7.2500</td>\n",
       "      <td>NaN</td>\n",
       "      <td>S</td>\n",
       "    </tr>\n",
       "    <tr>\n",
       "      <th>1</th>\n",
       "      <td>2</td>\n",
       "      <td>1</td>\n",
       "      <td>1</td>\n",
       "      <td>Cumings, Mrs. John Bradley (Florence Briggs Th...</td>\n",
       "      <td>female</td>\n",
       "      <td>38.0</td>\n",
       "      <td>1</td>\n",
       "      <td>0</td>\n",
       "      <td>PC 17599</td>\n",
       "      <td>71.2833</td>\n",
       "      <td>C85</td>\n",
       "      <td>C</td>\n",
       "    </tr>\n",
       "    <tr>\n",
       "      <th>2</th>\n",
       "      <td>3</td>\n",
       "      <td>1</td>\n",
       "      <td>3</td>\n",
       "      <td>Heikkinen, Miss. Laina</td>\n",
       "      <td>female</td>\n",
       "      <td>26.0</td>\n",
       "      <td>0</td>\n",
       "      <td>0</td>\n",
       "      <td>STON/O2. 3101282</td>\n",
       "      <td>7.9250</td>\n",
       "      <td>NaN</td>\n",
       "      <td>S</td>\n",
       "    </tr>\n",
       "    <tr>\n",
       "      <th>3</th>\n",
       "      <td>4</td>\n",
       "      <td>1</td>\n",
       "      <td>1</td>\n",
       "      <td>Futrelle, Mrs. Jacques Heath (Lily May Peel)</td>\n",
       "      <td>female</td>\n",
       "      <td>35.0</td>\n",
       "      <td>1</td>\n",
       "      <td>0</td>\n",
       "      <td>113803</td>\n",
       "      <td>53.1000</td>\n",
       "      <td>C123</td>\n",
       "      <td>S</td>\n",
       "    </tr>\n",
       "    <tr>\n",
       "      <th>4</th>\n",
       "      <td>5</td>\n",
       "      <td>0</td>\n",
       "      <td>3</td>\n",
       "      <td>Allen, Mr. William Henry</td>\n",
       "      <td>male</td>\n",
       "      <td>35.0</td>\n",
       "      <td>0</td>\n",
       "      <td>0</td>\n",
       "      <td>373450</td>\n",
       "      <td>8.0500</td>\n",
       "      <td>NaN</td>\n",
       "      <td>S</td>\n",
       "    </tr>\n",
       "    <tr>\n",
       "      <th>5</th>\n",
       "      <td>6</td>\n",
       "      <td>0</td>\n",
       "      <td>3</td>\n",
       "      <td>Moran, Mr. James</td>\n",
       "      <td>male</td>\n",
       "      <td>NaN</td>\n",
       "      <td>0</td>\n",
       "      <td>0</td>\n",
       "      <td>330877</td>\n",
       "      <td>8.4583</td>\n",
       "      <td>NaN</td>\n",
       "      <td>Q</td>\n",
       "    </tr>\n",
       "  </tbody>\n",
       "</table>\n",
       "</div>"
      ],
      "text/plain": [
       "   PassengerId  Survived  Pclass  \\\n",
       "0            1         0       3   \n",
       "1            2         1       1   \n",
       "2            3         1       3   \n",
       "3            4         1       1   \n",
       "4            5         0       3   \n",
       "5            6         0       3   \n",
       "\n",
       "                                                Name     Sex   Age  SibSp  \\\n",
       "0                            Braund, Mr. Owen Harris    male  22.0      1   \n",
       "1  Cumings, Mrs. John Bradley (Florence Briggs Th...  female  38.0      1   \n",
       "2                             Heikkinen, Miss. Laina  female  26.0      0   \n",
       "3       Futrelle, Mrs. Jacques Heath (Lily May Peel)  female  35.0      1   \n",
       "4                           Allen, Mr. William Henry    male  35.0      0   \n",
       "5                                   Moran, Mr. James    male   NaN      0   \n",
       "\n",
       "   Parch            Ticket     Fare Cabin Embarked  \n",
       "0      0         A/5 21171   7.2500   NaN        S  \n",
       "1      0          PC 17599  71.2833   C85        C  \n",
       "2      0  STON/O2. 3101282   7.9250   NaN        S  \n",
       "3      0            113803  53.1000  C123        S  \n",
       "4      0            373450   8.0500   NaN        S  \n",
       "5      0            330877   8.4583   NaN        Q  "
      ]
     },
     "execution_count": 14,
     "metadata": {},
     "output_type": "execute_result"
    }
   ],
   "source": [
    "train.head(6)"
   ]
  },
  {
   "cell_type": "code",
   "execution_count": 15,
   "id": "71227c8f",
   "metadata": {
    "scrolled": false
   },
   "outputs": [
    {
     "data": {
      "text/html": [
       "<div>\n",
       "<style scoped>\n",
       "    .dataframe tbody tr th:only-of-type {\n",
       "        vertical-align: middle;\n",
       "    }\n",
       "\n",
       "    .dataframe tbody tr th {\n",
       "        vertical-align: top;\n",
       "    }\n",
       "\n",
       "    .dataframe thead th {\n",
       "        text-align: right;\n",
       "    }\n",
       "</style>\n",
       "<table border=\"1\" class=\"dataframe\">\n",
       "  <thead>\n",
       "    <tr style=\"text-align: right;\">\n",
       "      <th></th>\n",
       "      <th>PassengerId</th>\n",
       "      <th>Pclass</th>\n",
       "      <th>Name</th>\n",
       "      <th>Sex</th>\n",
       "      <th>Age</th>\n",
       "      <th>SibSp</th>\n",
       "      <th>Parch</th>\n",
       "      <th>Ticket</th>\n",
       "      <th>Fare</th>\n",
       "      <th>Cabin</th>\n",
       "      <th>Embarked</th>\n",
       "    </tr>\n",
       "  </thead>\n",
       "  <tbody>\n",
       "    <tr>\n",
       "      <th>412</th>\n",
       "      <td>1304</td>\n",
       "      <td>3</td>\n",
       "      <td>Henriksson, Miss. Jenny Lovisa</td>\n",
       "      <td>female</td>\n",
       "      <td>28.0</td>\n",
       "      <td>0</td>\n",
       "      <td>0</td>\n",
       "      <td>347086</td>\n",
       "      <td>7.7750</td>\n",
       "      <td>NaN</td>\n",
       "      <td>S</td>\n",
       "    </tr>\n",
       "    <tr>\n",
       "      <th>413</th>\n",
       "      <td>1305</td>\n",
       "      <td>3</td>\n",
       "      <td>Spector, Mr. Woolf</td>\n",
       "      <td>male</td>\n",
       "      <td>NaN</td>\n",
       "      <td>0</td>\n",
       "      <td>0</td>\n",
       "      <td>A.5. 3236</td>\n",
       "      <td>8.0500</td>\n",
       "      <td>NaN</td>\n",
       "      <td>S</td>\n",
       "    </tr>\n",
       "    <tr>\n",
       "      <th>414</th>\n",
       "      <td>1306</td>\n",
       "      <td>1</td>\n",
       "      <td>Oliva y Ocana, Dona. Fermina</td>\n",
       "      <td>female</td>\n",
       "      <td>39.0</td>\n",
       "      <td>0</td>\n",
       "      <td>0</td>\n",
       "      <td>PC 17758</td>\n",
       "      <td>108.9000</td>\n",
       "      <td>C105</td>\n",
       "      <td>C</td>\n",
       "    </tr>\n",
       "    <tr>\n",
       "      <th>415</th>\n",
       "      <td>1307</td>\n",
       "      <td>3</td>\n",
       "      <td>Saether, Mr. Simon Sivertsen</td>\n",
       "      <td>male</td>\n",
       "      <td>38.5</td>\n",
       "      <td>0</td>\n",
       "      <td>0</td>\n",
       "      <td>SOTON/O.Q. 3101262</td>\n",
       "      <td>7.2500</td>\n",
       "      <td>NaN</td>\n",
       "      <td>S</td>\n",
       "    </tr>\n",
       "    <tr>\n",
       "      <th>416</th>\n",
       "      <td>1308</td>\n",
       "      <td>3</td>\n",
       "      <td>Ware, Mr. Frederick</td>\n",
       "      <td>male</td>\n",
       "      <td>NaN</td>\n",
       "      <td>0</td>\n",
       "      <td>0</td>\n",
       "      <td>359309</td>\n",
       "      <td>8.0500</td>\n",
       "      <td>NaN</td>\n",
       "      <td>S</td>\n",
       "    </tr>\n",
       "    <tr>\n",
       "      <th>417</th>\n",
       "      <td>1309</td>\n",
       "      <td>3</td>\n",
       "      <td>Peter, Master. Michael J</td>\n",
       "      <td>male</td>\n",
       "      <td>NaN</td>\n",
       "      <td>1</td>\n",
       "      <td>1</td>\n",
       "      <td>2668</td>\n",
       "      <td>22.3583</td>\n",
       "      <td>NaN</td>\n",
       "      <td>C</td>\n",
       "    </tr>\n",
       "  </tbody>\n",
       "</table>\n",
       "</div>"
      ],
      "text/plain": [
       "     PassengerId  Pclass                            Name     Sex   Age  SibSp  \\\n",
       "412         1304       3  Henriksson, Miss. Jenny Lovisa  female  28.0      0   \n",
       "413         1305       3              Spector, Mr. Woolf    male   NaN      0   \n",
       "414         1306       1    Oliva y Ocana, Dona. Fermina  female  39.0      0   \n",
       "415         1307       3    Saether, Mr. Simon Sivertsen    male  38.5      0   \n",
       "416         1308       3             Ware, Mr. Frederick    male   NaN      0   \n",
       "417         1309       3        Peter, Master. Michael J    male   NaN      1   \n",
       "\n",
       "     Parch              Ticket      Fare Cabin Embarked  \n",
       "412      0              347086    7.7750   NaN        S  \n",
       "413      0           A.5. 3236    8.0500   NaN        S  \n",
       "414      0            PC 17758  108.9000  C105        C  \n",
       "415      0  SOTON/O.Q. 3101262    7.2500   NaN        S  \n",
       "416      0              359309    8.0500   NaN        S  \n",
       "417      1                2668   22.3583   NaN        C  "
      ]
     },
     "execution_count": 15,
     "metadata": {},
     "output_type": "execute_result"
    }
   ],
   "source": [
    "test.tail(6)"
   ]
  },
  {
   "cell_type": "markdown",
   "id": "0c35612a",
   "metadata": {},
   "source": [
    "&emsp; Use the function describe() to get a better understanding of the data.\n",
    "You can read the meaning of the data fields at https://www.kaggle.com/c/titanic/data <br>"
   ]
  },
  {
   "cell_type": "code",
   "execution_count": 16,
   "id": "ca6397d2",
   "metadata": {
    "scrolled": true
   },
   "outputs": [
    {
     "data": {
      "text/html": [
       "<div>\n",
       "<style scoped>\n",
       "    .dataframe tbody tr th:only-of-type {\n",
       "        vertical-align: middle;\n",
       "    }\n",
       "\n",
       "    .dataframe tbody tr th {\n",
       "        vertical-align: top;\n",
       "    }\n",
       "\n",
       "    .dataframe thead th {\n",
       "        text-align: right;\n",
       "    }\n",
       "</style>\n",
       "<table border=\"1\" class=\"dataframe\">\n",
       "  <thead>\n",
       "    <tr style=\"text-align: right;\">\n",
       "      <th></th>\n",
       "      <th>PassengerId</th>\n",
       "      <th>Survived</th>\n",
       "      <th>Pclass</th>\n",
       "      <th>Age</th>\n",
       "      <th>SibSp</th>\n",
       "      <th>Parch</th>\n",
       "      <th>Fare</th>\n",
       "    </tr>\n",
       "  </thead>\n",
       "  <tbody>\n",
       "    <tr>\n",
       "      <th>count</th>\n",
       "      <td>891.000000</td>\n",
       "      <td>891.000000</td>\n",
       "      <td>891.000000</td>\n",
       "      <td>714.000000</td>\n",
       "      <td>891.000000</td>\n",
       "      <td>891.000000</td>\n",
       "      <td>891.000000</td>\n",
       "    </tr>\n",
       "    <tr>\n",
       "      <th>mean</th>\n",
       "      <td>446.000000</td>\n",
       "      <td>0.383838</td>\n",
       "      <td>2.308642</td>\n",
       "      <td>29.699118</td>\n",
       "      <td>0.523008</td>\n",
       "      <td>0.381594</td>\n",
       "      <td>32.204208</td>\n",
       "    </tr>\n",
       "    <tr>\n",
       "      <th>std</th>\n",
       "      <td>257.353842</td>\n",
       "      <td>0.486592</td>\n",
       "      <td>0.836071</td>\n",
       "      <td>14.526497</td>\n",
       "      <td>1.102743</td>\n",
       "      <td>0.806057</td>\n",
       "      <td>49.693429</td>\n",
       "    </tr>\n",
       "    <tr>\n",
       "      <th>min</th>\n",
       "      <td>1.000000</td>\n",
       "      <td>0.000000</td>\n",
       "      <td>1.000000</td>\n",
       "      <td>0.420000</td>\n",
       "      <td>0.000000</td>\n",
       "      <td>0.000000</td>\n",
       "      <td>0.000000</td>\n",
       "    </tr>\n",
       "    <tr>\n",
       "      <th>25%</th>\n",
       "      <td>223.500000</td>\n",
       "      <td>0.000000</td>\n",
       "      <td>2.000000</td>\n",
       "      <td>20.125000</td>\n",
       "      <td>0.000000</td>\n",
       "      <td>0.000000</td>\n",
       "      <td>7.910400</td>\n",
       "    </tr>\n",
       "    <tr>\n",
       "      <th>50%</th>\n",
       "      <td>446.000000</td>\n",
       "      <td>0.000000</td>\n",
       "      <td>3.000000</td>\n",
       "      <td>28.000000</td>\n",
       "      <td>0.000000</td>\n",
       "      <td>0.000000</td>\n",
       "      <td>14.454200</td>\n",
       "    </tr>\n",
       "    <tr>\n",
       "      <th>75%</th>\n",
       "      <td>668.500000</td>\n",
       "      <td>1.000000</td>\n",
       "      <td>3.000000</td>\n",
       "      <td>38.000000</td>\n",
       "      <td>1.000000</td>\n",
       "      <td>0.000000</td>\n",
       "      <td>31.000000</td>\n",
       "    </tr>\n",
       "    <tr>\n",
       "      <th>max</th>\n",
       "      <td>891.000000</td>\n",
       "      <td>1.000000</td>\n",
       "      <td>3.000000</td>\n",
       "      <td>80.000000</td>\n",
       "      <td>8.000000</td>\n",
       "      <td>6.000000</td>\n",
       "      <td>512.329200</td>\n",
       "    </tr>\n",
       "  </tbody>\n",
       "</table>\n",
       "</div>"
      ],
      "text/plain": [
       "       PassengerId    Survived      Pclass         Age       SibSp  \\\n",
       "count   891.000000  891.000000  891.000000  714.000000  891.000000   \n",
       "mean    446.000000    0.383838    2.308642   29.699118    0.523008   \n",
       "std     257.353842    0.486592    0.836071   14.526497    1.102743   \n",
       "min       1.000000    0.000000    1.000000    0.420000    0.000000   \n",
       "25%     223.500000    0.000000    2.000000   20.125000    0.000000   \n",
       "50%     446.000000    0.000000    3.000000   28.000000    0.000000   \n",
       "75%     668.500000    1.000000    3.000000   38.000000    1.000000   \n",
       "max     891.000000    1.000000    3.000000   80.000000    8.000000   \n",
       "\n",
       "            Parch        Fare  \n",
       "count  891.000000  891.000000  \n",
       "mean     0.381594   32.204208  \n",
       "std      0.806057   49.693429  \n",
       "min      0.000000    0.000000  \n",
       "25%      0.000000    7.910400  \n",
       "50%      0.000000   14.454200  \n",
       "75%      0.000000   31.000000  \n",
       "max      6.000000  512.329200  "
      ]
     },
     "execution_count": 16,
     "metadata": {},
     "output_type": "execute_result"
    }
   ],
   "source": [
    "train.describe()"
   ]
  },
  {
   "cell_type": "markdown",
   "id": "b6bb3a00",
   "metadata": {},
   "source": [
    "&emsp; Looking at the data, you will notice a lot of missing values. For example,\n",
    "some age is NaN. This is normal for real world data to have some missing values.\n",
    "There are several ways to handle missing values. The simplest is to throw away\n",
    "any rows that have missing values. However, this usually reduce the amount\n",
    "of training data you have. Another method is to guess what the missing value\n",
    "should be. The simplest guess is to use the Median or Mode of the data. For\n",
    "this exercise we will proceed with this.\n",
    "* What is the median age of the training set? You can easily modify the age in the dataframe by"
   ]
  },
  {
   "cell_type": "code",
   "execution_count": 17,
   "id": "54ccfd76",
   "metadata": {},
   "outputs": [],
   "source": [
    "train[\"Age\"] = train[\"Age\"].fillna(train[\"Age\"].median())"
   ]
  },
  {
   "cell_type": "code",
   "execution_count": 18,
   "id": "3b3fa970",
   "metadata": {
    "scrolled": false
   },
   "outputs": [
    {
     "data": {
      "text/html": [
       "<div>\n",
       "<style scoped>\n",
       "    .dataframe tbody tr th:only-of-type {\n",
       "        vertical-align: middle;\n",
       "    }\n",
       "\n",
       "    .dataframe tbody tr th {\n",
       "        vertical-align: top;\n",
       "    }\n",
       "\n",
       "    .dataframe thead th {\n",
       "        text-align: right;\n",
       "    }\n",
       "</style>\n",
       "<table border=\"1\" class=\"dataframe\">\n",
       "  <thead>\n",
       "    <tr style=\"text-align: right;\">\n",
       "      <th></th>\n",
       "      <th>PassengerId</th>\n",
       "      <th>Survived</th>\n",
       "      <th>Pclass</th>\n",
       "      <th>Name</th>\n",
       "      <th>Sex</th>\n",
       "      <th>Age</th>\n",
       "      <th>SibSp</th>\n",
       "      <th>Parch</th>\n",
       "      <th>Ticket</th>\n",
       "      <th>Fare</th>\n",
       "      <th>Cabin</th>\n",
       "      <th>Embarked</th>\n",
       "    </tr>\n",
       "  </thead>\n",
       "  <tbody>\n",
       "    <tr>\n",
       "      <th>0</th>\n",
       "      <td>1</td>\n",
       "      <td>0</td>\n",
       "      <td>3</td>\n",
       "      <td>Braund, Mr. Owen Harris</td>\n",
       "      <td>male</td>\n",
       "      <td>22.0</td>\n",
       "      <td>1</td>\n",
       "      <td>0</td>\n",
       "      <td>A/5 21171</td>\n",
       "      <td>7.2500</td>\n",
       "      <td>NaN</td>\n",
       "      <td>S</td>\n",
       "    </tr>\n",
       "    <tr>\n",
       "      <th>1</th>\n",
       "      <td>2</td>\n",
       "      <td>1</td>\n",
       "      <td>1</td>\n",
       "      <td>Cumings, Mrs. John Bradley (Florence Briggs Th...</td>\n",
       "      <td>female</td>\n",
       "      <td>38.0</td>\n",
       "      <td>1</td>\n",
       "      <td>0</td>\n",
       "      <td>PC 17599</td>\n",
       "      <td>71.2833</td>\n",
       "      <td>C85</td>\n",
       "      <td>C</td>\n",
       "    </tr>\n",
       "    <tr>\n",
       "      <th>2</th>\n",
       "      <td>3</td>\n",
       "      <td>1</td>\n",
       "      <td>3</td>\n",
       "      <td>Heikkinen, Miss. Laina</td>\n",
       "      <td>female</td>\n",
       "      <td>26.0</td>\n",
       "      <td>0</td>\n",
       "      <td>0</td>\n",
       "      <td>STON/O2. 3101282</td>\n",
       "      <td>7.9250</td>\n",
       "      <td>NaN</td>\n",
       "      <td>S</td>\n",
       "    </tr>\n",
       "    <tr>\n",
       "      <th>3</th>\n",
       "      <td>4</td>\n",
       "      <td>1</td>\n",
       "      <td>1</td>\n",
       "      <td>Futrelle, Mrs. Jacques Heath (Lily May Peel)</td>\n",
       "      <td>female</td>\n",
       "      <td>35.0</td>\n",
       "      <td>1</td>\n",
       "      <td>0</td>\n",
       "      <td>113803</td>\n",
       "      <td>53.1000</td>\n",
       "      <td>C123</td>\n",
       "      <td>S</td>\n",
       "    </tr>\n",
       "    <tr>\n",
       "      <th>4</th>\n",
       "      <td>5</td>\n",
       "      <td>0</td>\n",
       "      <td>3</td>\n",
       "      <td>Allen, Mr. William Henry</td>\n",
       "      <td>male</td>\n",
       "      <td>35.0</td>\n",
       "      <td>0</td>\n",
       "      <td>0</td>\n",
       "      <td>373450</td>\n",
       "      <td>8.0500</td>\n",
       "      <td>NaN</td>\n",
       "      <td>S</td>\n",
       "    </tr>\n",
       "    <tr>\n",
       "      <th>5</th>\n",
       "      <td>6</td>\n",
       "      <td>0</td>\n",
       "      <td>3</td>\n",
       "      <td>Moran, Mr. James</td>\n",
       "      <td>male</td>\n",
       "      <td>28.0</td>\n",
       "      <td>0</td>\n",
       "      <td>0</td>\n",
       "      <td>330877</td>\n",
       "      <td>8.4583</td>\n",
       "      <td>NaN</td>\n",
       "      <td>Q</td>\n",
       "    </tr>\n",
       "  </tbody>\n",
       "</table>\n",
       "</div>"
      ],
      "text/plain": [
       "   PassengerId  Survived  Pclass  \\\n",
       "0            1         0       3   \n",
       "1            2         1       1   \n",
       "2            3         1       3   \n",
       "3            4         1       1   \n",
       "4            5         0       3   \n",
       "5            6         0       3   \n",
       "\n",
       "                                                Name     Sex   Age  SibSp  \\\n",
       "0                            Braund, Mr. Owen Harris    male  22.0      1   \n",
       "1  Cumings, Mrs. John Bradley (Florence Briggs Th...  female  38.0      1   \n",
       "2                             Heikkinen, Miss. Laina  female  26.0      0   \n",
       "3       Futrelle, Mrs. Jacques Heath (Lily May Peel)  female  35.0      1   \n",
       "4                           Allen, Mr. William Henry    male  35.0      0   \n",
       "5                                   Moran, Mr. James    male  28.0      0   \n",
       "\n",
       "   Parch            Ticket     Fare Cabin Embarked  \n",
       "0      0         A/5 21171   7.2500   NaN        S  \n",
       "1      0          PC 17599  71.2833   C85        C  \n",
       "2      0  STON/O2. 3101282   7.9250   NaN        S  \n",
       "3      0            113803  53.1000  C123        S  \n",
       "4      0            373450   8.0500   NaN        S  \n",
       "5      0            330877   8.4583   NaN        Q  "
      ]
     },
     "execution_count": 18,
     "metadata": {},
     "output_type": "execute_result"
    }
   ],
   "source": [
    "train.head(6)"
   ]
  },
  {
   "cell_type": "markdown",
   "id": "bfae52c7",
   "metadata": {},
   "source": [
    "* Some fields like ‘Embarked’ are categorical. They need to be converted to numbers first. We will represent S with 0, C with 1, and Q with 2. What is the mode of Embarked? Fill the missing values with the mode. You can set the value of Embarked easily with the following command."
   ]
  },
  {
   "cell_type": "code",
   "execution_count": 19,
   "id": "959197e3",
   "metadata": {},
   "outputs": [],
   "source": [
    "train.loc[train[\"Embarked\"] == \"S\", \"Embarked\"] = 0\n",
    "train.loc[train[\"Embarked\"] == \"C\", \"Embarked\"] = 1\n",
    "train.loc[train[\"Embarked\"] == \"Q\", \"Embarked\"] = 2"
   ]
  },
  {
   "cell_type": "code",
   "execution_count": 20,
   "id": "334dee16",
   "metadata": {
    "scrolled": false
   },
   "outputs": [
    {
     "data": {
      "text/plain": [
       "array([0, 1, 2, nan], dtype=object)"
      ]
     },
     "execution_count": 20,
     "metadata": {},
     "output_type": "execute_result"
    }
   ],
   "source": [
    "train[\"Embarked\"].unique()"
   ]
  },
  {
   "cell_type": "code",
   "execution_count": 21,
   "id": "3a8762f1",
   "metadata": {},
   "outputs": [
    {
     "name": "stdout",
     "output_type": "stream",
     "text": [
      "644\n",
      "168\n",
      "77\n"
     ]
    }
   ],
   "source": [
    "print(len(train[train[\"Embarked\"]==0]))\n",
    "print(len(train[train[\"Embarked\"]==1]))\n",
    "print(len(train[train[\"Embarked\"]==2]))"
   ]
  },
  {
   "cell_type": "code",
   "execution_count": 22,
   "id": "a006c281",
   "metadata": {},
   "outputs": [],
   "source": [
    "train[\"Embarked\"] = train[\"Embarked\"].fillna(0)"
   ]
  },
  {
   "cell_type": "markdown",
   "id": "2d0989f2",
   "metadata": {},
   "source": [
    "* Do the same for Sex"
   ]
  },
  {
   "cell_type": "code",
   "execution_count": 23,
   "id": "618c8eaf",
   "metadata": {
    "scrolled": true
   },
   "outputs": [],
   "source": [
    "train.loc[train[\"Sex\"] == \"male\", \"Sex\"] = 0\n",
    "train.loc[train[\"Sex\"] == \"female\", \"Sex\"] = 1"
   ]
  },
  {
   "cell_type": "markdown",
   "id": "3f567018",
   "metadata": {},
   "source": [
    "&emsp; Write a logistic regression classifier as learned in class. Use PClass, Sex, Age,\n",
    "and Embarked as input features. You can extract the features from Pandas to\n",
    "Numpy by"
   ]
  },
  {
   "cell_type": "code",
   "execution_count": 24,
   "id": "30a41e7d",
   "metadata": {},
   "outputs": [],
   "source": [
    "data = np.array(train[[\"Pclass\",\"Sex\",\"Age\",\"Embarked\"]].values)"
   ]
  },
  {
   "cell_type": "code",
   "execution_count": 25,
   "id": "c6d5768a",
   "metadata": {},
   "outputs": [
    {
     "name": "stdout",
     "output_type": "stream",
     "text": [
      "(891, 4)\n",
      "[[3 0 22.0 0]\n",
      " [1 1 38.0 1]\n",
      " [3 1 26.0 0]\n",
      " [1 1 35.0 0]\n",
      " [3 0 35.0 0]\n",
      " [3 0 28.0 2]]\n"
     ]
    }
   ],
   "source": [
    "print(data.shape)\n",
    "print(data[:6])"
   ]
  },
  {
   "cell_type": "markdown",
   "id": "b1870b98",
   "metadata": {},
   "source": [
    "&emsp; Check the datatype of <br>\n",
    "&emsp; When you evaluate the trained model on the test set, you will need to make a final decision. Since logistic regression outputs a score between 0 and 1, you will need to decide whether a score of 0.3 (or any other number) means the passenger survive or not. For now, we will say if the score is greater than or equal to 0.5, the passenger survives. If the score is lower than 0.5 the passenger will be dead. This process is often called Threshold. We will talk more about this process later in class. <br>\n",
    "&emsp; To evaluate your results, we will use Kaggle. Kaggle is a website that hosts many machine learning competitions. Many companies put up their data as a problem for anyone to participate. If you are looking for a task for your course project, Kaggle might be a good place to start. You will need to make sure that your output is in line with the submission requirements of Kaggle: a csv file with exactly 418 entries and two columns: PassengerId and Survived. Then, use the code provided to make a new data frame using DataFrame(), and create a csv file using to csv() method from Pandas. <br>\n",
    "&emsp; To submit your prediction, you must first sign-up for an account on Kaggle.com. Click participate to the competition at https://www.kaggle.com/c/titanic/ then submit your csv file for the score.\n",
    "\n",
    "* Submit a screenshot of your submission (with the scores). Upload your code to courseville.\n",
    "* (Optional) Try adding some higher order features to your training $(x^{2}_{1}, x_1x_2,...)$. Does this model has better accuracy on the training set? How does it perform on the test set?\n",
    "* (Optional) What happens if you reduce the amount of features to just Sex and Age?\n"
   ]
  },
  {
   "cell_type": "code",
   "execution_count": 33,
   "id": "a1c395d3",
   "metadata": {
    "scrolled": true
   },
   "outputs": [],
   "source": [
    "#Clean test data\n",
    "test[\"Age\"] = test[\"Age\"].fillna(test[\"Age\"].median())\n",
    "test.loc[test[\"Sex\"] == \"male\", \"Sex\"] = 0\n",
    "test.loc[test[\"Sex\"] == \"female\", \"Sex\"] = 1\n",
    "test.loc[test[\"Embarked\"] == \"S\", \"Embarked\"] = 0\n",
    "test.loc[test[\"Embarked\"] == \"C\", \"Embarked\"] = 1\n",
    "test.loc[test[\"Embarked\"] == \"Q\", \"Embarked\"] = 2"
   ]
  },
  {
   "cell_type": "code",
   "execution_count": 34,
   "id": "05cb92bf",
   "metadata": {},
   "outputs": [
    {
     "name": "stdout",
     "output_type": "stream",
     "text": [
      "[[3 0 34.5 2]\n",
      " [3 1 47.0 0]\n",
      " [2 0 62.0 2]\n",
      " ...\n",
      " [3 0 38.5 0]\n",
      " [3 0 27.0 0]\n",
      " [3 0 27.0 1]]\n"
     ]
    }
   ],
   "source": [
    "train_X = data\n",
    "train_Y = train[\"Survived\"].values\n",
    "pred_X  = np.array(test[[\"Pclass\",\"Sex\",\"Age\",\"Embarked\"]].values)\n",
    "#print(train_X)\n",
    "#print(train_Y)\n",
    "print(pred_X)"
   ]
  },
  {
   "cell_type": "markdown",
   "id": "1b6aad64",
   "metadata": {},
   "source": [
    "Define linear classification model: $h_\\theta(x)  = \\frac{1}{1+e^{-\\theta^{T}x}}$ where $\\theta^Tx = \\theta_0 + \\theta_1x_1 + \\theta_2x_2 + \\theta_3x_3 + \\theta_4x_4$ <br>\n",
    "$x_1 :$ Pclass of data <br>\n",
    "$x_2 :$ Sex of data <br>\n",
    "$x_3 :$ Age of data <br>\n",
    "$x_4 :$ Embarked of data <br>\n",
    "$\\theta_i :$ Parameter in model for each feature while $\\theta_0$ is bias <br>"
   ]
  },
  {
   "cell_type": "code",
   "execution_count": 77,
   "id": "5070c46b",
   "metadata": {},
   "outputs": [
    {
     "data": {
      "text/plain": [
       "'\\nclass LogisticRegression:\\n    def __init__(self):\\n        self.coef = None\\n    def fit(self, x, y):\\n        pass\\n'"
      ]
     },
     "execution_count": 77,
     "metadata": {},
     "output_type": "execute_result"
    }
   ],
   "source": [
    "\"\"\"\n",
    "class LogisticRegression:\n",
    "    def __init__(self):\n",
    "        self.coef = None\n",
    "    def fit(self, x, y):\n",
    "        pass\n",
    "\"\"\""
   ]
  },
  {
   "cell_type": "code",
   "execution_count": 78,
   "id": "13534991",
   "metadata": {},
   "outputs": [],
   "source": [
    "from sklearn.linear_model import LogisticRegression\n",
    "reg = LogisticRegression().fit(train_X, train_Y)"
   ]
  },
  {
   "cell_type": "code",
   "execution_count": 79,
   "id": "f3291274",
   "metadata": {},
   "outputs": [
    {
     "data": {
      "text/plain": [
       "0.7901234567901234"
      ]
     },
     "execution_count": 79,
     "metadata": {},
     "output_type": "execute_result"
    }
   ],
   "source": [
    "reg.score(train_X, train_Y)"
   ]
  },
  {
   "cell_type": "code",
   "execution_count": 80,
   "id": "324bc873",
   "metadata": {},
   "outputs": [],
   "source": [
    "pred_Y = reg.predict(pred_X)"
   ]
  },
  {
   "cell_type": "code",
   "execution_count": 85,
   "id": "58375b8c",
   "metadata": {},
   "outputs": [],
   "source": [
    "output = pd.DataFrame({'PassengerId': test[\"PassengerId\"], 'Survived': pred_Y})"
   ]
  },
  {
   "cell_type": "code",
   "execution_count": 86,
   "id": "e5060af4",
   "metadata": {},
   "outputs": [
    {
     "data": {
      "text/html": [
       "<div>\n",
       "<style scoped>\n",
       "    .dataframe tbody tr th:only-of-type {\n",
       "        vertical-align: middle;\n",
       "    }\n",
       "\n",
       "    .dataframe tbody tr th {\n",
       "        vertical-align: top;\n",
       "    }\n",
       "\n",
       "    .dataframe thead th {\n",
       "        text-align: right;\n",
       "    }\n",
       "</style>\n",
       "<table border=\"1\" class=\"dataframe\">\n",
       "  <thead>\n",
       "    <tr style=\"text-align: right;\">\n",
       "      <th></th>\n",
       "      <th>PassengerId</th>\n",
       "      <th>Survived</th>\n",
       "    </tr>\n",
       "  </thead>\n",
       "  <tbody>\n",
       "    <tr>\n",
       "      <th>0</th>\n",
       "      <td>892</td>\n",
       "      <td>0</td>\n",
       "    </tr>\n",
       "    <tr>\n",
       "      <th>1</th>\n",
       "      <td>893</td>\n",
       "      <td>0</td>\n",
       "    </tr>\n",
       "    <tr>\n",
       "      <th>2</th>\n",
       "      <td>894</td>\n",
       "      <td>0</td>\n",
       "    </tr>\n",
       "    <tr>\n",
       "      <th>3</th>\n",
       "      <td>895</td>\n",
       "      <td>0</td>\n",
       "    </tr>\n",
       "    <tr>\n",
       "      <th>4</th>\n",
       "      <td>896</td>\n",
       "      <td>1</td>\n",
       "    </tr>\n",
       "    <tr>\n",
       "      <th>5</th>\n",
       "      <td>897</td>\n",
       "      <td>0</td>\n",
       "    </tr>\n",
       "  </tbody>\n",
       "</table>\n",
       "</div>"
      ],
      "text/plain": [
       "   PassengerId  Survived\n",
       "0          892         0\n",
       "1          893         0\n",
       "2          894         0\n",
       "3          895         0\n",
       "4          896         1\n",
       "5          897         0"
      ]
     },
     "execution_count": 86,
     "metadata": {},
     "output_type": "execute_result"
    }
   ],
   "source": [
    "output.head(6)"
   ]
  },
  {
   "cell_type": "code",
   "execution_count": 87,
   "id": "8f6009ab",
   "metadata": {},
   "outputs": [],
   "source": [
    "output.to_csv('HW_1_submission.csv', index=False)"
   ]
  }
 ],
 "metadata": {
  "kernelspec": {
   "display_name": "Python 3 (ipykernel)",
   "language": "python",
   "name": "python3"
  },
  "language_info": {
   "codemirror_mode": {
    "name": "ipython",
    "version": 3
   },
   "file_extension": ".py",
   "mimetype": "text/x-python",
   "name": "python",
   "nbconvert_exporter": "python",
   "pygments_lexer": "ipython3",
   "version": "3.9.7"
  }
 },
 "nbformat": 4,
 "nbformat_minor": 5
}
