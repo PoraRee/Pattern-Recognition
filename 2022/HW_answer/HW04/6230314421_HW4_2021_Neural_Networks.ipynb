{
 "cells": [
  {
   "cell_type": "markdown",
   "id": "3bc31881",
   "metadata": {},
   "source": [
    "# Homework 4 Neural Networks"
   ]
  },
  {
   "cell_type": "markdown",
   "id": "c6593edb",
   "metadata": {},
   "source": [
    "## Instructions\n",
    "Answer the questions and upload your answers to courseville. Answers can be\n",
    "in Thai or English. Answers can be either typed or handwritten and scanned.\n",
    "the assignment is divided into several small tasks. Each task is weighted equally (marked with **T**). For this assignment, each task is awarded equally. There are also optional tasks (marked with **OT**) counts for half of the required task."
   ]
  },
  {
   "cell_type": "markdown",
   "id": "a6f36beb",
   "metadata": {},
   "source": [
    "## The Basics\n",
    "In this section, we will review some of the basic materials taught in class. These\n",
    "are simple tasks and integral to the understanding of deep neural networks, but\n",
    "many students seem to misunderstand."
   ]
  },
  {
   "cell_type": "markdown",
   "id": "068b69d0",
   "metadata": {},
   "source": [
    "&emsp; **T1.** Compute the forward and backward pass of the following computation.\n",
    "Note that this is a simplified residual connection.\n",
    "$$ x_1 = ReLU(x_0 ∗ w_0 + b_0) $$\n",
    "$$ y_1 = x_1 ∗ w_1 + b_1 $$\n",
    "$$ z = ReLU(y_1 + x_0) $$\n",
    "&emsp; Let $x_0 = 1.0, w_0 = 0.3, w_1 = −0.2, b_0 = 0.1, b_1 = −0.3$. Find the gradient\n",
    "of $z$ with respect to $w_0, w_1, b_0,$ and $b_1$."
   ]
  },
  {
   "cell_type": "markdown",
   "id": "8927c558",
   "metadata": {},
   "source": [
    "\\begin{equation}\n",
    "\\begin{split}\n",
    "x_1 \\\n",
    "& = ReLU(x_0 ∗ w_0 + b_0) \\\\\n",
    "& = ReLU(1.0 * 0.3 + 0.1) \\\\\n",
    "& = ReLU(0.4) \\\\\n",
    "& = 0.4 \\\\\n",
    "\\\n",
    "y_1 \\\n",
    "& = x_1 ∗ w_1 + b_1 \\\\\n",
    "& = 0.4 * (-0.2) - 0.3 \\\\\n",
    "& = -0.38 \\\\\n",
    "\\\n",
    "z \\\n",
    "& = ReLU(y_1 + x_0) \\\\\n",
    "& = ReLU(-0.38 + 1.0) \\\\\n",
    "& = ReLU(0.62) \\\\\n",
    "& = 0.62 \\\\\n",
    "\\end{split}\n",
    "\\end{equation}"
   ]
  },
  {
   "cell_type": "markdown",
   "id": "d91eca2f",
   "metadata": {},
   "source": [
    "\\begin{equation}\n",
    "\\begin{split}\n",
    "\\frac{\\partial z}{\\partial w_0} \\\n",
    "& = \\frac{\\partial z}{\\partial y_1} * \\frac{\\partial y_1}{\\partial x_1} * \\frac{\\partial x_1}{\\partial w_0} \\\\\n",
    "\\\n",
    "\\frac{\\partial z}{\\partial w_1} \\\n",
    "& = \\frac{\\partial z}{\\partial y_1} * \\frac{\\partial y_1}{\\partial w_1} \\\\\n",
    "\\\n",
    "\\frac{\\partial z}{\\partial b_0} \\\n",
    "& = \\frac{\\partial z}{\\partial y_1} * \\frac{\\partial y_1}{\\partial x_1} * \\frac{\\partial x_1}{\\partial b_0} \\\\\n",
    "\\\n",
    "\\frac{\\partial z}{\\partial b_1} \\\n",
    "& = \\frac{\\partial z}{\\partial y_1} * \\frac{\\partial y_1}{\\partial b_1} \\\\\n",
    "\\end{split}\n",
    "\\end{equation}"
   ]
  },
  {
   "cell_type": "markdown",
   "id": "7f0fea2f",
   "metadata": {},
   "source": [
    "&emsp; find $\\frac{\\partial z}{\\partial w_0}$\n",
    "\\begin{equation}\n",
    "\\begin{split}\n",
    "\\frac{\\partial z}{\\partial y_1} \\\n",
    "& =  \\frac{\\partial}{\\partial y_1} ReLU(y_1 + x_0) \\\\\n",
    "& =  \\frac{\\partial ReLU(y_1+x_0)}{\\partial (y_1 + x_0)} * \\frac{\\partial (y_1 + x_0)}{\\partial y_1}\\\\\n",
    "& =  \\begin{cases}\n",
    "1 & ; \\;y_1 + x_0 > 0 \\\\\n",
    "0 & ; \\;y_1 + x_0 < 0\n",
    "\\end{cases} \\\\\n",
    "\\\n",
    "\\frac{\\partial z}{\\partial y_1}\\Big|_{x_0 = 1.0, y_1 = -0.38} \\\n",
    "& =  1 \\\\\n",
    "\\\n",
    "\\frac{\\partial y_1}{\\partial x_1}\\\n",
    "& =  \\frac{\\partial}{\\partial x_1} (x_1*w_1 + b_1) \\\\\n",
    "& =  w_1 \\\\\n",
    "\\\n",
    "\\frac{\\partial y_1}{\\partial x_1}\\Big|_{x_1 = 0.4, w_1 = -0.2, b_1 = -0.3} \\\n",
    "& =  -0.2 \\\\\n",
    "\\\n",
    "\\frac{\\partial x_1}{\\partial w_0} \\\n",
    "& =  \\frac{\\partial}{\\partial w_0} ReLU(x_0 * w_0 + b_0) \\\\\n",
    "& =  \\frac{\\partial ReLU(x_0 * w_0 + b_0)}{\\partial (x_0 * w_0 + b_0)} * \\frac{\\partial (x_0 * w_0 + b_0)}{\\partial w_0} \\\\\n",
    "& =  \\begin{cases}\n",
    "x_0 & ; \\;x_0 * w_0 + b_0 > 0 \\\\\n",
    "0   & ; \\;x_0 * w_0 + b_0 < 0\n",
    "\\end{cases} \\\\\n",
    "\\\n",
    "\\frac{\\partial x_1}{\\partial w_0}\\Big|_{x_0 = 1.0, w_0 = 0.3, b_0 = 0.1} \\\n",
    "& =  x_0 \\\\\n",
    "& =  1.0 \\\\\n",
    "\\\n",
    "\\therefore \\frac{\\partial z}{\\partial w_0}\\Big|_{x_0,x_1,w_0,w_1,b_0,b_1} \\\n",
    "& =  1 * (-0.2) * 1 \\\\\n",
    "& =  -0.2 \\\\\n",
    "\\end{split}\n",
    "\\end{equation}"
   ]
  },
  {
   "cell_type": "markdown",
   "id": "9a4af80f",
   "metadata": {},
   "source": [
    "&emsp; find $\\frac{\\partial z}{\\partial w_1}$\n",
    "\\begin{equation}\n",
    "\\begin{split}\n",
    "\\frac{\\partial y_1}{\\partial w_1} \\\n",
    "& = \\frac{\\partial}{\\partial w_1} (x_1*w_1 + b_1)\\\\\n",
    "& = x_1\\\\\n",
    "\\\n",
    "\\frac{\\partial y_1}{\\partial w_1}\\Big|_{x_1 = 0.4, w_1 = -0.2, b_1 = −0.3} \\\n",
    "& = 0.4\\\\\n",
    "\\\n",
    "\\therefore \\frac{\\partial z}{\\partial w_1}\\Big|_{x_0,x_1,w_0,w_1,b_0,b_1} \\\n",
    "& = 1 * 0.4\\\\\n",
    "& = 0.4\\\\\n",
    "\\\n",
    "\\end{split}\n",
    "\\end{equation}"
   ]
  },
  {
   "cell_type": "markdown",
   "id": "3f599f67",
   "metadata": {},
   "source": [
    "&emsp; find $\\frac{\\partial z}{\\partial b_0}$\n",
    "\\begin{equation}\n",
    "\\begin{split}\n",
    "\\frac{\\partial x_1}{\\partial b_0} \\\n",
    "& = \\frac{\\partial}{\\partial b_0} ReLU(x_0*w_0 + b_0) \\\\\n",
    "& = \\frac{\\partial ReLU(x_0*w_0 + b_0)}{\\partial (x_0*w_0 + b_0)} * \\frac{\\partial (x_0*w_0 + b_0)}{\\partial b_0}  \\\\\n",
    "& =  \\begin{cases}\n",
    "1 & ; \\;x_0*w_0 + b_0 > 0 \\\\\n",
    "0 & ; \\;x_0*w_0 + b_0 < 0\n",
    "\\end{cases} \\\\\n",
    "\\\n",
    "\\frac{\\partial x_1}{\\partial b_0}\\Big|_{x_0 = 1.0, w_0 = 0.3, b_0 = 0.1} \\\n",
    "& = 1\\\\\n",
    "\\\n",
    "\\therefore \\frac{\\partial z}{\\partial b_0}\\Big|_{x_0,x_1,w_0,w_1,b_0,b_1} \\\n",
    "& = 1 * (-0.2) * 1\\\\\n",
    "& = -0.2 \\\\\n",
    "\\\n",
    "\\end{split}\n",
    "\\end{equation}"
   ]
  },
  {
   "cell_type": "markdown",
   "id": "487a7f5f",
   "metadata": {},
   "source": [
    "&emsp; find $\\frac{\\partial z}{\\partial b_1}$\n",
    "\\begin{equation}\n",
    "\\begin{split}\n",
    "\\frac{\\partial y_1}{\\partial b_1} \\\n",
    "& = \\frac{\\partial}{\\partial b_1} (x_1 * w_1 + b_1) \\\\\n",
    "& = 1 \\\\\n",
    "\\\n",
    "\\frac{\\partial x_1}{\\partial b_0}\\Big|_{x_0 = 1.0, w_0 = 0.3, b_0 = 0.1} \\\n",
    "& = 1\\\\\n",
    "\\\n",
    "\\therefore \\frac{\\partial z}{\\partial b_1}\\Big|_{x_0,x_1,w_0,w_1,b_0,b_1} \\\n",
    "& = 1 * 1\\\\\n",
    "& = 1 \\\\\n",
    "\\\n",
    "\\end{split}\n",
    "\\end{equation}"
   ]
  },
  {
   "cell_type": "markdown",
   "id": "88776432",
   "metadata": {},
   "source": [
    "&emsp; **T2.** Given the following network architecture specifications, determine the size of the output A, B, and C."
   ]
  },
  {
   "attachments": {
    "image.png": {
     "image/png": "[encoded data removed]"
    }
   },
   "cell_type": "markdown",
   "id": "e456d7b6",
   "metadata": {},
   "source": [
    "![image.png](attachment:image.png)"
   ]
  },
  {
   "cell_type": "markdown",
   "id": "7f19240b",
   "metadata": {},
   "source": [
    "&emsp; A = 32x1024 = 32768 <br>\n",
    "&emsp; B = 32x512 = 16384 <br>\n",
    "&emsp; C = 32x1 = 32 <br>"
   ]
  },
  {
   "cell_type": "markdown",
   "id": "89b769a7",
   "metadata": {},
   "source": [
    "&emsp; **T3.** What is the total number of learnable parameters in this network? (Don’t forget the bias term)"
   ]
  },
  {
   "cell_type": "markdown",
   "id": "1b4eb4a3",
   "metadata": {},
   "source": [
    "&emsp; In the first layer, it has (30+1) * 1024 = 31744 parameters to learn. <br>\n",
    "&emsp; In the second layer, it has (1024+1) * 512 = 524800 parameters to learn. <br>\n",
    "&emsp; In the third layer, it has (512+1) * 1 = 513 parameters to learn. <br>\n",
    "&emsp; From this model, it has 31744 + 524800 + 513 = 557057 parameters to learn."
   ]
  },
  {
   "cell_type": "markdown",
   "id": "2475cb19",
   "metadata": {},
   "source": [
    "## Deep Learning from (almost) scratch\n",
    "In this section we will code simple a neural network model from scratch (numpy). However, before we go into coding let’s start with some loose ends, namely the gradient of the softmax layer. <br>\n",
    "&emsp; Recall in class we define the softmax layer as: <br>\n",
    "$$ P(y=j) = \\frac{exp(h)}{\\Sigma_k exp(h_k)} $$\n",
    "&emsp; where $h_j$ is the output of the previous layer for class index $j$ <br>\n",
    "&emsp; The cross entropy loss is defined as: <br>\n",
    "$$ L = -\\Sigma_j y_jlogP(y=j) $$\n",
    "&emsp; where $y_j$ is 1 if $y$ is class $j$, and 0 otherwise."
   ]
  },
  {
   "cell_type": "markdown",
   "id": "0a332c51",
   "metadata": {},
   "source": [
    "&emsp; **T4.** Prove that the derivative of the loss with respect to $h_i$ is $P(y=i)−y_i$. In other words, find $\\frac{\\partial L}{\\partial h_i}$ for $i \\in \\{0, ..., N − 1\\}$ where $N$ is the number of classes. <br>\n",
    "Hint: first find $\\frac{\\partial P(y=j)}{\\partial h_i}$ for the case where $j = i$, and the case where $j \\ne i$.\n",
    "Then, use the results with chain rule to find the derivative of the loss. <br>"
   ]
  },
  {
   "cell_type": "markdown",
   "id": "1b465f9b",
   "metadata": {},
   "source": [
    "Consider $\\frac{\\partial}{\\partial h_i} P(y=j)$ <br>\n",
    "When $j = i$ <br>\n",
    "\\begin{equation}\n",
    "\\begin{split}\n",
    "\\frac{\\partial}{\\partial h_j} P(y=j) \\\n",
    "& = \\frac{\\partial}{\\partial h_j} \\frac{exp(h_j)}{\\Sigma_k exp(h_k)} \\\\\n",
    "& = \\frac{\\Sigma_k exp(h_k) \\frac{\\partial}{\\partial h_j} exp(h_j) - exp(h_j) \\frac{\\partial}{\\partial h_j} \\Sigma_k exp(h_k)}{(\\Sigma_k exp(h_k))^2} \\\\\n",
    "& = \\frac{exp(h_j)(\\Sigma_k exp(h_k)) - exp(h_j)exp(h_j)}{(\\Sigma_k exp(h_k))^2} \\\\\n",
    "& = \\frac{exp(h_j)}{\\Sigma_k exp(h_k)}(1 - \\frac{exp(h_j)}{\\Sigma_k exp(h_k)}) \\\\\n",
    "& = P(y=j)(1-P(y=j)) \\\\\n",
    "\\\n",
    "\\end{split}\n",
    "\\end{equation}"
   ]
  },
  {
   "cell_type": "markdown",
   "id": "3ee18b58",
   "metadata": {},
   "source": [
    "When $j \\ne i$ <br>\n",
    "\\begin{equation}\n",
    "\\begin{split}\n",
    "\\frac{\\partial}{\\partial h_i} P(y=j) \\\n",
    "& = \\frac{\\partial}{\\partial h_i} \\frac{exp(h_j)}{\\Sigma_k exp(h_k)} \\\\\n",
    "& = exp(h_j) \\frac{\\partial}{\\partial h_i} \\frac{1}{\\Sigma_k exp(h_k)} \\\\\n",
    "& = exp(h_j) \\frac{\\partial}{\\partial (\\Sigma_k exp(h_k))} \\frac{1}{\\Sigma_k exp(h_k)} \\frac{\\partial}{\\partial h_i} \\Sigma_k exp(h_k)\\\\\n",
    "& = exp(h_j) (-\\frac{1}{(\\Sigma_k exp(h_k))^2}) exp(h_i) \\\\\n",
    "& = -\\frac{exp(h_j)}{\\Sigma_k exp(h_k)} \\frac{exp(h_i)}{\\Sigma_k exp(h_k)} \\\\\n",
    "& = -P(y=j)P(y=i) \\\\\n",
    "& = P(y=j)(-P(y=i)) \\\\\n",
    "\\\n",
    "\\end{split}\n",
    "\\end{equation}"
   ]
  },
  {
   "cell_type": "markdown",
   "id": "b33e7564",
   "metadata": {},
   "source": [
    "\\begin{equation}\n",
    "\\begin{split}\n",
    "\\therefore \\frac{\\partial}{\\partial h_i} P(y=j) \\\n",
    "& = P(y=j)(1(i=j)-P(y=i)) \\\\\n",
    "\\\n",
    "\\end{split}\n",
    "\\end{equation}"
   ]
  },
  {
   "cell_type": "markdown",
   "id": "0828ddbf",
   "metadata": {},
   "source": [
    "Consider $\\frac{\\partial L}{\\partial h_i}$\n",
    "\\begin{equation}\n",
    "\\begin{split}\n",
    "\\frac{\\partial L}{\\partial h_i} \\\n",
    "& = \\frac{\\partial}{\\partial h_i} (-\\Sigma_jy_jlogP(y=j)) \\\\\n",
    "& = -\\Sigma_jy_j \\frac{\\partial}{\\partial h_i} (logP(y=j)) \\\\\n",
    "& = -\\Sigma_jy_j \\frac{1}{P(y=j)} \\frac{\\partial}{\\partial h_i} (P(y=j)) \\\\\n",
    "& = -\\Sigma_jy_j \\frac{1}{P(y=j)} P(y=j)(1(i=j)-P(y=i)) \\\\\n",
    "& = -\\Sigma_jy_j (1(i=j)-P(y=i)) \\\\\n",
    "& = -\\Sigma_jy_j1(i=j) + \\Sigma_jy_jP(y=i) \\\\\n",
    "& = -y_j + \\Sigma_jy_jP(y=i) \\\\\n",
    "& = -y_j + P(y=i)\\Sigma_jy_j \\\\\n",
    "& = -y_j + P(y=i)(1) \\\\\n",
    "& = -y_j + P(y=i) \\\\\n",
    "& = P(y=i) - y_j  \\\\\n",
    "\\\n",
    "\\end{split}\n",
    "\\end{equation}"
   ]
  },
  {
   "cell_type": "markdown",
   "id": "c962742f",
   "metadata": {},
   "source": [
    "Next, we will code a simple neural network using numpy. Use the starter code **hw4.zip** on github. There are 8 tasks you need to complete in the starter code."
   ]
  },
  {
   "cell_type": "markdown",
   "id": "4a2181e1",
   "metadata": {},
   "source": [
    "&emsp; **Hints:** In order to do this part of the assignment, you will need to find gradients of vectors over matrices. We have done gradients of scalars (Traces) over matrices before, which is a matrix (two-dimensional). However, gradients of vectors over matrices will be a tensor (three-dimensional), and the properties we learned will not work. I highly recommend you find the gradients in parts. In other words, compute the gradient for each element in the the matrix/vector separately. Then, combine the result back into matrices. For more information, you can read this simple guide http://cs231n.stanford.edu/vecDerivs.pdf <br>\n",
    "&emsp; **Happy coding.**"
   ]
  },
  {
   "cell_type": "code",
   "execution_count": null,
   "id": "07899a80",
   "metadata": {},
   "outputs": [],
   "source": []
  }
 ],
 "metadata": {
  "kernelspec": {
   "display_name": "Python 3 (ipykernel)",
   "language": "python",
   "name": "python3"
  },
  "language_info": {
   "codemirror_mode": {
    "name": "ipython",
    "version": 3
   },
   "file_extension": ".py",
   "mimetype": "text/x-python",
   "name": "python",
   "nbconvert_exporter": "python",
   "pygments_lexer": "ipython3",
   "version": "3.7.11"
  }
 },
 "nbformat": 4,
 "nbformat_minor": 5
}
